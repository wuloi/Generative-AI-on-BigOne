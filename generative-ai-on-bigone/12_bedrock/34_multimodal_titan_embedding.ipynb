{
 "cells": [
  {
   "cell_type": "markdown",
   "id": "73bf5c46-111a-4d45-8bc2-cbd79fa45108",
   "metadata": {},
   "source": [
    "# Create Embeddings with Amazon Titan Multimodal Embeddings"
   ]
  },
  {
   "cell_type": "code",
   "execution_count": 1,
   "id": "e221d977-12e3-4581-bff2-c2dae867f2a5",
   "metadata": {
    "scrolled": true,
    "tags": []
   },
   "outputs": [],
   "source": [
    "import boto3\n",
    "import json\n",
    "import base64"
   ]
  },
  {
   "cell_type": "code",
   "execution_count": null,
   "id": "9079996a-ed7c-42a3-9739-c157629919cf",
   "metadata": {},
   "outputs": [],
   "source": [
    "bedrock = boto3.client(service_name=\"bedrock\")\n",
    "bedrock_runtime = boto3.client(service_name=\"bedrock-runtime\")"
   ]
  },
  {
   "cell_type": "markdown",
   "id": "8e631c72-bb54-40e5-9085-3387c82d1990",
   "metadata": {
    "tags": []
   },
   "source": [
    "## List Bedrock Models by Provider"
   ]
  },
  {
   "cell_type": "code",
   "execution_count": 9,
   "id": "3c864d13-a647-4aa9-8297-3fcccd72750b",
   "metadata": {
    "scrolled": true,
    "tags": []
   },
   "outputs": [],
   "source": [
    "response = bedrock.list_foundation_models(\n",
    "    byProvider=\"amazon\",\n",
    "    byOutputModality=\"EMBEDDING\",\n",
    ")"
   ]
  },
  {
   "cell_type": "code",
   "execution_count": 10,
   "id": "252b18e8-bc11-4c31-8e05-11f48cefea4e",
   "metadata": {
    "tags": []
   },
   "outputs": [
    {
     "name": "stdout",
     "output_type": "stream",
     "text": [
      "-----\n",
      "modelArn: arn:aws:bedrock:us-east-1::foundation-model/amazon.titan-embed-g1-text-02\n",
      "modelId: amazon.titan-embed-g1-text-02\n",
      "modelName: Titan Text Embeddings v2\n",
      "customizationsSupported: \n",
      "-----\n",
      "modelArn: arn:aws:bedrock:us-east-1::foundation-model/amazon.titan-embed-text-v1\n",
      "modelId: amazon.titan-embed-text-v1\n",
      "modelName: Titan Embeddings G1 - Text\n",
      "customizationsSupported: \n",
      "-----\n",
      "modelArn: arn:aws:bedrock:us-east-1::foundation-model/amazon.titan-embed-image-v1\n",
      "modelId: amazon.titan-embed-image-v1\n",
      "modelName: Titan Multimodal Embeddings G1\n",
      "customizationsSupported: \n"
     ]
    }
   ],
   "source": [
    "for model in response[\"modelSummaries\"]:\n",
    "    print(\"-----\\n\" + \"modelArn: \" + model[\"modelArn\"] + \"\\nmodelId: \" + model[\"modelId\"] + \"\\nmodelName: \" + model[\"modelName\"] + \"\\ncustomizationsSupported: \" + ','.join(model[\"customizationsSupported\"]))"
   ]
  },
  {
   "cell_type": "code",
   "execution_count": 11,
   "id": "3a506495-50f0-4063-8f23-5564225cffd4",
   "metadata": {
    "tags": []
   },
   "outputs": [],
   "source": [
    "model_id = 'amazon.titan-embed-image-v1'"
   ]
  },
  {
   "cell_type": "markdown",
   "id": "3cfa8410-6adb-4b41-a8c5-f00d4c336cf1",
   "metadata": {},
   "source": [
    "## Create Embeddings"
   ]
  },
  {
   "cell_type": "code",
   "execution_count": 13,
   "id": "76b3604d-17d3-46ef-a81b-6d725e38c558",
   "metadata": {
    "tags": []
   },
   "outputs": [],
   "source": [
    "image_path = \"images/iguana.png\""
   ]
  },
  {
   "cell_type": "code",
   "execution_count": 15,
   "id": "ab9de411-901d-4809-905c-1a3543916e56",
   "metadata": {
    "tags": []
   },
   "outputs": [],
   "source": [
    "# MAX image size supported is 2048 * 2048 pixels\n",
    "with open(image_path, \"rb\") as image_file:\n",
    "    input_image = base64.b64encode(image_file.read()).decode('utf8')\n",
    "\n",
    "caption = \"\"\"\n",
    "Iguanas are some of the largest lizards found in the Americas, \n",
    "with their whiplike tail making up about half of that length. \n",
    "Like other reptiles, iguanas are cold-blooded, egg-laying \n",
    "animals with an excellent ability to adapt to their environment.\n",
    "\"\"\"\n",
    "    \n",
    "body = json.dumps(\n",
    "    {\n",
    "        \"inputText\": caption,\n",
    "        \"inputImage\": input_image\n",
    "    }\n",
    ")"
   ]
  },
  {
   "cell_type": "code",
   "execution_count": 16,
   "id": "4e380f9f-319a-4fcb-81aa-719109e7cf3f",
   "metadata": {
    "tags": []
   },
   "outputs": [],
   "source": [
    "accept = \"application/json\"\n",
    "contentType = \"application/json\""
   ]
  },
  {
   "cell_type": "code",
   "execution_count": 17,
   "id": "4158e0e9-1551-4e0c-a98d-306d9d4dae8a",
   "metadata": {
    "scrolled": true,
    "tags": []
   },
   "outputs": [
    {
     "name": "stdout",
     "output_type": "stream",
     "text": [
      "[-0.0030756043, -0.0064968495, -0.014071875, 0.0032007382, 0.038745865, 0.0056026867, 0.03176527, -0.009379013, 0.016338592, 0.01718822, 0.030594299, 0.0023230612, 0.017900161, -0.064115465, -0.00793298, -0.005637002, -0.0007167272, 0.012588585, 0.02326906, 8.284254e-05, 0.04939924, 0.05567495, -0.038391493, -0.0282769, 0.031910866, -0.031488717, 0.028242955, -0.013097766, -0.01013419, -0.053066686, 0.021569256, 0.0088872835, 0.028297089, 0.02068511, -0.0045850873, -0.010927911, 0.04207471, -0.015389643, -0.006501735, 0.039747845, 0.0033759763, 0.001488219, -0.04042676, 0.020306505, -0.0067047672, 0.022990951, 0.007837293, -0.003428011, -0.00905579, 0.026381774, -0.0002951324, 0.031601142, 0.050435744, -0.033832308, -0.03046862, 0.0019975086, -0.014239862, -0.019913146, -0.034021687, -0.019597933, -0.029390536, -0.0064940434, 0.055267088, 0.016313484, 0.007588245, 0.018254373, 0.021423511, 0.012630669, 0.007685254, -0.033530414, -0.0028184815, -0.0027679969, -0.010622705, -0.058806814, -0.0025683416, 0.03707454, -0.01898749, -0.009310765, -0.01303109, -0.0011384883, 0.0022749417, 0.02457959, 0.0013524236, 0.011207715, -0.021505712, 0.00039500184, 0.034196, -0.016714312, -0.018697148, -0.010699901, 0.019672455, 0.00875572, 0.002088068, -0.032817017, -0.030590063, -0.004264027, -0.020846093, 0.016577061, -0.028175019, 0.016626982, -0.037765536, -0.028287048, -0.0007841191, -0.008763289, 0.0059756404, -0.010102809, -0.026777796, 0.03719472, -0.0059273895, -0.03158891, -0.017083254, -0.017505325, -0.03214403, -0.024189135, 0.018088214, 0.016966518, 0.025493393, 0.007940535, 0.012647217, -0.024791567, 0.043660372, -0.015068766, 0.016634135, 0.022356277, -0.00046631694, 0.00040559564, -0.013808688, 0.03707302, 0.005257964, -0.03239162, -0.02726702, 0.0010451265, -0.0012405461, 0.06495082, 0.04500832, -0.022744928, -0.051671818, 0.014429751, 0.0034082206, 0.0020209104, -0.020031374, 0.008547276, 0.008923566, -0.033369124, -0.009663945, 0.028363299, 0.03530091, -0.0060073347, -0.008219894, 0.0018781646, 0.0020169246, 0.036250874, 0.06729117, 0.014665382, -0.03028818, 0.01467558, -0.0057278937, 0.009547061, -0.008303921, 0.015079818, -0.0070432816, 0.0100165885, 0.01940741, -0.0063653793, -0.015721181, -0.026415193, -0.011464258, 0.022292105, -0.04875155, 0.030030563, -0.02265393, -0.0066134105, 0.018471211, -0.014561513, -0.017408118, 0.025210813, 0.004006827, -0.004701669, -0.025958998, -0.0049838647, -0.02057481, -0.015728084, -0.016505372, -0.0005888529, 0.04057033, -0.035009075, -0.0133816, 0.020055147, -0.04594111, 0.003896796, 0.04140693, 0.022609672, -0.023477037, 0.0020824103, 0.024212126, -0.016522009, 0.019985631, 0.0013955692, -0.009305036, -0.030866211, -0.010787368, 0.043113407, -0.015914977, -0.008371541, -0.014497968, 0.0071918303, -0.026660908, 0.0052470015, -0.04451392, -0.03804796, -0.005670151, 0.002821084, 0.0011536281, -0.00545637, -0.016502079, -0.028717276, 0.005236941, -0.021561017, 0.017936802, -0.011920212, 0.010286229, -0.031544663, -0.012952437, -0.01667515, -0.012698763, 0.049346678, 0.033704583, 0.040905476, 0.033684187, -0.01624037, -0.025032884, -0.045852616, 0.029037196, 0.030889122, 0.032939836, -0.020659842, 0.017156763, -0.013770486, 0.03456378, 0.0063531473, -0.025557877, 0.0002518259, 0.018901046, -0.027776172, 0.025590044, 0.024880689, -0.0018104614, -0.14084968, 0.04611197, -0.0053078616, 0.006019531, 0.017817248, 0.012625253, 0.020170314, 0.036332387, -0.017050773, 0.009260628, 0.0006036443, -0.01932986, -0.020821616, -0.009440208, 0.036825374, -0.0784595, 9.766966e-05, -0.005561375, 0.023489904, -0.03331115, -0.008947297, 0.008994171, -0.025035083, 0.022086408, 0.009235925, 0.050812304, 0.0403651, 0.0057273805, -0.029151894, -0.07231237, -0.016414491, -0.020041186, 0.008507268, -0.044277936, -0.03708364, 0.026683498, -0.010119602, 0.008856373, 0.012844839, -0.013601267, 0.015044224, 0.06454161, 0.023449734, -0.003576287, 0.010293432, 0.0028751642, -0.009946141, 0.006933688, -0.009990071, -0.023755072, -0.01830019, -0.027129412, -0.013835996, -0.015359831, 0.020314192, 0.003548828, -0.005548626, -0.058987252, 0.014745088, 0.039999515, -0.0028110705, 0.01755443, 0.019403215, 0.0038532922, -0.029617265, 0.013928883, -0.010140939, -0.036982354, -0.025040021, 0.005656815, 0.024682395, 0.0039109164, -0.033696435, 0.027106825, 0.013537254, 0.029096192, -0.023183629, 0.031164642, 0.05252333, -0.013784921, 0.047321223, -0.00358083, -0.028661732, -0.011357715, -0.017710313, -0.009091099, 0.027145734, -0.009157077, 0.020524444, -0.001656895, -0.013649278, 0.017006604, 0.02964143, 0.025496216, 0.042138256, -0.00050271116, 0.0057634674, 0.027819136, -0.0035620444, -0.00024865265, 0.008495258, -0.0004225684, -0.018976757, -0.022603717, 0.049340248, 0.018583357, -0.01676715, 0.026780149, -0.019037008, 0.024639374, -0.010774509, -0.0014927734, 0.034443434, 0.01594743, 0.048814, 0.019333558, -0.01136791, 0.0343573, -0.01578724, -0.012915368, 0.030805334, -0.013253575, -0.019744001, -0.025533717, 0.0017325114, 0.019775346, -0.015116165, -0.009517205, -0.0046587586, 0.060987454, -0.023535091, 0.040791247, -0.008387393, -0.0042180186, -0.009511833, -0.048167873, -0.013738008, -0.012722611, 0.0061524734, 0.015523011, 0.019973319, 0.041711167, 0.008282973, -0.0049350415, -0.014790593, -0.026624817, -0.04445461, 0.04371435, 0.026144698, -0.03195763, 0.020101747, 0.020911679, 0.028974593, -0.028580451, 0.020256296, -0.027044691, 0.028416963, 0.0102876425, -0.028344158, -0.0035688314, 0.026559547, 0.032150302, 0.015313074, 0.031792015, -0.0011842987, 0.0037347567, 0.018443443, -0.004948947, 0.117523864, 0.054715417, -0.002784471, 0.011143308, 0.06095419, -0.0035022227, -0.0037358925, -0.015449345, -0.021141227, -0.02357934, -0.011622727, -0.015253647, -0.021494728, 0.018367957, 0.026349453, -0.026199609, 0.00061172526, -0.007159313, 0.019897494, -0.02210508, 0.01041367, -0.019449972, -0.019265298, -0.002631298, -0.014070082, 0.03374224, -0.022530913, 0.0041306997, -0.025254976, -0.014706056, -0.013207832, 0.017647529, -0.031635188, -0.044638813, -0.036184903, -0.0028015354, 0.018244883, 0.036645092, 0.0026020715, 0.01006429, 0.0011005541, -0.014241273, 0.022659963, 0.02003302, 0.0010131998, -0.0028965028, 0.011869062, -0.026226128, 0.008379551, -0.002942042, -0.021286594, -0.027325545, 0.010748579, 0.03704002, -0.0073616453, 0.032278724, -0.025770482, -0.0073727034, -0.020124495, 0.008338441, 0.017904952, -0.0066354335, -0.01342397, -0.014605956, -0.013055479, -0.04103162, 0.00969062, 0.051487457, 0.028373035, -0.0057275775, -0.024983613, 0.00471053, 0.012414885, -0.014916895, 0.018750027, 0.00091003254, -0.0153800305, -0.045493934, 0.018468702, 0.032395385, 0.013472961, 0.026779208, -0.0049056, -0.011918957, -0.017800195, 0.030001983, -0.008973738, -0.021435652, -0.009756405, -0.007273226, 0.0021419553, 0.009761502, -0.012222717, 0.032874335, 0.0029931553, -0.03636691, 0.020593636, 0.05209075, 0.011852746, 0.041160125, 0.015662968, -0.00716855, 0.023176959, 0.02061607, -0.014608111, -0.0008086711, 0.048718914, -0.008477686, -0.01120497, 0.0033371598, -0.013550903, -0.023574393, -0.0009195297, -0.011109396, -0.017538583, -0.008031694, -0.024273787, 0.010151842, 0.0123056425, 0.0018178793, -0.031543873, 0.016259119, -0.002291094, -0.008486239, -0.00077984645, -0.022168308, -0.0031029074, 0.028417593, 0.023428397, -0.013373914, -0.045620866, 0.00202813, 0.0057600588, -0.00093674904, 0.03211704, -0.026190827, -0.021467347, 0.042064358, -0.026163995, 0.04183465, -0.011538524, -0.02892784, 0.021590829, -0.002141545, 0.03347236, 0.003591896, -0.04671433, -0.022437591, -0.004375861, -0.023990065, -0.0027512484, -0.03557235, 0.013012571, 0.0044397134, 0.014886534, 0.004384919, -0.02597681, 0.020699365, 0.032274567, -0.01092443, -0.015522698, 0.010915877, 0.059131607, -0.007927938, -0.01897189, 0.018313272, -0.07454385, 0.04246195, 0.021774013, 0.023603734, -0.032733195, 0.010580813, -0.022238918, -0.002872848, 0.008852089, -0.022077307, 0.021062776, -0.01908125, -0.0024886534, 0.028153833, 0.005413453, 0.0008982674, 0.009469081, 0.02549355, 0.023734044, 0.048020698, 0.02498362, 0.0010430925, 0.031211708, 0.009448361, 0.03764441, 0.014055189, 0.020977892, 0.045311615, -0.02811508, -0.05000677, -0.019901225, 0.036495797, 0.005512938, 0.030228872, -0.0029395744, 0.008220992, -0.005982779, -0.04334092, -0.019307975, 0.0010487759, -0.012536538, -0.011556984, -0.01405903, 0.011607036, -0.0018221505, 0.006884263, -0.019726276, -0.0077646403, -0.009507827, -0.025498176, 0.00861725, -0.04867389, 0.035109807, 0.008674527, 0.035537843, -0.009651515, -0.025780369, 0.0027552089, 0.041245013, 0.008591047, 0.028919753, -0.029464286, 0.02849533, -0.00068260403, 0.012108415, 0.025790917, -0.010297207, 0.03447356, 0.016549233, -0.018979242, 0.014670262, -0.012991542, 0.017191827, 0.020044632, -0.0019438658, -0.06991866, -0.0024002963, 0.03194602, 0.026054014, -0.01903073, -0.022899792, 0.008313407, -0.008183455, 0.002541042, -0.0026522055, 0.002796324, -0.03306379, -0.0016077803, 0.00027991273, 0.012417081, -0.033555366, 0.009597577, -0.054715104, 0.013231291, -0.03166437, -0.00488705, -0.0037007043, 0.03404443, 0.02796508, 0.015957948, 0.01178873, 0.016357612, 0.0021880567, 0.037378926, 0.034710012, -0.02838527, 0.019999757, 0.008386767, -0.012460308, 0.023266003, -0.04142639, 0.058616336, -0.034167286, 0.0057816682, 0.012639769, -0.022808943, 0.0036253128, -0.0013628573, 0.00068315305, 0.009899856, -0.018047575, -0.01894475, 0.0014158129, -0.033986513, -0.028524911, -0.013217013, -0.024212494, 0.021042218, 0.03772506, -0.021500923, 0.0062305657, -0.00084272586, 0.050006457, 0.028883588, 0.011221288, 0.0145521015, 0.034248095, 0.045311302, 0.0431382, 0.016650667, 0.005858417, -0.009589813, 0.020635372, 0.030319562, -0.021372814, -0.025181001, 0.023089876, -0.011304055, -0.013910521, 0.005808067, -0.0052627306, -0.0482493, -0.018892923, -0.024801295, 0.023588596, 0.022860052, 0.0137566775, 0.021692976, 0.046716206, -0.055651505, -0.018929526, 0.010952596, 0.00011689449, 0.049116194, -0.03141788, 0.010414023, 0.010703523, 0.044766217, -0.008496121, -0.017004957, -0.015947748, 0.018595792, -0.04482694, 0.023813907, 0.018530209, 0.019661162, 0.031016838, -0.002180159, -0.04380943, -0.016992712, 0.0065291133, 0.007609467, 0.02390334, -0.030620502, -0.032771327, -0.01511159, -0.007540744, -0.0052082296, 0.02169495, 0.07089554, 0.02800101, -0.03489516, 0.04909987, -0.018225873, 0.014183689, 0.019268826, -0.025185551, 0.02091764, -0.0032450585, -0.03141443, 0.044878565, 0.024520986, 0.010075509, -0.029290281, 0.022244412, -0.024886806, 0.012240607, -0.0041127363, -0.026049923, -0.0374624, -0.018977698, -0.05593267, -0.029500214, 0.0229347, 0.02396861, -0.006619608, -0.026621366, -0.010171529, -0.0052744434, 0.015844796, 0.02314613, -0.0056593246, 0.013026376, -0.0040512253, -0.01679251, -0.022516796, -0.054410085, -0.03481514, 0.006965615, -0.04934401, -0.0037038457, 0.014692371, -0.0170574, 0.062527604, 0.012354832, -0.010234449, 0.03133001, -0.009198187, -0.027402345, 0.006355577, -0.019131776, -0.033306364, -0.030266844, -0.019216191, -0.022350788, -0.010724924, -0.01778555, -0.011225954, -0.018655641, 0.051832654, 0.013019629, 0.0127602685, -0.0067273565, -0.01318673, 0.03679211, -0.04502731, -0.012090296, -0.0036550462, -0.029428983, 0.017296169, 0.017743103, 0.026085695, 0.0044022948, -0.0069252145, 0.009966454, -0.019141972, -0.022925524, 0.0041863993, 0.018508008, -0.025371479, -0.015584206, 0.005750463, -0.058670938, 0.018271163, 0.005699494, -0.00077133067, 0.01024826, -0.0056830198, 0.024856523, -0.0077412697, 0.011953166, 0.025552133, -0.036755398, 0.0030457978, -0.00544703, -0.04896642, -0.020906659, -0.0062528267, -0.058616966, -0.016054915, -0.017720904, -0.04891347, -0.024133204, -0.013076816, -0.0179674, -0.03309627, -0.015325157, 0.04188831, -0.036031917, -0.00264534, -0.0051659713, 0.043488648, -0.038196392, -0.026476307, -0.01890442, 0.004565221, 0.029926995, -0.0071431524, -0.051826287, -0.011631984, 0.023083366, -0.015521131, -0.03624248, 0.016277602, -0.04354018, -0.02977825, -0.020504672, -0.01210767, -0.015737029, 0.00554149, -0.026082722, 0.0016634762, -0.036874957, 0.052320775, 0.0047005303, -0.045136034, -0.026404528, -0.0060167494, -6.013259e-05, -0.01734763, -0.0090299845, -0.005765234, 0.057880778, -0.020915441, 0.0038351733, -0.018776702, -0.051301684, -0.05104233, 0.023403294, -0.033666614, 0.037700266, 0.001500851, -0.0034566429, 0.020805214, -0.03769015, 0.033947155, -0.009132682, 0.022475917, 0.016864054, 0.023032997, -0.014200947, 0.011030021, -0.024281323, 0.00010057166, 0.011250396, -0.003131228, 0.013754012, -0.04121928, 0.013775272, -0.033189, -0.0083481595, 0.027843751, 0.0027690167, -0.021787962, 0.01084543, -0.038440846, -0.008948006, 0.024034044, 0.021161543, -0.05299859, 0.009295074, -0.0101624485, -0.0043165106, -0.0012302706, 0.050980825, -0.030229028, 0.0019130344, 0.009043477, -0.018426888, 0.018565197, -0.023331428, 0.031414744, 0.00938043, 0.0065861954, 0.005000648, -0.012537269, 0.034313165, 0.018131834, -0.00523223, -0.040451713, -0.0038532196, -0.0017431108, 0.016002662, -0.021781703, 0.02107203, -0.021215912, -0.007442987, 0.037309892, 0.022744466, -0.021826735, -0.043880355, -0.054234665, -0.038640745, 0.0151178865, 0.01616631, 0.008710299, 0.020474942, -0.0037149834, -0.019854782, -0.03999853, -0.038413227, 0.002479923, -0.014331509, 0.0051238164, -0.02471343, -0.025862584, -0.0076132286, 0.021351479, 0.007846076, 0.018996991, 0.0049690995, 0.030381694, 0.0100454595, 0.009289267, 0.08126618, 0.022497023, 0.015730126, -0.019419923, -0.0026096106, 0.007089724, 0.013571763, 0.008038675, -0.005268478, 0.02195414, 0.0060155313, 0.04049172, 0.00027144002, -0.01741667, -0.007281148, -0.059705243, -0.015160094, 0.010210758, 0.020014193]\n"
     ]
    }
   ],
   "source": [
    "response = bedrock_runtime.invoke_model(\n",
    "    body=body, modelId=model_id, accept=accept, contentType=contentType\n",
    ")\n",
    "response_body = json.loads(response.get(\"body\").read())\n",
    "\n",
    "print(response_body.get(\"embedding\"))"
   ]
  },
  {
   "cell_type": "code",
   "execution_count": null,
   "id": "9e853517-a110-4f39-970c-fd5033188240",
   "metadata": {},
   "outputs": [],
   "source": []
  }
 ],
 "metadata": {
  "availableInstances": [
   {
    "_defaultOrder": 0,
    "_isFastLaunch": true,
    "category": "General purpose",
    "gpuNum": 0,
    "hideHardwareSpecs": false,
    "memoryGiB": 4,
    "name": "ml.t3.medium",
    "vcpuNum": 2
   },
   {
    "_defaultOrder": 1,
    "_isFastLaunch": false,
    "category": "General purpose",
    "gpuNum": 0,
    "hideHardwareSpecs": false,
    "memoryGiB": 8,
    "name": "ml.t3.large",
    "vcpuNum": 2
   },
   {
    "_defaultOrder": 2,
    "_isFastLaunch": false,
    "category": "General purpose",
    "gpuNum": 0,
    "hideHardwareSpecs": false,
    "memoryGiB": 16,
    "name": "ml.t3.xlarge",
    "vcpuNum": 4
   },
   {
    "_defaultOrder": 3,
    "_isFastLaunch": false,
    "category": "General purpose",
    "gpuNum": 0,
    "hideHardwareSpecs": false,
    "memoryGiB": 32,
    "name": "ml.t3.2xlarge",
    "vcpuNum": 8
   },
   {
    "_defaultOrder": 4,
    "_isFastLaunch": true,
    "category": "General purpose",
    "gpuNum": 0,
    "hideHardwareSpecs": false,
    "memoryGiB": 8,
    "name": "ml.m5.large",
    "vcpuNum": 2
   },
   {
    "_defaultOrder": 5,
    "_isFastLaunch": false,
    "category": "General purpose",
    "gpuNum": 0,
    "hideHardwareSpecs": false,
    "memoryGiB": 16,
    "name": "ml.m5.xlarge",
    "vcpuNum": 4
   },
   {
    "_defaultOrder": 6,
    "_isFastLaunch": false,
    "category": "General purpose",
    "gpuNum": 0,
    "hideHardwareSpecs": false,
    "memoryGiB": 32,
    "name": "ml.m5.2xlarge",
    "vcpuNum": 8
   },
   {
    "_defaultOrder": 7,
    "_isFastLaunch": false,
    "category": "General purpose",
    "gpuNum": 0,
    "hideHardwareSpecs": false,
    "memoryGiB": 64,
    "name": "ml.m5.4xlarge",
    "vcpuNum": 16
   },
   {
    "_defaultOrder": 8,
    "_isFastLaunch": false,
    "category": "General purpose",
    "gpuNum": 0,
    "hideHardwareSpecs": false,
    "memoryGiB": 128,
    "name": "ml.m5.8xlarge",
    "vcpuNum": 32
   },
   {
    "_defaultOrder": 9,
    "_isFastLaunch": false,
    "category": "General purpose",
    "gpuNum": 0,
    "hideHardwareSpecs": false,
    "memoryGiB": 192,
    "name": "ml.m5.12xlarge",
    "vcpuNum": 48
   },
   {
    "_defaultOrder": 10,
    "_isFastLaunch": false,
    "category": "General purpose",
    "gpuNum": 0,
    "hideHardwareSpecs": false,
    "memoryGiB": 256,
    "name": "ml.m5.16xlarge",
    "vcpuNum": 64
   },
   {
    "_defaultOrder": 11,
    "_isFastLaunch": false,
    "category": "General purpose",
    "gpuNum": 0,
    "hideHardwareSpecs": false,
    "memoryGiB": 384,
    "name": "ml.m5.24xlarge",
    "vcpuNum": 96
   },
   {
    "_defaultOrder": 12,
    "_isFastLaunch": false,
    "category": "General purpose",
    "gpuNum": 0,
    "hideHardwareSpecs": false,
    "memoryGiB": 8,
    "name": "ml.m5d.large",
    "vcpuNum": 2
   },
   {
    "_defaultOrder": 13,
    "_isFastLaunch": false,
    "category": "General purpose",
    "gpuNum": 0,
    "hideHardwareSpecs": false,
    "memoryGiB": 16,
    "name": "ml.m5d.xlarge",
    "vcpuNum": 4
   },
   {
    "_defaultOrder": 14,
    "_isFastLaunch": false,
    "category": "General purpose",
    "gpuNum": 0,
    "hideHardwareSpecs": false,
    "memoryGiB": 32,
    "name": "ml.m5d.2xlarge",
    "vcpuNum": 8
   },
   {
    "_defaultOrder": 15,
    "_isFastLaunch": false,
    "category": "General purpose",
    "gpuNum": 0,
    "hideHardwareSpecs": false,
    "memoryGiB": 64,
    "name": "ml.m5d.4xlarge",
    "vcpuNum": 16
   },
   {
    "_defaultOrder": 16,
    "_isFastLaunch": false,
    "category": "General purpose",
    "gpuNum": 0,
    "hideHardwareSpecs": false,
    "memoryGiB": 128,
    "name": "ml.m5d.8xlarge",
    "vcpuNum": 32
   },
   {
    "_defaultOrder": 17,
    "_isFastLaunch": false,
    "category": "General purpose",
    "gpuNum": 0,
    "hideHardwareSpecs": false,
    "memoryGiB": 192,
    "name": "ml.m5d.12xlarge",
    "vcpuNum": 48
   },
   {
    "_defaultOrder": 18,
    "_isFastLaunch": false,
    "category": "General purpose",
    "gpuNum": 0,
    "hideHardwareSpecs": false,
    "memoryGiB": 256,
    "name": "ml.m5d.16xlarge",
    "vcpuNum": 64
   },
   {
    "_defaultOrder": 19,
    "_isFastLaunch": false,
    "category": "General purpose",
    "gpuNum": 0,
    "hideHardwareSpecs": false,
    "memoryGiB": 384,
    "name": "ml.m5d.24xlarge",
    "vcpuNum": 96
   },
   {
    "_defaultOrder": 20,
    "_isFastLaunch": false,
    "category": "General purpose",
    "gpuNum": 0,
    "hideHardwareSpecs": true,
    "memoryGiB": 0,
    "name": "ml.geospatial.interactive",
    "supportedImageNames": [
     "sagemaker-geospatial-v1-0"
    ],
    "vcpuNum": 0
   },
   {
    "_defaultOrder": 21,
    "_isFastLaunch": true,
    "category": "Compute optimized",
    "gpuNum": 0,
    "hideHardwareSpecs": false,
    "memoryGiB": 4,
    "name": "ml.c5.large",
    "vcpuNum": 2
   },
   {
    "_defaultOrder": 22,
    "_isFastLaunch": false,
    "category": "Compute optimized",
    "gpuNum": 0,
    "hideHardwareSpecs": false,
    "memoryGiB": 8,
    "name": "ml.c5.xlarge",
    "vcpuNum": 4
   },
   {
    "_defaultOrder": 23,
    "_isFastLaunch": false,
    "category": "Compute optimized",
    "gpuNum": 0,
    "hideHardwareSpecs": false,
    "memoryGiB": 16,
    "name": "ml.c5.2xlarge",
    "vcpuNum": 8
   },
   {
    "_defaultOrder": 24,
    "_isFastLaunch": false,
    "category": "Compute optimized",
    "gpuNum": 0,
    "hideHardwareSpecs": false,
    "memoryGiB": 32,
    "name": "ml.c5.4xlarge",
    "vcpuNum": 16
   },
   {
    "_defaultOrder": 25,
    "_isFastLaunch": false,
    "category": "Compute optimized",
    "gpuNum": 0,
    "hideHardwareSpecs": false,
    "memoryGiB": 72,
    "name": "ml.c5.9xlarge",
    "vcpuNum": 36
   },
   {
    "_defaultOrder": 26,
    "_isFastLaunch": false,
    "category": "Compute optimized",
    "gpuNum": 0,
    "hideHardwareSpecs": false,
    "memoryGiB": 96,
    "name": "ml.c5.12xlarge",
    "vcpuNum": 48
   },
   {
    "_defaultOrder": 27,
    "_isFastLaunch": false,
    "category": "Compute optimized",
    "gpuNum": 0,
    "hideHardwareSpecs": false,
    "memoryGiB": 144,
    "name": "ml.c5.18xlarge",
    "vcpuNum": 72
   },
   {
    "_defaultOrder": 28,
    "_isFastLaunch": false,
    "category": "Compute optimized",
    "gpuNum": 0,
    "hideHardwareSpecs": false,
    "memoryGiB": 192,
    "name": "ml.c5.24xlarge",
    "vcpuNum": 96
   },
   {
    "_defaultOrder": 29,
    "_isFastLaunch": true,
    "category": "Accelerated computing",
    "gpuNum": 1,
    "hideHardwareSpecs": false,
    "memoryGiB": 16,
    "name": "ml.g4dn.xlarge",
    "vcpuNum": 4
   },
   {
    "_defaultOrder": 30,
    "_isFastLaunch": false,
    "category": "Accelerated computing",
    "gpuNum": 1,
    "hideHardwareSpecs": false,
    "memoryGiB": 32,
    "name": "ml.g4dn.2xlarge",
    "vcpuNum": 8
   },
   {
    "_defaultOrder": 31,
    "_isFastLaunch": false,
    "category": "Accelerated computing",
    "gpuNum": 1,
    "hideHardwareSpecs": false,
    "memoryGiB": 64,
    "name": "ml.g4dn.4xlarge",
    "vcpuNum": 16
   },
   {
    "_defaultOrder": 32,
    "_isFastLaunch": false,
    "category": "Accelerated computing",
    "gpuNum": 1,
    "hideHardwareSpecs": false,
    "memoryGiB": 128,
    "name": "ml.g4dn.8xlarge",
    "vcpuNum": 32
   },
   {
    "_defaultOrder": 33,
    "_isFastLaunch": false,
    "category": "Accelerated computing",
    "gpuNum": 4,
    "hideHardwareSpecs": false,
    "memoryGiB": 192,
    "name": "ml.g4dn.12xlarge",
    "vcpuNum": 48
   },
   {
    "_defaultOrder": 34,
    "_isFastLaunch": false,
    "category": "Accelerated computing",
    "gpuNum": 1,
    "hideHardwareSpecs": false,
    "memoryGiB": 256,
    "name": "ml.g4dn.16xlarge",
    "vcpuNum": 64
   },
   {
    "_defaultOrder": 35,
    "_isFastLaunch": false,
    "category": "Accelerated computing",
    "gpuNum": 1,
    "hideHardwareSpecs": false,
    "memoryGiB": 61,
    "name": "ml.p3.2xlarge",
    "vcpuNum": 8
   },
   {
    "_defaultOrder": 36,
    "_isFastLaunch": false,
    "category": "Accelerated computing",
    "gpuNum": 4,
    "hideHardwareSpecs": false,
    "memoryGiB": 244,
    "name": "ml.p3.8xlarge",
    "vcpuNum": 32
   },
   {
    "_defaultOrder": 37,
    "_isFastLaunch": false,
    "category": "Accelerated computing",
    "gpuNum": 8,
    "hideHardwareSpecs": false,
    "memoryGiB": 488,
    "name": "ml.p3.16xlarge",
    "vcpuNum": 64
   },
   {
    "_defaultOrder": 38,
    "_isFastLaunch": false,
    "category": "Accelerated computing",
    "gpuNum": 8,
    "hideHardwareSpecs": false,
    "memoryGiB": 768,
    "name": "ml.p3dn.24xlarge",
    "vcpuNum": 96
   },
   {
    "_defaultOrder": 39,
    "_isFastLaunch": false,
    "category": "Memory Optimized",
    "gpuNum": 0,
    "hideHardwareSpecs": false,
    "memoryGiB": 16,
    "name": "ml.r5.large",
    "vcpuNum": 2
   },
   {
    "_defaultOrder": 40,
    "_isFastLaunch": false,
    "category": "Memory Optimized",
    "gpuNum": 0,
    "hideHardwareSpecs": false,
    "memoryGiB": 32,
    "name": "ml.r5.xlarge",
    "vcpuNum": 4
   },
   {
    "_defaultOrder": 41,
    "_isFastLaunch": false,
    "category": "Memory Optimized",
    "gpuNum": 0,
    "hideHardwareSpecs": false,
    "memoryGiB": 64,
    "name": "ml.r5.2xlarge",
    "vcpuNum": 8
   },
   {
    "_defaultOrder": 42,
    "_isFastLaunch": false,
    "category": "Memory Optimized",
    "gpuNum": 0,
    "hideHardwareSpecs": false,
    "memoryGiB": 128,
    "name": "ml.r5.4xlarge",
    "vcpuNum": 16
   },
   {
    "_defaultOrder": 43,
    "_isFastLaunch": false,
    "category": "Memory Optimized",
    "gpuNum": 0,
    "hideHardwareSpecs": false,
    "memoryGiB": 256,
    "name": "ml.r5.8xlarge",
    "vcpuNum": 32
   },
   {
    "_defaultOrder": 44,
    "_isFastLaunch": false,
    "category": "Memory Optimized",
    "gpuNum": 0,
    "hideHardwareSpecs": false,
    "memoryGiB": 384,
    "name": "ml.r5.12xlarge",
    "vcpuNum": 48
   },
   {
    "_defaultOrder": 45,
    "_isFastLaunch": false,
    "category": "Memory Optimized",
    "gpuNum": 0,
    "hideHardwareSpecs": false,
    "memoryGiB": 512,
    "name": "ml.r5.16xlarge",
    "vcpuNum": 64
   },
   {
    "_defaultOrder": 46,
    "_isFastLaunch": false,
    "category": "Memory Optimized",
    "gpuNum": 0,
    "hideHardwareSpecs": false,
    "memoryGiB": 768,
    "name": "ml.r5.24xlarge",
    "vcpuNum": 96
   },
   {
    "_defaultOrder": 47,
    "_isFastLaunch": false,
    "category": "Accelerated computing",
    "gpuNum": 1,
    "hideHardwareSpecs": false,
    "memoryGiB": 16,
    "name": "ml.g5.xlarge",
    "vcpuNum": 4
   },
   {
    "_defaultOrder": 48,
    "_isFastLaunch": false,
    "category": "Accelerated computing",
    "gpuNum": 1,
    "hideHardwareSpecs": false,
    "memoryGiB": 32,
    "name": "ml.g5.2xlarge",
    "vcpuNum": 8
   },
   {
    "_defaultOrder": 49,
    "_isFastLaunch": false,
    "category": "Accelerated computing",
    "gpuNum": 1,
    "hideHardwareSpecs": false,
    "memoryGiB": 64,
    "name": "ml.g5.4xlarge",
    "vcpuNum": 16
   },
   {
    "_defaultOrder": 50,
    "_isFastLaunch": false,
    "category": "Accelerated computing",
    "gpuNum": 1,
    "hideHardwareSpecs": false,
    "memoryGiB": 128,
    "name": "ml.g5.8xlarge",
    "vcpuNum": 32
   },
   {
    "_defaultOrder": 51,
    "_isFastLaunch": false,
    "category": "Accelerated computing",
    "gpuNum": 1,
    "hideHardwareSpecs": false,
    "memoryGiB": 256,
    "name": "ml.g5.16xlarge",
    "vcpuNum": 64
   },
   {
    "_defaultOrder": 52,
    "_isFastLaunch": false,
    "category": "Accelerated computing",
    "gpuNum": 4,
    "hideHardwareSpecs": false,
    "memoryGiB": 192,
    "name": "ml.g5.12xlarge",
    "vcpuNum": 48
   },
   {
    "_defaultOrder": 53,
    "_isFastLaunch": false,
    "category": "Accelerated computing",
    "gpuNum": 4,
    "hideHardwareSpecs": false,
    "memoryGiB": 384,
    "name": "ml.g5.24xlarge",
    "vcpuNum": 96
   },
   {
    "_defaultOrder": 54,
    "_isFastLaunch": false,
    "category": "Accelerated computing",
    "gpuNum": 8,
    "hideHardwareSpecs": false,
    "memoryGiB": 768,
    "name": "ml.g5.48xlarge",
    "vcpuNum": 192
   },
   {
    "_defaultOrder": 55,
    "_isFastLaunch": false,
    "category": "Accelerated computing",
    "gpuNum": 8,
    "hideHardwareSpecs": false,
    "memoryGiB": 1152,
    "name": "ml.p4d.24xlarge",
    "vcpuNum": 96
   },
   {
    "_defaultOrder": 56,
    "_isFastLaunch": false,
    "category": "Accelerated computing",
    "gpuNum": 8,
    "hideHardwareSpecs": false,
    "memoryGiB": 1152,
    "name": "ml.p4de.24xlarge",
    "vcpuNum": 96
   },
   {
    "_defaultOrder": 57,
    "_isFastLaunch": false,
    "category": "Accelerated computing",
    "gpuNum": 0,
    "hideHardwareSpecs": false,
    "memoryGiB": 32,
    "name": "ml.trn1.2xlarge",
    "vcpuNum": 8
   },
   {
    "_defaultOrder": 58,
    "_isFastLaunch": false,
    "category": "Accelerated computing",
    "gpuNum": 0,
    "hideHardwareSpecs": false,
    "memoryGiB": 512,
    "name": "ml.trn1.32xlarge",
    "vcpuNum": 128
   },
   {
    "_defaultOrder": 59,
    "_isFastLaunch": false,
    "category": "Accelerated computing",
    "gpuNum": 0,
    "hideHardwareSpecs": false,
    "memoryGiB": 512,
    "name": "ml.trn1n.32xlarge",
    "vcpuNum": 128
   }
  ],
  "instance_type": "ml.t3.medium",
  "kernelspec": {
   "display_name": "Python 3 (Data Science 3.0)",
   "language": "python",
   "name": "python3__SAGEMAKER_INTERNAL__arn:aws:sagemaker:us-east-1:081325390199:image/sagemaker-data-science-310-v1"
  },
  "language_info": {
   "codemirror_mode": {
    "name": "ipython",
    "version": 3
   },
   "file_extension": ".py",
   "mimetype": "text/x-python",
   "name": "python",
   "nbconvert_exporter": "python",
   "pygments_lexer": "ipython3",
   "version": "3.10.6"
  }
 },
 "nbformat": 4,
 "nbformat_minor": 5
}
