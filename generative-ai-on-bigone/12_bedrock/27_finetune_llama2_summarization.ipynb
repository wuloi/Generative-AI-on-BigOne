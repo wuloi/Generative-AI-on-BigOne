{
 "cells": [
  {
   "cell_type": "markdown",
   "id": "308a0e04-6066-4405-8a13-8b060e552a8a",
   "metadata": {},
   "source": [
    "# Fine-Tuning Llama2 with Amazon Bedrock\n",
    "\n",
    "#### GitHub repo\n",
    "https://github.com/generative-ai-on-aws/generative-ai-on-aws\n",
    "\n",
    "![](images/github.png)\n",
    "\n",
    "_Note: This notebook was tested in Amazon SageMaker Studio with Python 3 (Data Science 3.0) kernel with the ml.t3.medium kernel._"
   ]
  },
  {
   "cell_type": "markdown",
   "id": "ca26768f-3775-436d-8b77-dee584420aff",
   "metadata": {},
   "source": [
    "-----------"
   ]
  },
  {
   "cell_type": "markdown",
   "id": "b1a0821c-2d18-4698-8efc-df81030bcdc8",
   "metadata": {},
   "source": [
    "### 1. Setup\n",
    "### 2. Test the base model\n",
    "### 3. Prepare the dataset for fine-tuning\n",
    "### 4. Upload the dataset to S3\n",
    "### 5. Customize the model with fine-tuning\n",
    "### 6. Provision the custom model for inference\n",
    "### 7. Test the custom model\n",
    "### 8. Delete the provisioned model to save cost"
   ]
  },
  {
   "cell_type": "markdown",
   "id": "eb8bb89f-2b60-41e4-8ea7-8cace718bed5",
   "metadata": {},
   "source": [
    "---"
   ]
  },
  {
   "cell_type": "markdown",
   "id": "335c5e24-b7c8-4932-b8d1-729ff52c6fb1",
   "metadata": {},
   "source": [
    "# 1. Setup"
   ]
  },
  {
   "cell_type": "code",
   "execution_count": 2,
   "id": "fd9051ac-179b-4d7b-bcea-86beb17efad3",
   "metadata": {
    "scrolled": true,
    "tags": []
   },
   "outputs": [],
   "source": [
    "%pip install -q -U --force-reinstall \\\n",
    "    pandas==2.1.2 \\\n",
    "    datasets==2.15.0"
   ]
  },
  {
   "cell_type": "code",
   "execution_count": 3,
   "id": "48703d82-bb32-44fa-916e-6cc5040a67cb",
   "metadata": {
    "tags": []
   },
   "outputs": [],
   "source": [
    "import boto3\n",
    "import json\n",
    "import time\n",
    "from pprint import pprint\n",
    "from IPython.display import display, HTML\n",
    "import pandas as pd\n",
    "\n",
    "pd.set_option('display.max_rows', 100)\n",
    "pd.set_option('display.max_columns', 2)\n",
    "pd.set_option('display.max_colwidth', 1000)"
   ]
  },
  {
   "cell_type": "code",
   "execution_count": 4,
   "id": "91ad566f-2a15-46ac-aeeb-346f9db0a10e",
   "metadata": {
    "tags": []
   },
   "outputs": [],
   "source": [
    "# Amazon Bedrock control plane including fine-tuning\n",
    "bedrock = boto3.client(service_name=\"bedrock\")\n",
    "\n",
    "# Amazon Bedrock data plane including model inference\n",
    "bedrock_runtime = boto3.client(service_name=\"bedrock-runtime\")"
   ]
  },
  {
   "cell_type": "code",
   "execution_count": 5,
   "id": "a8153b92-f383-4750-8e14-b21e5fd8d06e",
   "metadata": {
    "tags": []
   },
   "outputs": [
    {
     "name": "stdout",
     "output_type": "stream",
     "text": [
      "-----\n",
      "modelArn: arn:aws:bedrock:us-east-1::foundation-model/meta.llama2-13b-v1:0:4k\n",
      "modelId: meta.llama2-13b-v1:0:4k\n",
      "modelName: Llama 2 13B\n",
      "customizationsSupported: FINE_TUNING\n",
      "-----\n",
      "modelArn: arn:aws:bedrock:us-east-1::foundation-model/meta.llama2-70b-v1:0:4k\n",
      "modelId: meta.llama2-70b-v1:0:4k\n",
      "modelName: Llama 2 70B\n",
      "customizationsSupported: FINE_TUNING\n"
     ]
    }
   ],
   "source": [
    "for model in bedrock.list_foundation_models(byProvider=\"meta\", \n",
    "                                            byCustomizationType=\"FINE_TUNING\")[\"modelSummaries\"]:\n",
    "    print(\"-----\\n\" + \"modelArn: \" + model[\"modelArn\"] + \"\\nmodelId: \" + model[\"modelId\"] + \"\\nmodelName: \" + model[\"modelName\"] + \"\\ncustomizationsSupported: \" + ','.join(model[\"customizationsSupported\"]))"
   ]
  },
  {
   "cell_type": "code",
   "execution_count": 6,
   "id": "ad1684e7-8b0f-436d-a8a0-2a2b45ffe387",
   "metadata": {
    "tags": []
   },
   "outputs": [],
   "source": [
    "base_model_id = \"meta.llama2-13b-v1:0:4k\""
   ]
  },
  {
   "cell_type": "markdown",
   "id": "bfe75f3a-6189-4da4-bc42-90effb5021a8",
   "metadata": {
    "tags": []
   },
   "source": [
    "# 2. Test the base model"
   ]
  },
  {
   "cell_type": "code",
   "execution_count": 7,
   "id": "305f748b-8370-46e4-8698-b4035523ca27",
   "metadata": {
    "tags": []
   },
   "outputs": [],
   "source": [
    "prompt = \"\"\"\n",
    "Summarize the simplest and most interesting part of the following conversation.\n",
    "\n",
    "#Person1#: Hello. My name is John Sandals, and I've got a reservation.\n",
    "#Person2#: May I see some identification, sir, please?\n",
    "#Person1#: Sure. Here you are.\n",
    "#Person2#: Thank you so much. Have you got a credit card, Mr. Sandals?\n",
    "#Person1#: I sure do. How about American Express?\n",
    "#Person2#: Unfortunately, at the present time we take only MasterCard or VISA.\n",
    "#Person1#: No American Express? Okay, here's my VISA.\n",
    "#Person2#: Thank you, sir. You'll be in room 507, nonsmoking, with a queen-size bed. Do you approve, sir?\n",
    "#Person1#: Yeah, that'll be fine.\n",
    "#Person2#: That's great. This is your key, sir. If you need anything at all, anytime, just dial zero.\n",
    "\n",
    "Summary: \n",
    "\"\"\"\n",
    "\n",
    "body = {\n",
    "    \"prompt\": prompt,\n",
    "    \"temperature\": 0.5,\n",
    "    \"top_p\": 0.9,\n",
    "    \"max_gen_len\": 512,\n",
    "}"
   ]
  },
  {
   "cell_type": "markdown",
   "id": "370fbb7f-6970-43cd-8582-9ddcfefd7a2f",
   "metadata": {
    "tags": []
   },
   "source": [
    "### Llama2 chat model "
   ]
  },
  {
   "cell_type": "code",
   "execution_count": 7,
   "id": "acaa3821-c804-4e22-8819-fa2637a6a89c",
   "metadata": {
    "tags": []
   },
   "outputs": [
    {
     "name": "stdout",
     "output_type": "stream",
     "text": [
      "A man named John Sandals checks into a hotel and provides identification and a credit card. The hotel only takes MasterCard or VISA, so he uses his VISA card. He is given room 507, a nonsmoking room with a queen-size bed.\n"
     ]
    }
   ],
   "source": [
    "response = bedrock_runtime.invoke_model(\n",
    "    modelId=\"meta.llama2-13b-chat-v1\", # compare to chat model\n",
    "    body=json.dumps(body)\n",
    ")\n",
    "\n",
    "response_body = response[\"body\"].read().decode('utf8')\n",
    "print(json.loads(response_body)[\"generation\"])"
   ]
  },
  {
   "cell_type": "markdown",
   "id": "3dfa6614-7080-4dbb-af08-cd67ce6a8706",
   "metadata": {
    "tags": []
   },
   "source": [
    "# 3. Prepare the dataset\n",
    "https://huggingface.co/datasets/knkarthick/dialogsum\n",
    "\n",
    "![](images/dataset_sm.png)"
   ]
  },
  {
   "cell_type": "code",
   "execution_count": 9,
   "id": "6f96f947-e885-48a1-8530-b70b8fefc073",
   "metadata": {
    "tags": []
   },
   "outputs": [
    {
     "data": {
      "text/plain": [
       "DatasetDict({\n",
       "    train: Dataset({\n",
       "        features: ['dialogue', 'summary'],\n",
       "        num_rows: 12460\n",
       "    })\n",
       "    validation: Dataset({\n",
       "        features: ['dialogue', 'summary'],\n",
       "        num_rows: 500\n",
       "    })\n",
       "    test: Dataset({\n",
       "        features: ['dialogue', 'summary'],\n",
       "        num_rows: 1500\n",
       "    })\n",
       "})"
      ]
     },
     "execution_count": 9,
     "metadata": {},
     "output_type": "execute_result"
    }
   ],
   "source": [
    "from datasets import load_dataset\n",
    "dataset = load_dataset(\"knkarthick/dialogsum\").remove_columns([\"id\", \"topic\"])\n",
    "dataset"
   ]
  },
  {
   "cell_type": "code",
   "execution_count": 10,
   "id": "ebe6969e-abd3-4f54-b316-3a1515e44e31",
   "metadata": {
    "tags": []
   },
   "outputs": [
    {
     "name": "stdout",
     "output_type": "stream",
     "text": [
      "{'dialogue': \"#Person1#: Hi, Mr. Smith. I'm Doctor Hawkins. Why are you here \"\n",
      "             'today?\\n'\n",
      "             '#Person2#: I found it would be a good idea to get a check-up.\\n'\n",
      "             \"#Person1#: Yes, well, you haven't had one for 5 years. You \"\n",
      "             'should have one every year.\\n'\n",
      "             '#Person2#: I know. I figure as long as there is nothing wrong, '\n",
      "             'why go see the doctor?\\n'\n",
      "             '#Person1#: Well, the best way to avoid serious illnesses is to '\n",
      "             'find out about them early. So try to come at least once a year '\n",
      "             'for your own good.\\n'\n",
      "             '#Person2#: Ok.\\n'\n",
      "             '#Person1#: Let me see here. Your eyes and ears look fine. Take a '\n",
      "             'deep breath, please. Do you smoke, Mr. Smith?\\n'\n",
      "             '#Person2#: Yes.\\n'\n",
      "             '#Person1#: Smoking is the leading cause of lung cancer and heart '\n",
      "             'disease, you know. You really should quit.\\n'\n",
      "             \"#Person2#: I've tried hundreds of times, but I just can't seem \"\n",
      "             'to kick the habit.\\n'\n",
      "             '#Person1#: Well, we have classes and some medications that might '\n",
      "             \"help. I'll give you more information before you leave.\\n\"\n",
      "             '#Person2#: Ok, thanks doctor.',\n",
      " 'summary': \"Mr. Smith's getting a check-up, and Doctor Hawkins advises him to \"\n",
      "            \"have one every year. Hawkins'll give some information about their \"\n",
      "            'classes and medications to help Mr. Smith quit smoking.'}\n"
     ]
    }
   ],
   "source": [
    "pprint(dataset[\"train\"][0])"
   ]
  },
  {
   "cell_type": "code",
   "execution_count": 11,
   "id": "8cef0311-b45f-481b-bdbe-a14d4baa1359",
   "metadata": {
    "tags": []
   },
   "outputs": [],
   "source": [
    "def wrap_instruction_fn(example):\n",
    "    prompt = 'Summarize the simplest and most interesting part of the following conversation.\\n\\n'\n",
    "    end_prompt = '\\n\\nSummary: '\n",
    "    example[\"instruction\"] = prompt + example[\"dialogue\"] + end_prompt\n",
    "    return example"
   ]
  },
  {
   "cell_type": "code",
   "execution_count": 12,
   "id": "e94a8473-2226-4f0e-9890-03635534156b",
   "metadata": {
    "tags": []
   },
   "outputs": [],
   "source": [
    "dataset['train']\\\n",
    "  .select(range(1000))\\\n",
    "  .select_columns(['dialogue', 'summary'])\\\n",
    "  .map(wrap_instruction_fn)\\\n",
    "  .remove_columns(['dialogue'])\\\n",
    "  .rename_column('instruction', 'prompt')\\\n",
    "  .rename_column('summary', 'completion')\\\n",
    "  .to_json('./train-summarization.jsonl', index=False)"
   ]
  },
  {
   "cell_type": "code",
   "execution_count": 13,
   "id": "8c60adba-f766-47ac-8bac-95f6fed26028",
   "metadata": {
    "tags": []
   },
   "outputs": [
    {
     "data": {
      "text/html": [
       "<div>\n",
       "<style scoped>\n",
       "    .dataframe tbody tr th:only-of-type {\n",
       "        vertical-align: middle;\n",
       "    }\n",
       "\n",
       "    .dataframe tbody tr th {\n",
       "        vertical-align: top;\n",
       "    }\n",
       "\n",
       "    .dataframe thead th {\n",
       "        text-align: right;\n",
       "    }\n",
       "</style>\n",
       "<table border=\"1\" class=\"dataframe\">\n",
       "  <thead>\n",
       "    <tr style=\"text-align: right;\">\n",
       "      <th></th>\n",
       "      <th>completion</th>\n",
       "      <th>prompt</th>\n",
       "    </tr>\n",
       "  </thead>\n",
       "  <tbody>\n",
       "    <tr>\n",
       "      <th>0</th>\n",
       "      <td>Mr. Smith's getting a check-up, and Doctor Hawkins advises him to have one every year. Hawkins'll give some information about their classes and medications to help Mr. Smith quit smoking.</td>\n",
       "      <td>Summarize the simplest and most interesting part of the following conversation.\\n\\n#Person1#: Hi, Mr. Smith. I'm Doctor Hawkins. Why are you here today?\\n#Person2#: I found it would be a good idea to get a check-up.\\n#Person1#: Yes, well, you haven't had one for 5 years. You should have one every year.\\n#Person2#: I know. I figure as long as there is nothing wrong, why go see the doctor?\\n#Person1#: Well, the best way to avoid serious illnesses is to find out about them early. So try to come at least once a year for your own good.\\n#Person2#: Ok.\\n#Person1#: Let me see here. Your eyes and ears look fine. Take a deep breath, please. Do you smoke, Mr. Smith?\\n#Person2#: Yes.\\n#Person1#: Smoking is the leading cause of lung cancer and heart disease, you know. You really should quit.\\n#Person2#: I've tried hundreds of times, but I just can't seem to kick the habit.\\n#Person1#: Well, we have classes and some medications that might help. I'll give you more information before you leave.\\n...</td>\n",
       "    </tr>\n",
       "    <tr>\n",
       "      <th>1</th>\n",
       "      <td>Mrs Parker takes Ricky for his vaccines. Dr. Peters checks the record and then gives Ricky a vaccine.</td>\n",
       "      <td>Summarize the simplest and most interesting part of the following conversation.\\n\\n#Person1#: Hello Mrs. Parker, how have you been?\\n#Person2#: Hello Dr. Peters. Just fine thank you. Ricky and I are here for his vaccines.\\n#Person1#: Very well. Let's see, according to his vaccination record, Ricky has received his Polio, Tetanus and Hepatitis B shots. He is 14 months old, so he is due for Hepatitis A, Chickenpox and Measles shots.\\n#Person2#: What about Rubella and Mumps?\\n#Person1#: Well, I can only give him these for now, and after a couple of weeks I can administer the rest.\\n#Person2#: OK, great. Doctor, I think I also may need a Tetanus booster. Last time I got it was maybe fifteen years ago!\\n#Person1#: We will check our records and I'll have the nurse administer and the booster as well. Now, please hold Ricky's arm tight, this may sting a little.\\n\\nSummary:</td>\n",
       "    </tr>\n",
       "    <tr>\n",
       "      <th>2</th>\n",
       "      <td>#Person1#'s looking for a set of keys and asks for #Person2#'s help to find them.</td>\n",
       "      <td>Summarize the simplest and most interesting part of the following conversation.\\n\\n#Person1#: Excuse me, did you see a set of keys?\\n#Person2#: What kind of keys?\\n#Person1#: Five keys and a small foot ornament.\\n#Person2#: What a shame! I didn't see them.\\n#Person1#: Well, can you help me look for it? That's my first time here.\\n#Person2#: Sure. It's my pleasure. I'd like to help you look for the missing keys.\\n#Person1#: It's very kind of you.\\n#Person2#: It's not a big deal.Hey, I found them.\\n#Person1#: Oh, thank God! I don't know how to thank you, guys.\\n#Person2#: You're welcome.\\n\\nSummary:</td>\n",
       "    </tr>\n",
       "    <tr>\n",
       "      <th>3</th>\n",
       "      <td>#Person1#'s angry because #Person2# didn't tell #Person1# that #Person2# had a girlfriend and would marry her.</td>\n",
       "      <td>Summarize the simplest and most interesting part of the following conversation.\\n\\n#Person1#: Why didn't you tell me you had a girlfriend?\\n#Person2#: Sorry, I thought you knew.\\n#Person1#: But you should tell me you were in love with her.\\n#Person2#: Didn't I?\\n#Person1#: You know you didn't.\\n#Person2#: Well, I am telling you now.\\n#Person1#: Yes, but you might have told me before.\\n#Person2#: I didn't think you would be interested.\\n#Person1#: You can't be serious. How dare you not tell me you are going to marry her?\\n#Person2#: Sorry, I didn't think it mattered.\\n#Person1#: Oh, you men! You are all the same.\\n\\nSummary:</td>\n",
       "    </tr>\n",
       "    <tr>\n",
       "      <th>4</th>\n",
       "      <td>Malik invites Nikki to dance. Nikki agrees if Malik doesn't mind getting his feet stepped on.</td>\n",
       "      <td>Summarize the simplest and most interesting part of the following conversation.\\n\\n#Person1#: Watsup, ladies! Y'll looking'fine tonight. May I have this dance?\\n#Person2#: He's cute! He looks like Tiger Woods! But, I can't dance. . .\\n#Person1#: It's all good. I'll show you all the right moves. My name's Malik.\\n#Person2#: Nice to meet you. I'm Wen, and this is Nikki.\\n#Person1#: How you feeling', vista? Mind if I take your friend'round the dance floor?\\n#Person2#: She doesn't mind if you don't mind getting your feet stepped on.\\n#Person1#: Right. Cool! Let's go!\\n\\nSummary:</td>\n",
       "    </tr>\n",
       "    <tr>\n",
       "      <th>...</th>\n",
       "      <td>...</td>\n",
       "      <td>...</td>\n",
       "    </tr>\n",
       "    <tr>\n",
       "      <th>995</th>\n",
       "      <td>In terms of the sandstorm, #Person1# prefers to plant more trees and grass, but #Person2# thinks stopping cutting down trees is quicker.</td>\n",
       "      <td>Summarize the simplest and most interesting part of the following conversation.\\n\\n#Person1#: There will be another sandstorm here tomorrow.\\n#Person2#: It's the fourth one this year. Isn't it horrible.\\n#Person1#: Yes. We should plant more trees and grass to stop the sand from spreading.\\n#Person2#: It may take many years for the trees to grow. I hope people will stop cutting down trees.\\n#Person1#: But we need the wood.\\n#Person2#: But we can't destroy our forests to get the wood.\\n\\nSummary:</td>\n",
       "    </tr>\n",
       "    <tr>\n",
       "      <th>996</th>\n",
       "      <td>#Person2# invites two people that fill the absence of #Person1#'s dinner.</td>\n",
       "      <td>Summarize the simplest and most interesting part of the following conversation.\\n\\n#Person1#: I had prepared dinner for eight people before Mary called and said that she and her husband could not make it.\\n#Person2#: That's all right. I am just going to tell you I have invited Tom and his girlfriend.\\n\\nSummary:</td>\n",
       "    </tr>\n",
       "    <tr>\n",
       "      <th>997</th>\n",
       "      <td>Claire is pretty stressed and the stress seriously affects her life. #Person1# comforts her that stress is a part of the human condition and Claire's stress about the paper is similar to their ancestors' stress about the environment, which is called flight or fight responses.</td>\n",
       "      <td>Summarize the simplest and most interesting part of the following conversation.\\n\\n#Person1#: Hey Claire, you've been really quiet these last few days. Is something wrong? \\n#Person2#: I've been really stressed. It's the end of the year and I've got so much stuff to do! I feel like I'm drowning in work. \\n#Person1#: Well, stress is a real thing. It's not an imaginary condition. \\n#Person2#: It's seriously affecting my life! I can't sleep, I don't have much of an appetite and my husband says I've been kind of short tempered. Other people seem to handle stress okay. . . why am I so weak? \\n#Person1#: You're not weak. . . you're stressed out! Stress has been a part of the human condition for millions of years. Back when we still lived in the trees we had to watch out for predators. . . and as you might imagine, that was pretty stressful. \\n#Person2#: Yeah, but I don't see any tigers or leopards roaming around our office. My stress is just about silly paperwork! \\n#Person1#: But you're...</td>\n",
       "    </tr>\n",
       "    <tr>\n",
       "      <th>998</th>\n",
       "      <td>Marian and Jeanine are shopping, but Marian is tired and short on cash. Marian then finds a beautiful dress and Jeanine got Marian covered.</td>\n",
       "      <td>Summarize the simplest and most interesting part of the following conversation.\\n\\n#Person1#: Hoo, I'm getting tired, Jeanine, been a long day. \\n#Person2#: I'm not quitting yet. You know my favourite slogan, don't you? \\n#Person1#: Yeah, I know. Shop till you drop. \\n#Person2#: Right! \\n#Person1#: I'm getting a little short on cash. Let's just window shop a little. \\n#Person2#: Ok. \\n#Person1#: Hey, Jeanine, get a load of that. It's beautiful. \\n#Person2#: Hahaha, and I thought you were tired. \\n#Person1#: You know . . I have a weakness for long dresses. \\n#Person2#: It sure looks special, looks expensive too. \\n#Person1#: Sure does. Hey, can I sponge a little cash of you? \\n#Person2#: Don't worry, Marian, I've got you covered. \\n#Person1#: Thanks, Jeanine, you are a real pal. Let's go in. \\n\\nSummary:</td>\n",
       "    </tr>\n",
       "    <tr>\n",
       "      <th>999</th>\n",
       "      <td>#Person1# and #Person2# are sharing their different attitudes towards different animals. They have opposite preferences of some animals, like snacks and mice.</td>\n",
       "      <td>Summarize the simplest and most interesting part of the following conversation.\\n\\n#Person1#: do you like animals? I really like dogs. \\n#Person2#: so do i. I don't like cats. \\n#Person1#: why? I think cats are ok. \\n#Person2#: I can't bear being near cats. They don't seem to like me either. \\n#Person1#: I like wild animals. I don't like spiders and snakes. I think spiders and snakes are disgusting. \\n#Person2#: I'm fond of snakes. I think they're great. I agree with you about spiders though. I think spiders are horrible. I think it's because they have so many legs. \\n#Person1#: I think bears are wonderful. Pandas are fantastic. I low the people who kill them for their fur. \\n#Person2#: I agree. I'm carzy about mice. I think they're so cute! \\n#Person1#: really? I don't see the attraction. I'm afraid of mice. \\n\\nSummary:</td>\n",
       "    </tr>\n",
       "  </tbody>\n",
       "</table>\n",
       "<p>1000 rows × 2 columns</p>\n",
       "</div>"
      ],
      "text/plain": [
       "                                                                                                                                                                                                                                                                               completion  \\\n",
       "0                                                                                             Mr. Smith's getting a check-up, and Doctor Hawkins advises him to have one every year. Hawkins'll give some information about their classes and medications to help Mr. Smith quit smoking.   \n",
       "1                                                                                                                                                                                   Mrs Parker takes Ricky for his vaccines. Dr. Peters checks the record and then gives Ricky a vaccine.   \n",
       "2                                                                                                                                                                                                       #Person1#'s looking for a set of keys and asks for #Person2#'s help to find them.   \n",
       "3                                                                                                                                                                          #Person1#'s angry because #Person2# didn't tell #Person1# that #Person2# had a girlfriend and would marry her.   \n",
       "4                                                                                                                                                                                           Malik invites Nikki to dance. Nikki agrees if Malik doesn't mind getting his feet stepped on.   \n",
       "..                                                                                                                                                                                                                                                                                    ...   \n",
       "995                                                                                                                                              In terms of the sandstorm, #Person1# prefers to plant more trees and grass, but #Person2# thinks stopping cutting down trees is quicker.   \n",
       "996                                                                                                                                                                                                             #Person2# invites two people that fill the absence of #Person1#'s dinner.   \n",
       "997  Claire is pretty stressed and the stress seriously affects her life. #Person1# comforts her that stress is a part of the human condition and Claire's stress about the paper is similar to their ancestors' stress about the environment, which is called flight or fight responses.   \n",
       "998                                                                                                                                           Marian and Jeanine are shopping, but Marian is tired and short on cash. Marian then finds a beautiful dress and Jeanine got Marian covered.   \n",
       "999                                                                                                                        #Person1# and #Person2# are sharing their different attitudes towards different animals. They have opposite preferences of some animals, like snacks and mice.   \n",
       "\n",
       "                                                                                                                                                                                                                                                                                                                                                                                                                                                                                                                                                                                                                                                                                                                                                                                                                                                                                                                                                                                                                                      prompt  \n",
       "0    Summarize the simplest and most interesting part of the following conversation.\\n\\n#Person1#: Hi, Mr. Smith. I'm Doctor Hawkins. Why are you here today?\\n#Person2#: I found it would be a good idea to get a check-up.\\n#Person1#: Yes, well, you haven't had one for 5 years. You should have one every year.\\n#Person2#: I know. I figure as long as there is nothing wrong, why go see the doctor?\\n#Person1#: Well, the best way to avoid serious illnesses is to find out about them early. So try to come at least once a year for your own good.\\n#Person2#: Ok.\\n#Person1#: Let me see here. Your eyes and ears look fine. Take a deep breath, please. Do you smoke, Mr. Smith?\\n#Person2#: Yes.\\n#Person1#: Smoking is the leading cause of lung cancer and heart disease, you know. You really should quit.\\n#Person2#: I've tried hundreds of times, but I just can't seem to kick the habit.\\n#Person1#: Well, we have classes and some medications that might help. I'll give you more information before you leave.\\n...  \n",
       "1                                                                                                                             Summarize the simplest and most interesting part of the following conversation.\\n\\n#Person1#: Hello Mrs. Parker, how have you been?\\n#Person2#: Hello Dr. Peters. Just fine thank you. Ricky and I are here for his vaccines.\\n#Person1#: Very well. Let's see, according to his vaccination record, Ricky has received his Polio, Tetanus and Hepatitis B shots. He is 14 months old, so he is due for Hepatitis A, Chickenpox and Measles shots.\\n#Person2#: What about Rubella and Mumps?\\n#Person1#: Well, I can only give him these for now, and after a couple of weeks I can administer the rest.\\n#Person2#: OK, great. Doctor, I think I also may need a Tetanus booster. Last time I got it was maybe fifteen years ago!\\n#Person1#: We will check our records and I'll have the nurse administer and the booster as well. Now, please hold Ricky's arm tight, this may sting a little.\\n\\nSummary:   \n",
       "2                                                                                                                                                                                                                                                                                                                                                                                                              Summarize the simplest and most interesting part of the following conversation.\\n\\n#Person1#: Excuse me, did you see a set of keys?\\n#Person2#: What kind of keys?\\n#Person1#: Five keys and a small foot ornament.\\n#Person2#: What a shame! I didn't see them.\\n#Person1#: Well, can you help me look for it? That's my first time here.\\n#Person2#: Sure. It's my pleasure. I'd like to help you look for the missing keys.\\n#Person1#: It's very kind of you.\\n#Person2#: It's not a big deal.Hey, I found them.\\n#Person1#: Oh, thank God! I don't know how to thank you, guys.\\n#Person2#: You're welcome.\\n\\nSummary:   \n",
       "3                                                                                                                                                                                                                                                                                                                                                                                   Summarize the simplest and most interesting part of the following conversation.\\n\\n#Person1#: Why didn't you tell me you had a girlfriend?\\n#Person2#: Sorry, I thought you knew.\\n#Person1#: But you should tell me you were in love with her.\\n#Person2#: Didn't I?\\n#Person1#: You know you didn't.\\n#Person2#: Well, I am telling you now.\\n#Person1#: Yes, but you might have told me before.\\n#Person2#: I didn't think you would be interested.\\n#Person1#: You can't be serious. How dare you not tell me you are going to marry her?\\n#Person2#: Sorry, I didn't think it mattered.\\n#Person1#: Oh, you men! You are all the same.\\n\\nSummary:   \n",
       "4                                                                                                                                                                                                                                                                                                                                                                                                                                     Summarize the simplest and most interesting part of the following conversation.\\n\\n#Person1#: Watsup, ladies! Y'll looking'fine tonight. May I have this dance?\\n#Person2#: He's cute! He looks like Tiger Woods! But, I can't dance. . .\\n#Person1#: It's all good. I'll show you all the right moves. My name's Malik.\\n#Person2#: Nice to meet you. I'm Wen, and this is Nikki.\\n#Person1#: How you feeling', vista? Mind if I take your friend'round the dance floor?\\n#Person2#: She doesn't mind if you don't mind getting your feet stepped on.\\n#Person1#: Right. Cool! Let's go!\\n\\nSummary:   \n",
       "..                                                                                                                                                                                                                                                                                                                                                                                                                                                                                                                                                                                                                                                                                                                                                                                                                                                                                                                                                                                                                                       ...  \n",
       "995                                                                                                                                                                                                                                                                                                                                                                                                                                                                                                                     Summarize the simplest and most interesting part of the following conversation.\\n\\n#Person1#: There will be another sandstorm here tomorrow.\\n#Person2#: It's the fourth one this year. Isn't it horrible.\\n#Person1#: Yes. We should plant more trees and grass to stop the sand from spreading.\\n#Person2#: It may take many years for the trees to grow. I hope people will stop cutting down trees.\\n#Person1#: But we need the wood.\\n#Person2#: But we can't destroy our forests to get the wood.\\n\\nSummary:   \n",
       "996                                                                                                                                                                                                                                                                                                                                                                                                                                                                                                                                                                                                                                                                                                               Summarize the simplest and most interesting part of the following conversation.\\n\\n#Person1#: I had prepared dinner for eight people before Mary called and said that she and her husband could not make it.\\n#Person2#: That's all right. I am just going to tell you I have invited Tom and his girlfriend.\\n\\nSummary:   \n",
       "997  Summarize the simplest and most interesting part of the following conversation.\\n\\n#Person1#: Hey Claire, you've been really quiet these last few days. Is something wrong? \\n#Person2#: I've been really stressed. It's the end of the year and I've got so much stuff to do! I feel like I'm drowning in work. \\n#Person1#: Well, stress is a real thing. It's not an imaginary condition. \\n#Person2#: It's seriously affecting my life! I can't sleep, I don't have much of an appetite and my husband says I've been kind of short tempered. Other people seem to handle stress okay. . . why am I so weak? \\n#Person1#: You're not weak. . . you're stressed out! Stress has been a part of the human condition for millions of years. Back when we still lived in the trees we had to watch out for predators. . . and as you might imagine, that was pretty stressful. \\n#Person2#: Yeah, but I don't see any tigers or leopards roaming around our office. My stress is just about silly paperwork! \\n#Person1#: But you're...  \n",
       "998                                                                                                                                                                                          Summarize the simplest and most interesting part of the following conversation.\\n\\n#Person1#: Hoo, I'm getting tired, Jeanine, been a long day. \\n#Person2#: I'm not quitting yet. You know my favourite slogan, don't you? \\n#Person1#: Yeah, I know. Shop till you drop. \\n#Person2#: Right! \\n#Person1#: I'm getting a little short on cash. Let's just window shop a little. \\n#Person2#: Ok. \\n#Person1#: Hey, Jeanine, get a load of that. It's beautiful. \\n#Person2#: Hahaha, and I thought you were tired. \\n#Person1#: You know . . I have a weakness for long dresses. \\n#Person2#: It sure looks special, looks expensive too. \\n#Person1#: Sure does. Hey, can I sponge a little cash of you? \\n#Person2#: Don't worry, Marian, I've got you covered. \\n#Person1#: Thanks, Jeanine, you are a real pal. Let's go in. \\n\\nSummary:   \n",
       "999                                                                                                                                                                       Summarize the simplest and most interesting part of the following conversation.\\n\\n#Person1#: do you like animals? I really like dogs. \\n#Person2#: so do i. I don't like cats. \\n#Person1#: why? I think cats are ok. \\n#Person2#: I can't bear being near cats. They don't seem to like me either. \\n#Person1#: I like wild animals. I don't like spiders and snakes. I think spiders and snakes are disgusting. \\n#Person2#: I'm fond of snakes. I think they're great. I agree with you about spiders though. I think spiders are horrible. I think it's because they have so many legs. \\n#Person1#: I think bears are wonderful. Pandas are fantastic. I low the people who kill them for their fur. \\n#Person2#: I agree. I'm carzy about mice. I think they're so cute! \\n#Person1#: really? I don't see the attraction. I'm afraid of mice. \\n\\nSummary:   \n",
       "\n",
       "[1000 rows x 2 columns]"
      ]
     },
     "execution_count": 13,
     "metadata": {},
     "output_type": "execute_result"
    }
   ],
   "source": [
    "df = pd.read_json(\"./train-summarization.jsonl\", lines=True)\n",
    "df"
   ]
  },
  {
   "cell_type": "markdown",
   "id": "fe91c8bc-cb24-4b04-8de8-25c03c3490df",
   "metadata": {},
   "source": [
    "# 4. Upload our dataset to S3"
   ]
  },
  {
   "cell_type": "code",
   "execution_count": 14,
   "id": "49e9547f-127d-444e-89ed-6403781c83a9",
   "metadata": {
    "tags": []
   },
   "outputs": [],
   "source": [
    "import sagemaker\n",
    "sess = sagemaker.Session()\n",
    "role = sagemaker.get_execution_role()\n",
    "region = boto3.Session().region_name\n",
    "sagemaker_session_bucket = sess.default_bucket()\n",
    "\n",
    "s3_location = f\"s3://{sagemaker_session_bucket}/bedrock/finetuning/train-summarization.jsonl\"\n",
    "s3_output = f\"s3://{sagemaker_session_bucket}/bedrock/finetuning/output\""
   ]
  },
  {
   "cell_type": "code",
   "execution_count": 15,
   "id": "1fb873b6-c50b-46fb-bd1f-a050bf523221",
   "metadata": {
    "tags": []
   },
   "outputs": [
    {
     "name": "stdout",
     "output_type": "stream",
     "text": [
      "upload: ./train-summarization.jsonl to s3://sagemaker-us-east-1-079002598131/bedrock/finetuning/train-summarization.jsonl\n"
     ]
    }
   ],
   "source": [
    "!aws s3 cp ./train-summarization.jsonl $s3_location"
   ]
  },
  {
   "cell_type": "markdown",
   "id": "9c04f82b-a918-4226-bf88-3ce567e50bcc",
   "metadata": {},
   "source": [
    "# 5. Customize the model with fine-tuning"
   ]
  },
  {
   "cell_type": "code",
   "execution_count": 16,
   "id": "cdc3af82-7cd6-44bd-bf14-e3e455c15e3a",
   "metadata": {
    "tags": []
   },
   "outputs": [
    {
     "data": {
      "text/plain": [
       "'custom-llama2-1701126112'"
      ]
     },
     "execution_count": 16,
     "metadata": {},
     "output_type": "execute_result"
    }
   ],
   "source": [
    "timestamp = int(time.time())\n",
    "\n",
    "job_name = \"llama2-{}\".format(timestamp)\n",
    "\n",
    "custom_model_name = \"custom-{}\".format(job_name)\n",
    "custom_model_name"
   ]
  },
  {
   "cell_type": "code",
   "execution_count": 17,
   "id": "e4f0ead8-31d2-4146-82c8-2d4d5fa07397",
   "metadata": {
    "tags": []
   },
   "outputs": [],
   "source": [
    "bedrock.create_model_customization_job(\n",
    "    customizationType=\"FINE_TUNING\",\n",
    "    jobName=job_name,\n",
    "    customModelName=custom_model_name,\n",
    "    roleArn=role,\n",
    "    baseModelIdentifier=base_model_id,\n",
    "    hyperParameters = {\n",
    "        \"epochCount\": \"1\",\n",
    "        \"batchSize\": \"1\",\n",
    "        \"learningRate\": \"0.000005\"\n",
    "    },\n",
    "    trainingDataConfig={\"s3Uri\": s3_location},\n",
    "    outputDataConfig={\"s3Uri\": s3_output},\n",
    ")"
   ]
  },
  {
   "cell_type": "code",
   "execution_count": 18,
   "id": "6f87f790-8ee0-4485-b090-1be7af0f0554",
   "metadata": {
    "tags": []
   },
   "outputs": [
    {
     "name": "stdout",
     "output_type": "stream",
     "text": [
      "Completed\n"
     ]
    }
   ],
   "source": [
    "status = bedrock.get_model_customization_job(jobIdentifier=job_name)[\"status\"]\n",
    "\n",
    "while status == \"InProgress\":\n",
    "    print(status)\n",
    "    time.sleep(600)\n",
    "    status = bedrock.get_model_customization_job(jobIdentifier=job_name)[\"status\"]\n",
    "    \n",
    "print(status)"
   ]
  },
  {
   "cell_type": "code",
   "execution_count": 19,
   "id": "00706a16-e5ca-4905-b95f-00942714ba3c",
   "metadata": {
    "tags": []
   },
   "outputs": [
    {
     "data": {
      "text/html": [
       "<b>Review <a target=\"blank\" href=\"https://console.aws.amazon.com/bedrock/home?region=us-east-1#/custom-models/item?arn=arn:aws:bedrock:us-east-1:079002598131:custom-model/meta.llama2-13b-v1:0:4k/oflg7z7dlsnn\">Custom Model</a></b>"
      ],
      "text/plain": [
       "<IPython.core.display.HTML object>"
      ]
     },
     "metadata": {},
     "output_type": "display_data"
    }
   ],
   "source": [
    "custom_model_arn = bedrock.get_custom_model(modelIdentifier=custom_model_name)['modelArn']\n",
    "\n",
    "display(\n",
    "    HTML(\n",
    "        '<b>Review <a target=\"blank\" href=\"https://console.aws.amazon.com/bedrock/home?region={}#/custom-models/item?arn={}\">Custom Model</a></b>'.format(\n",
    "            region, custom_model_arn\n",
    "        )\n",
    "    )\n",
    ")"
   ]
  },
  {
   "cell_type": "markdown",
   "id": "f9df011b-317c-4391-8549-0f767f96c544",
   "metadata": {},
   "source": [
    "# 6. Provision the custom model for inference"
   ]
  },
  {
   "cell_type": "code",
   "execution_count": 20,
   "id": "531afd39-5bde-4ead-a342-bea7c972c39c",
   "metadata": {
    "tags": []
   },
   "outputs": [],
   "source": [
    "provisioned_model_name = \"{}-provisioned\".format(custom_model_name)\n",
    "\n",
    "base_model_arn = bedrock.get_custom_model(modelIdentifier=custom_model_name)['baseModelArn']\n",
    "\n",
    "# Must do this manually through the console.  \n",
    "# Use the value of \"provisioned_model_name\" for continuity.\n",
    "#\n",
    "# bedrock.create_provisioned_model_throughput(\n",
    "#     modelUnits = 1,\n",
    "#     provisionedModelName = provisioned_model_name,\n",
    "#     modelId = base_model_arn\n",
    "# ) "
   ]
  },
  {
   "cell_type": "code",
   "execution_count": 21,
   "id": "c2e58902-4dc5-4b57-9a21-8d42163465a7",
   "metadata": {
    "tags": []
   },
   "outputs": [
    {
     "name": "stdout",
     "output_type": "stream",
     "text": [
      "Creating\n",
      "Creating\n",
      "Creating\n",
      "Creating\n",
      "Creating\n",
      "InService\n"
     ]
    }
   ],
   "source": [
    "deployment_status = bedrock.get_provisioned_model_throughput(\n",
    "    provisionedModelId=provisioned_model_name)[\"status\"]\n",
    "\n",
    "while deployment_status == \"Creating\":\n",
    "    print(deployment_status)\n",
    "    time.sleep(120)\n",
    "    deployment_status = bedrock.get_provisioned_model_throughput(\n",
    "        provisionedModelId=provisioned_model_name)[\"status\"]  \n",
    "    \n",
    "print(deployment_status)"
   ]
  },
  {
   "cell_type": "code",
   "execution_count": 22,
   "id": "c39e7f23-82c8-41a6-9047-e367e3a0b5f2",
   "metadata": {
    "tags": []
   },
   "outputs": [
    {
     "data": {
      "text/html": [
       "<b>Review <a target=\"blank\" href=\"https://console.aws.amazon.com/bedrock/home?region=us-east-1#/provisioned-throughput/details?arn=arn:aws:bedrock:us-east-1:079002598131:provisioned-model/6n5y2ns60wgv\">Custom Model Inference</a></b>"
      ],
      "text/plain": [
       "<IPython.core.display.HTML object>"
      ]
     },
     "metadata": {},
     "output_type": "display_data"
    }
   ],
   "source": [
    "provisioned_model_arn = bedrock.get_provisioned_model_throughput(\n",
    "     provisionedModelId=provisioned_model_name)[\"provisionedModelArn\"]\n",
    "\n",
    "display(\n",
    "    HTML(\n",
    "        '<b>Review <a target=\"blank\" href=\"https://console.aws.amazon.com/bedrock/home?region={}#/provisioned-throughput/details?arn={}\">Custom Model Inference</a></b>'.format(\n",
    "            region, provisioned_model_arn\n",
    "        )\n",
    "    )\n",
    ")"
   ]
  },
  {
   "cell_type": "markdown",
   "id": "5364ddd6-8ad2-47c8-90b3-e518be36a329",
   "metadata": {},
   "source": [
    "# 7. Test the custom model"
   ]
  },
  {
   "cell_type": "code",
   "execution_count": 23,
   "id": "f6550a31-27f2-409a-aba1-d069adc1caac",
   "metadata": {
    "tags": []
   },
   "outputs": [],
   "source": [
    "prompt = \"\"\"\n",
    "Summarize the simplest and most interesting part of the following conversation.\n",
    "\n",
    "#Person1#: Hello. My name is John Sandals, and I've got a reservation.\n",
    "#Person2#: May I see some identification, sir, please?\n",
    "#Person1#: Sure. Here you are.\n",
    "#Person2#: Thank you so much. Have you got a credit card, Mr. Sandals?\n",
    "#Person1#: I sure do. How about American Express?\n",
    "#Person2#: Unfortunately, at the present time we take only MasterCard or VISA.\n",
    "#Person1#: No American Express? Okay, here's my VISA.\n",
    "#Person2#: Thank you, sir. You'll be in room 507, nonsmoking, with a queen-size bed. Do you approve, sir?\n",
    "#Person1#: Yeah, that'll be fine.\\\\n#Person2#: That's great. This is your key, sir. If you need anything at all, anytime, just dial zero.\n",
    "\n",
    "Summary: \n",
    "\"\"\"\n",
    "\n",
    "body = {\n",
    "    \"prompt\": prompt,\n",
    "    \"temperature\": 0.5,\n",
    "    \"top_p\": 0.9,\n",
    "    \"max_gen_len\": 512,\n",
    "}"
   ]
  },
  {
   "cell_type": "markdown",
   "id": "d4a5f899-e99d-4517-81e1-8d4af4417c95",
   "metadata": {
    "tags": []
   },
   "source": [
    "### Llama2 chat model "
   ]
  },
  {
   "cell_type": "code",
   "execution_count": 24,
   "id": "ad74bf55-fdf8-40c9-a073-8d8f0ef0ef79",
   "metadata": {
    "tags": []
   },
   "outputs": [
    {
     "name": "stdout",
     "output_type": "stream",
     "text": [
      "A man named John Sandals checks into a hotel and provides identification and a credit card. The hotel only takes MasterCard or VISA, so he uses his VISA card. He is given room 507, a nonsmoking room with a queen-size bed.\n"
     ]
    }
   ],
   "source": [
    "response = bedrock_runtime.invoke_model(\n",
    "    modelId=\"meta.llama2-13b-chat-v1\", # compare to chat model\n",
    "    body=json.dumps(body)\n",
    ")\n",
    "\n",
    "response_body = response[\"body\"].read().decode('utf8')\n",
    "print(json.loads(response_body)[\"generation\"])"
   ]
  },
  {
   "cell_type": "markdown",
   "id": "9911c444-35ff-4a69-82ee-7b358e39c915",
   "metadata": {},
   "source": [
    "### Our custom fine-tuned model"
   ]
  },
  {
   "cell_type": "code",
   "execution_count": 25,
   "id": "1d52518e-ad17-44ca-bd53-b709b994bd03",
   "metadata": {
    "tags": []
   },
   "outputs": [
    {
     "name": "stdout",
     "output_type": "stream",
     "text": [
      "John Sandals checks in the hotel with VISA and is assigned room 507, nonsmoking, with a queen-size bed.\n"
     ]
    }
   ],
   "source": [
    "response = bedrock_runtime.invoke_model(\n",
    "    modelId=provisioned_model_arn, # custom fine-tuned model\n",
    "    body=json.dumps(body)\n",
    ")\n",
    "\n",
    "response_body = response[\"body\"].read().decode('utf8')\n",
    "print(json.loads(response_body)[\"generation\"])"
   ]
  },
  {
   "cell_type": "markdown",
   "id": "36f62c91-c793-439d-b3b4-66f6eb0b0c1b",
   "metadata": {},
   "source": [
    "# 8. Delete provisioned model to save cost"
   ]
  },
  {
   "cell_type": "code",
   "execution_count": 26,
   "id": "3ad633b8-db9c-43a9-b2ab-b39bc7b3ee97",
   "metadata": {
    "tags": []
   },
   "outputs": [],
   "source": [
    "bedrock.delete_provisioned_model_throughput(\n",
    "    provisionedModelId = provisioned_model_name\n",
    ")"
   ]
  },
  {
   "cell_type": "markdown",
   "id": "64c92f6b-cceb-4853-91b3-006b4823f7e3",
   "metadata": {},
   "source": [
    "# GitHub repo\n",
    "https://github.com/generative-ai-on-aws/generative-ai-on-aws\n",
    "\n",
    "![](images/github.png)"
   ]
  }
 ],
 "metadata": {
  "availableInstances": [
   {
    "_defaultOrder": 0,
    "_isFastLaunch": true,
    "category": "General purpose",
    "gpuNum": 0,
    "hideHardwareSpecs": false,
    "memoryGiB": 4,
    "name": "ml.t3.medium",
    "vcpuNum": 2
   },
   {
    "_defaultOrder": 1,
    "_isFastLaunch": false,
    "category": "General purpose",
    "gpuNum": 0,
    "hideHardwareSpecs": false,
    "memoryGiB": 8,
    "name": "ml.t3.large",
    "vcpuNum": 2
   },
   {
    "_defaultOrder": 2,
    "_isFastLaunch": false,
    "category": "General purpose",
    "gpuNum": 0,
    "hideHardwareSpecs": false,
    "memoryGiB": 16,
    "name": "ml.t3.xlarge",
    "vcpuNum": 4
   },
   {
    "_defaultOrder": 3,
    "_isFastLaunch": false,
    "category": "General purpose",
    "gpuNum": 0,
    "hideHardwareSpecs": false,
    "memoryGiB": 32,
    "name": "ml.t3.2xlarge",
    "vcpuNum": 8
   },
   {
    "_defaultOrder": 4,
    "_isFastLaunch": true,
    "category": "General purpose",
    "gpuNum": 0,
    "hideHardwareSpecs": false,
    "memoryGiB": 8,
    "name": "ml.m5.large",
    "vcpuNum": 2
   },
   {
    "_defaultOrder": 5,
    "_isFastLaunch": false,
    "category": "General purpose",
    "gpuNum": 0,
    "hideHardwareSpecs": false,
    "memoryGiB": 16,
    "name": "ml.m5.xlarge",
    "vcpuNum": 4
   },
   {
    "_defaultOrder": 6,
    "_isFastLaunch": false,
    "category": "General purpose",
    "gpuNum": 0,
    "hideHardwareSpecs": false,
    "memoryGiB": 32,
    "name": "ml.m5.2xlarge",
    "vcpuNum": 8
   },
   {
    "_defaultOrder": 7,
    "_isFastLaunch": false,
    "category": "General purpose",
    "gpuNum": 0,
    "hideHardwareSpecs": false,
    "memoryGiB": 64,
    "name": "ml.m5.4xlarge",
    "vcpuNum": 16
   },
   {
    "_defaultOrder": 8,
    "_isFastLaunch": false,
    "category": "General purpose",
    "gpuNum": 0,
    "hideHardwareSpecs": false,
    "memoryGiB": 128,
    "name": "ml.m5.8xlarge",
    "vcpuNum": 32
   },
   {
    "_defaultOrder": 9,
    "_isFastLaunch": false,
    "category": "General purpose",
    "gpuNum": 0,
    "hideHardwareSpecs": false,
    "memoryGiB": 192,
    "name": "ml.m5.12xlarge",
    "vcpuNum": 48
   },
   {
    "_defaultOrder": 10,
    "_isFastLaunch": false,
    "category": "General purpose",
    "gpuNum": 0,
    "hideHardwareSpecs": false,
    "memoryGiB": 256,
    "name": "ml.m5.16xlarge",
    "vcpuNum": 64
   },
   {
    "_defaultOrder": 11,
    "_isFastLaunch": false,
    "category": "General purpose",
    "gpuNum": 0,
    "hideHardwareSpecs": false,
    "memoryGiB": 384,
    "name": "ml.m5.24xlarge",
    "vcpuNum": 96
   },
   {
    "_defaultOrder": 12,
    "_isFastLaunch": false,
    "category": "General purpose",
    "gpuNum": 0,
    "hideHardwareSpecs": false,
    "memoryGiB": 8,
    "name": "ml.m5d.large",
    "vcpuNum": 2
   },
   {
    "_defaultOrder": 13,
    "_isFastLaunch": false,
    "category": "General purpose",
    "gpuNum": 0,
    "hideHardwareSpecs": false,
    "memoryGiB": 16,
    "name": "ml.m5d.xlarge",
    "vcpuNum": 4
   },
   {
    "_defaultOrder": 14,
    "_isFastLaunch": false,
    "category": "General purpose",
    "gpuNum": 0,
    "hideHardwareSpecs": false,
    "memoryGiB": 32,
    "name": "ml.m5d.2xlarge",
    "vcpuNum": 8
   },
   {
    "_defaultOrder": 15,
    "_isFastLaunch": false,
    "category": "General purpose",
    "gpuNum": 0,
    "hideHardwareSpecs": false,
    "memoryGiB": 64,
    "name": "ml.m5d.4xlarge",
    "vcpuNum": 16
   },
   {
    "_defaultOrder": 16,
    "_isFastLaunch": false,
    "category": "General purpose",
    "gpuNum": 0,
    "hideHardwareSpecs": false,
    "memoryGiB": 128,
    "name": "ml.m5d.8xlarge",
    "vcpuNum": 32
   },
   {
    "_defaultOrder": 17,
    "_isFastLaunch": false,
    "category": "General purpose",
    "gpuNum": 0,
    "hideHardwareSpecs": false,
    "memoryGiB": 192,
    "name": "ml.m5d.12xlarge",
    "vcpuNum": 48
   },
   {
    "_defaultOrder": 18,
    "_isFastLaunch": false,
    "category": "General purpose",
    "gpuNum": 0,
    "hideHardwareSpecs": false,
    "memoryGiB": 256,
    "name": "ml.m5d.16xlarge",
    "vcpuNum": 64
   },
   {
    "_defaultOrder": 19,
    "_isFastLaunch": false,
    "category": "General purpose",
    "gpuNum": 0,
    "hideHardwareSpecs": false,
    "memoryGiB": 384,
    "name": "ml.m5d.24xlarge",
    "vcpuNum": 96
   },
   {
    "_defaultOrder": 20,
    "_isFastLaunch": false,
    "category": "General purpose",
    "gpuNum": 0,
    "hideHardwareSpecs": true,
    "memoryGiB": 0,
    "name": "ml.geospatial.interactive",
    "supportedImageNames": [
     "sagemaker-geospatial-v1-0"
    ],
    "vcpuNum": 0
   },
   {
    "_defaultOrder": 21,
    "_isFastLaunch": true,
    "category": "Compute optimized",
    "gpuNum": 0,
    "hideHardwareSpecs": false,
    "memoryGiB": 4,
    "name": "ml.c5.large",
    "vcpuNum": 2
   },
   {
    "_defaultOrder": 22,
    "_isFastLaunch": false,
    "category": "Compute optimized",
    "gpuNum": 0,
    "hideHardwareSpecs": false,
    "memoryGiB": 8,
    "name": "ml.c5.xlarge",
    "vcpuNum": 4
   },
   {
    "_defaultOrder": 23,
    "_isFastLaunch": false,
    "category": "Compute optimized",
    "gpuNum": 0,
    "hideHardwareSpecs": false,
    "memoryGiB": 16,
    "name": "ml.c5.2xlarge",
    "vcpuNum": 8
   },
   {
    "_defaultOrder": 24,
    "_isFastLaunch": false,
    "category": "Compute optimized",
    "gpuNum": 0,
    "hideHardwareSpecs": false,
    "memoryGiB": 32,
    "name": "ml.c5.4xlarge",
    "vcpuNum": 16
   },
   {
    "_defaultOrder": 25,
    "_isFastLaunch": false,
    "category": "Compute optimized",
    "gpuNum": 0,
    "hideHardwareSpecs": false,
    "memoryGiB": 72,
    "name": "ml.c5.9xlarge",
    "vcpuNum": 36
   },
   {
    "_defaultOrder": 26,
    "_isFastLaunch": false,
    "category": "Compute optimized",
    "gpuNum": 0,
    "hideHardwareSpecs": false,
    "memoryGiB": 96,
    "name": "ml.c5.12xlarge",
    "vcpuNum": 48
   },
   {
    "_defaultOrder": 27,
    "_isFastLaunch": false,
    "category": "Compute optimized",
    "gpuNum": 0,
    "hideHardwareSpecs": false,
    "memoryGiB": 144,
    "name": "ml.c5.18xlarge",
    "vcpuNum": 72
   },
   {
    "_defaultOrder": 28,
    "_isFastLaunch": false,
    "category": "Compute optimized",
    "gpuNum": 0,
    "hideHardwareSpecs": false,
    "memoryGiB": 192,
    "name": "ml.c5.24xlarge",
    "vcpuNum": 96
   },
   {
    "_defaultOrder": 29,
    "_isFastLaunch": true,
    "category": "Accelerated computing",
    "gpuNum": 1,
    "hideHardwareSpecs": false,
    "memoryGiB": 16,
    "name": "ml.g4dn.xlarge",
    "vcpuNum": 4
   },
   {
    "_defaultOrder": 30,
    "_isFastLaunch": false,
    "category": "Accelerated computing",
    "gpuNum": 1,
    "hideHardwareSpecs": false,
    "memoryGiB": 32,
    "name": "ml.g4dn.2xlarge",
    "vcpuNum": 8
   },
   {
    "_defaultOrder": 31,
    "_isFastLaunch": false,
    "category": "Accelerated computing",
    "gpuNum": 1,
    "hideHardwareSpecs": false,
    "memoryGiB": 64,
    "name": "ml.g4dn.4xlarge",
    "vcpuNum": 16
   },
   {
    "_defaultOrder": 32,
    "_isFastLaunch": false,
    "category": "Accelerated computing",
    "gpuNum": 1,
    "hideHardwareSpecs": false,
    "memoryGiB": 128,
    "name": "ml.g4dn.8xlarge",
    "vcpuNum": 32
   },
   {
    "_defaultOrder": 33,
    "_isFastLaunch": false,
    "category": "Accelerated computing",
    "gpuNum": 4,
    "hideHardwareSpecs": false,
    "memoryGiB": 192,
    "name": "ml.g4dn.12xlarge",
    "vcpuNum": 48
   },
   {
    "_defaultOrder": 34,
    "_isFastLaunch": false,
    "category": "Accelerated computing",
    "gpuNum": 1,
    "hideHardwareSpecs": false,
    "memoryGiB": 256,
    "name": "ml.g4dn.16xlarge",
    "vcpuNum": 64
   },
   {
    "_defaultOrder": 35,
    "_isFastLaunch": false,
    "category": "Accelerated computing",
    "gpuNum": 1,
    "hideHardwareSpecs": false,
    "memoryGiB": 61,
    "name": "ml.p3.2xlarge",
    "vcpuNum": 8
   },
   {
    "_defaultOrder": 36,
    "_isFastLaunch": false,
    "category": "Accelerated computing",
    "gpuNum": 4,
    "hideHardwareSpecs": false,
    "memoryGiB": 244,
    "name": "ml.p3.8xlarge",
    "vcpuNum": 32
   },
   {
    "_defaultOrder": 37,
    "_isFastLaunch": false,
    "category": "Accelerated computing",
    "gpuNum": 8,
    "hideHardwareSpecs": false,
    "memoryGiB": 488,
    "name": "ml.p3.16xlarge",
    "vcpuNum": 64
   },
   {
    "_defaultOrder": 38,
    "_isFastLaunch": false,
    "category": "Accelerated computing",
    "gpuNum": 8,
    "hideHardwareSpecs": false,
    "memoryGiB": 768,
    "name": "ml.p3dn.24xlarge",
    "vcpuNum": 96
   },
   {
    "_defaultOrder": 39,
    "_isFastLaunch": false,
    "category": "Memory Optimized",
    "gpuNum": 0,
    "hideHardwareSpecs": false,
    "memoryGiB": 16,
    "name": "ml.r5.large",
    "vcpuNum": 2
   },
   {
    "_defaultOrder": 40,
    "_isFastLaunch": false,
    "category": "Memory Optimized",
    "gpuNum": 0,
    "hideHardwareSpecs": false,
    "memoryGiB": 32,
    "name": "ml.r5.xlarge",
    "vcpuNum": 4
   },
   {
    "_defaultOrder": 41,
    "_isFastLaunch": false,
    "category": "Memory Optimized",
    "gpuNum": 0,
    "hideHardwareSpecs": false,
    "memoryGiB": 64,
    "name": "ml.r5.2xlarge",
    "vcpuNum": 8
   },
   {
    "_defaultOrder": 42,
    "_isFastLaunch": false,
    "category": "Memory Optimized",
    "gpuNum": 0,
    "hideHardwareSpecs": false,
    "memoryGiB": 128,
    "name": "ml.r5.4xlarge",
    "vcpuNum": 16
   },
   {
    "_defaultOrder": 43,
    "_isFastLaunch": false,
    "category": "Memory Optimized",
    "gpuNum": 0,
    "hideHardwareSpecs": false,
    "memoryGiB": 256,
    "name": "ml.r5.8xlarge",
    "vcpuNum": 32
   },
   {
    "_defaultOrder": 44,
    "_isFastLaunch": false,
    "category": "Memory Optimized",
    "gpuNum": 0,
    "hideHardwareSpecs": false,
    "memoryGiB": 384,
    "name": "ml.r5.12xlarge",
    "vcpuNum": 48
   },
   {
    "_defaultOrder": 45,
    "_isFastLaunch": false,
    "category": "Memory Optimized",
    "gpuNum": 0,
    "hideHardwareSpecs": false,
    "memoryGiB": 512,
    "name": "ml.r5.16xlarge",
    "vcpuNum": 64
   },
   {
    "_defaultOrder": 46,
    "_isFastLaunch": false,
    "category": "Memory Optimized",
    "gpuNum": 0,
    "hideHardwareSpecs": false,
    "memoryGiB": 768,
    "name": "ml.r5.24xlarge",
    "vcpuNum": 96
   },
   {
    "_defaultOrder": 47,
    "_isFastLaunch": false,
    "category": "Accelerated computing",
    "gpuNum": 1,
    "hideHardwareSpecs": false,
    "memoryGiB": 16,
    "name": "ml.g5.xlarge",
    "vcpuNum": 4
   },
   {
    "_defaultOrder": 48,
    "_isFastLaunch": false,
    "category": "Accelerated computing",
    "gpuNum": 1,
    "hideHardwareSpecs": false,
    "memoryGiB": 32,
    "name": "ml.g5.2xlarge",
    "vcpuNum": 8
   },
   {
    "_defaultOrder": 49,
    "_isFastLaunch": false,
    "category": "Accelerated computing",
    "gpuNum": 1,
    "hideHardwareSpecs": false,
    "memoryGiB": 64,
    "name": "ml.g5.4xlarge",
    "vcpuNum": 16
   },
   {
    "_defaultOrder": 50,
    "_isFastLaunch": false,
    "category": "Accelerated computing",
    "gpuNum": 1,
    "hideHardwareSpecs": false,
    "memoryGiB": 128,
    "name": "ml.g5.8xlarge",
    "vcpuNum": 32
   },
   {
    "_defaultOrder": 51,
    "_isFastLaunch": false,
    "category": "Accelerated computing",
    "gpuNum": 1,
    "hideHardwareSpecs": false,
    "memoryGiB": 256,
    "name": "ml.g5.16xlarge",
    "vcpuNum": 64
   },
   {
    "_defaultOrder": 52,
    "_isFastLaunch": false,
    "category": "Accelerated computing",
    "gpuNum": 4,
    "hideHardwareSpecs": false,
    "memoryGiB": 192,
    "name": "ml.g5.12xlarge",
    "vcpuNum": 48
   },
   {
    "_defaultOrder": 53,
    "_isFastLaunch": false,
    "category": "Accelerated computing",
    "gpuNum": 4,
    "hideHardwareSpecs": false,
    "memoryGiB": 384,
    "name": "ml.g5.24xlarge",
    "vcpuNum": 96
   },
   {
    "_defaultOrder": 54,
    "_isFastLaunch": false,
    "category": "Accelerated computing",
    "gpuNum": 8,
    "hideHardwareSpecs": false,
    "memoryGiB": 768,
    "name": "ml.g5.48xlarge",
    "vcpuNum": 192
   },
   {
    "_defaultOrder": 55,
    "_isFastLaunch": false,
    "category": "Accelerated computing",
    "gpuNum": 8,
    "hideHardwareSpecs": false,
    "memoryGiB": 1152,
    "name": "ml.p4d.24xlarge",
    "vcpuNum": 96
   },
   {
    "_defaultOrder": 56,
    "_isFastLaunch": false,
    "category": "Accelerated computing",
    "gpuNum": 8,
    "hideHardwareSpecs": false,
    "memoryGiB": 1152,
    "name": "ml.p4de.24xlarge",
    "vcpuNum": 96
   },
   {
    "_defaultOrder": 57,
    "_isFastLaunch": false,
    "category": "Accelerated computing",
    "gpuNum": 0,
    "hideHardwareSpecs": false,
    "memoryGiB": 32,
    "name": "ml.trn1.2xlarge",
    "vcpuNum": 8
   },
   {
    "_defaultOrder": 58,
    "_isFastLaunch": false,
    "category": "Accelerated computing",
    "gpuNum": 0,
    "hideHardwareSpecs": false,
    "memoryGiB": 512,
    "name": "ml.trn1.32xlarge",
    "vcpuNum": 128
   },
   {
    "_defaultOrder": 59,
    "_isFastLaunch": false,
    "category": "Accelerated computing",
    "gpuNum": 0,
    "hideHardwareSpecs": false,
    "memoryGiB": 512,
    "name": "ml.trn1n.32xlarge",
    "vcpuNum": 128
   }
  ],
  "forced_instance_type": "ml.t3.medium",
  "forced_lcc_arn": "",
  "instance_type": "ml.t3.medium",
  "kernelspec": {
   "display_name": "Python 3 (Data Science 3.0)",
   "language": "python",
   "name": "python3__SAGEMAKER_INTERNAL__arn:aws:sagemaker:us-east-1:081325390199:image/sagemaker-data-science-310-v1"
  },
  "language_info": {
   "codemirror_mode": {
    "name": "ipython",
    "version": 3
   },
   "file_extension": ".py",
   "mimetype": "text/x-python",
   "name": "python",
   "nbconvert_exporter": "python",
   "pygments_lexer": "ipython3",
   "version": "3.10.6"
  }
 },
 "nbformat": 4,
 "nbformat_minor": 5
}
