{
 "cells": [
  {
   "cell_type": "markdown",
   "id": "308a0e04-6066-4405-8a13-8b060e552a8a",
   "metadata": {},
   "source": [
    "# Introduction to Bedrock - Fine-Tuning\n",
    "\n",
    "> *If you see errors, you may need to be allow-listed for the Bedrock models used by this notebook*\n",
    "\n",
    "> *This notebook should work well with the **`Data Science 3.0`** kernel in SageMaker Studio*\n"
   ]
  },
  {
   "cell_type": "markdown",
   "id": "03f9a3e6-4d64-4da4-8a85-d5c12ae70978",
   "metadata": {},
   "source": [
    "In this demo notebook, we demonstrate how to use the Bedrock Python SDK for fine-tuning Bedrock models with your own data. If you have text samples to train and want to adapt the Bedrock models to your domain, you can further fine-tune the Bedrock foundation models by providing your own training datasets. You can upload your datasets to Amazon S3, and provide the S3 bucket path while configuring a Bedrock fine-tuning job. You can also adjust hyper parameters (learning rate, epoch, and batch size) for fine-tuning. After the fine-tuning job of the model with your dataset has completed, you can start using the model for inference in the Bedrock playground application. You can select the fine-tuned model and submit a prompt to the fine-tuned model along with a set of model parameters. The fine-tuned model should generate texts to be more alike your text samples. "
   ]
  },
  {
   "cell_type": "markdown",
   "id": "ca26768f-3775-436d-8b77-dee584420aff",
   "metadata": {},
   "source": [
    "-----------"
   ]
  },
  {
   "cell_type": "markdown",
   "id": "b1a0821c-2d18-4698-8efc-df81030bcdc8",
   "metadata": {},
   "source": [
    "1. Setup\n",
    "2. Fine-tuning\n",
    "3. Testing the fine-tuned model"
   ]
  },
  {
   "cell_type": "markdown",
   "id": "b889b27f-7d55-4c07-81fc-3f00d55e5544",
   "metadata": {},
   "source": [
    " Note: This notebook was tested in Amazon SageMaker Studio with Python 3 (Data Science 2.0) kernel."
   ]
  },
  {
   "cell_type": "markdown",
   "id": "eb8bb89f-2b60-41e4-8ea7-8cace718bed5",
   "metadata": {},
   "source": [
    "---"
   ]
  },
  {
   "cell_type": "markdown",
   "id": "335c5e24-b7c8-4932-b8d1-729ff52c6fb1",
   "metadata": {},
   "source": [
    "## 1. Setup"
   ]
  },
  {
   "cell_type": "code",
   "execution_count": 2,
   "id": "3ddbd728-aa90-4431-9b1c-9dc2f9214140",
   "metadata": {},
   "outputs": [
    {
     "name": "stdout",
     "output_type": "stream",
     "text": [
      "Looking in indexes: https://pypi.org/simple, https://pypi.ngc.nvidia.com\n",
      "Collecting pandas==2.1.2\n",
      "  Obtaining dependency information for pandas==2.1.2 from https://files.pythonhosted.org/packages/02/52/815f643ed3afb3365354548b3c8b557dbf926a65c40ad5b6d9e455147c7e/pandas-2.1.2-cp310-cp310-manylinux_2_17_x86_64.manylinux2014_x86_64.whl.metadata\n",
      "  Downloading pandas-2.1.2-cp310-cp310-manylinux_2_17_x86_64.manylinux2014_x86_64.whl.metadata (18 kB)\n",
      "Collecting numpy<2,>=1.22.4 (from pandas==2.1.2)\n",
      "  Obtaining dependency information for numpy<2,>=1.22.4 from https://files.pythonhosted.org/packages/64/41/284783f1014685201e447ea976e85fed0e351f5debbaf3ee6d7645521f1d/numpy-1.26.2-cp310-cp310-manylinux_2_17_x86_64.manylinux2014_x86_64.whl.metadata\n",
      "  Downloading numpy-1.26.2-cp310-cp310-manylinux_2_17_x86_64.manylinux2014_x86_64.whl.metadata (61 kB)\n",
      "\u001b[2K     \u001b[90m━━━━━━━━━━━━━━━━━━━━━━━━━━━━━━━━━━━━━━━\u001b[0m \u001b[32m61.2/61.2 kB\u001b[0m \u001b[31m295.6 MB/s\u001b[0m eta \u001b[36m0:00:00\u001b[0m\n",
      "\u001b[?25hCollecting python-dateutil>=2.8.2 (from pandas==2.1.2)\n",
      "  Downloading python_dateutil-2.8.2-py2.py3-none-any.whl (247 kB)\n",
      "\u001b[2K     \u001b[90m━━━━━━━━━━━━━━━━━━━━━━━━━━━━━━━━━━━━━\u001b[0m \u001b[32m247.7/247.7 kB\u001b[0m \u001b[31m127.3 MB/s\u001b[0m eta \u001b[36m0:00:00\u001b[0m\n",
      "\u001b[?25hCollecting pytz>=2020.1 (from pandas==2.1.2)\n",
      "  Obtaining dependency information for pytz>=2020.1 from https://files.pythonhosted.org/packages/32/4d/aaf7eff5deb402fd9a24a1449a8119f00d74ae9c2efa79f8ef9994261fc2/pytz-2023.3.post1-py2.py3-none-any.whl.metadata\n",
      "  Downloading pytz-2023.3.post1-py2.py3-none-any.whl.metadata (22 kB)\n",
      "Collecting tzdata>=2022.1 (from pandas==2.1.2)\n",
      "  Downloading tzdata-2023.3-py2.py3-none-any.whl (341 kB)\n",
      "\u001b[2K     \u001b[90m━━━━━━━━━━━━━━━━━━━━━━━━━━━━━━━━━━━━━\u001b[0m \u001b[32m341.8/341.8 kB\u001b[0m \u001b[31m406.8 MB/s\u001b[0m eta \u001b[36m0:00:00\u001b[0m\n",
      "\u001b[?25hCollecting six>=1.5 (from python-dateutil>=2.8.2->pandas==2.1.2)\n",
      "  Downloading six-1.16.0-py2.py3-none-any.whl (11 kB)\n",
      "Downloading pandas-2.1.2-cp310-cp310-manylinux_2_17_x86_64.manylinux2014_x86_64.whl (12.3 MB)\n",
      "\u001b[2K   \u001b[90m━━━━━━━━━━━━━━━━━━━━━━━━━━━━━━━━━━━━━━━━\u001b[0m \u001b[32m12.3/12.3 MB\u001b[0m \u001b[31m77.8 MB/s\u001b[0m eta \u001b[36m0:00:00\u001b[0ma \u001b[36m0:00:01\u001b[0m\n",
      "\u001b[?25hDownloading numpy-1.26.2-cp310-cp310-manylinux_2_17_x86_64.manylinux2014_x86_64.whl (18.2 MB)\n",
      "\u001b[2K   \u001b[90m━━━━━━━━━━━━━━━━━━━━━━━━━━━━━━━━━━━━━━━━\u001b[0m \u001b[32m18.2/18.2 MB\u001b[0m \u001b[31m222.5 MB/s\u001b[0m eta \u001b[36m0:00:00\u001b[0ma \u001b[36m0:00:01\u001b[0m\n",
      "\u001b[?25hDownloading pytz-2023.3.post1-py2.py3-none-any.whl (502 kB)\n",
      "\u001b[2K   \u001b[90m━━━━━━━━━━━━━━━━━━━━━━━━━━━━━━━━━━━━━━━\u001b[0m \u001b[32m502.5/502.5 kB\u001b[0m \u001b[31m464.3 MB/s\u001b[0m eta \u001b[36m0:00:00\u001b[0m\n",
      "\u001b[?25hInstalling collected packages: pytz, tzdata, six, numpy, python-dateutil, pandas\n",
      "  Attempting uninstall: pytz\n",
      "    Found existing installation: pytz 2023.3.post1\n",
      "    Uninstalling pytz-2023.3.post1:\n",
      "      Successfully uninstalled pytz-2023.3.post1\n",
      "  Attempting uninstall: tzdata\n",
      "    Found existing installation: tzdata 2023.3\n",
      "    Uninstalling tzdata-2023.3:\n",
      "      Successfully uninstalled tzdata-2023.3\n",
      "  Attempting uninstall: six\n",
      "    Found existing installation: six 1.16.0\n",
      "    Uninstalling six-1.16.0:\n",
      "      Successfully uninstalled six-1.16.0\n",
      "  Attempting uninstall: numpy\n",
      "    Found existing installation: numpy 1.26.2\n",
      "    Uninstalling numpy-1.26.2:\n",
      "      Successfully uninstalled numpy-1.26.2\n",
      "  Attempting uninstall: python-dateutil\n",
      "    Found existing installation: python-dateutil 2.8.2\n",
      "    Uninstalling python-dateutil-2.8.2:\n",
      "      Successfully uninstalled python-dateutil-2.8.2\n",
      "  Attempting uninstall: pandas\n",
      "    Found existing installation: pandas 2.1.2\n",
      "    Uninstalling pandas-2.1.2:\n",
      "      Successfully uninstalled pandas-2.1.2\n",
      "\u001b[31mERROR: pip's dependency resolver does not currently take into account all the packages that are installed. This behaviour is the source of the following dependency conflicts.\n",
      "daal4py 2021.6.0 requires daal==2021.4.0, which is not installed.\n",
      "spyder 5.3.3 requires pyqt5<5.16, which is not installed.\n",
      "spyder 5.3.3 requires pyqtwebengine<5.16, which is not installed.\n",
      "autovizwidget 0.21.0 requires pandas<2.0.0,>=0.20.1, but you have pandas 2.1.2 which is incompatible.\n",
      "hdijupyterutils 0.21.0 requires pandas<2.0.0,>=0.17.1, but you have pandas 2.1.2 which is incompatible.\n",
      "jupyterlab 3.4.4 requires jupyter-server~=1.16, but you have jupyter-server 2.7.3 which is incompatible.\n",
      "jupyterlab-server 2.10.3 requires jupyter-server~=1.4, but you have jupyter-server 2.7.3 which is incompatible.\n",
      "notebook 6.5.6 requires jupyter-client<8,>=5.3.4, but you have jupyter-client 8.4.0 which is incompatible.\n",
      "notebook 6.5.6 requires pyzmq<25,>=17, but you have pyzmq 25.1.1 which is incompatible.\n",
      "numba 0.55.1 requires numpy<1.22,>=1.18, but you have numpy 1.26.2 which is incompatible.\n",
      "panel 0.13.1 requires bokeh<2.5.0,>=2.4.0, but you have bokeh 3.3.0 which is incompatible.\n",
      "sagemaker-datawrangler 0.4.3 requires sagemaker-data-insights==0.4.0, but you have sagemaker-data-insights 0.3.3 which is incompatible.\n",
      "spyder 5.3.3 requires ipython<8.0.0,>=7.31.1, but you have ipython 8.16.1 which is incompatible.\n",
      "spyder 5.3.3 requires pylint<3.0,>=2.5.0, but you have pylint 3.0.1 which is incompatible.\n",
      "spyder-kernels 2.3.3 requires ipython<8,>=7.31.1; python_version >= \"3\", but you have ipython 8.16.1 which is incompatible.\n",
      "spyder-kernels 2.3.3 requires jupyter-client<8,>=7.3.4; python_version >= \"3\", but you have jupyter-client 8.4.0 which is incompatible.\u001b[0m\u001b[31m\n",
      "\u001b[0mSuccessfully installed numpy-1.26.2 pandas-2.1.2 python-dateutil-2.8.2 pytz-2023.3.post1 six-1.16.0 tzdata-2023.3\n",
      "\u001b[33mWARNING: Running pip as the 'root' user can result in broken permissions and conflicting behaviour with the system package manager. It is recommended to use a virtual environment instead: https://pip.pypa.io/warnings/venv\u001b[0m\u001b[33m\n",
      "\u001b[0m\n",
      "\u001b[1m[\u001b[0m\u001b[34;49mnotice\u001b[0m\u001b[1;39;49m]\u001b[0m\u001b[39;49m A new release of pip is available: \u001b[0m\u001b[31;49m23.2.1\u001b[0m\u001b[39;49m -> \u001b[0m\u001b[32;49m23.3.1\u001b[0m\n",
      "\u001b[1m[\u001b[0m\u001b[34;49mnotice\u001b[0m\u001b[1;39;49m]\u001b[0m\u001b[39;49m To update, run: \u001b[0m\u001b[32;49mpip install --upgrade pip\u001b[0m\n",
      "Note: you may need to restart the kernel to use updated packages.\n"
     ]
    }
   ],
   "source": [
    "%pip install -U --force-reinstall pandas==2.1.2"
   ]
  },
  {
   "cell_type": "code",
   "execution_count": 3,
   "id": "2a2aa5f1-8816-4ef2-9d49-a10732fa9d40",
   "metadata": {
    "tags": []
   },
   "outputs": [
    {
     "name": "stdout",
     "output_type": "stream",
     "text": [
      "Looking in indexes: https://pypi.org/simple, https://pypi.ngc.nvidia.com\n",
      "Requirement already satisfied: boto3 in /opt/conda/lib/python3.10/site-packages (1.29.6)\n",
      "Requirement already satisfied: botocore<1.33.0,>=1.32.6 in /opt/conda/lib/python3.10/site-packages (from boto3) (1.32.6)\n",
      "Requirement already satisfied: jmespath<2.0.0,>=0.7.1 in /opt/conda/lib/python3.10/site-packages (from boto3) (1.0.1)\n",
      "Requirement already satisfied: s3transfer<0.8.0,>=0.7.0 in /opt/conda/lib/python3.10/site-packages (from boto3) (0.7.0)\n",
      "Requirement already satisfied: python-dateutil<3.0.0,>=2.1 in /opt/conda/lib/python3.10/site-packages (from botocore<1.33.0,>=1.32.6->boto3) (2.8.2)\n",
      "Requirement already satisfied: urllib3<2.1,>=1.25.4 in /opt/conda/lib/python3.10/site-packages (from botocore<1.33.0,>=1.32.6->boto3) (2.0.7)\n",
      "Requirement already satisfied: six>=1.5 in /opt/conda/lib/python3.10/site-packages (from python-dateutil<3.0.0,>=2.1->botocore<1.33.0,>=1.32.6->boto3) (1.16.0)\n",
      "\u001b[33mWARNING: Running pip as the 'root' user can result in broken permissions and conflicting behaviour with the system package manager. It is recommended to use a virtual environment instead: https://pip.pypa.io/warnings/venv\u001b[0m\u001b[33m\n",
      "\u001b[0m\n",
      "\u001b[1m[\u001b[0m\u001b[34;49mnotice\u001b[0m\u001b[1;39;49m]\u001b[0m\u001b[39;49m A new release of pip is available: \u001b[0m\u001b[31;49m23.2.1\u001b[0m\u001b[39;49m -> \u001b[0m\u001b[32;49m23.3.1\u001b[0m\n",
      "\u001b[1m[\u001b[0m\u001b[34;49mnotice\u001b[0m\u001b[1;39;49m]\u001b[0m\u001b[39;49m To update, run: \u001b[0m\u001b[32;49mpip install --upgrade pip\u001b[0m\n",
      "Note: you may need to restart the kernel to use updated packages.\n"
     ]
    }
   ],
   "source": [
    "%pip install boto3"
   ]
  },
  {
   "cell_type": "code",
   "execution_count": 4,
   "id": "c877a066-f791-4353-b597-61f2f12f92e8",
   "metadata": {
    "tags": []
   },
   "outputs": [
    {
     "name": "stdout",
     "output_type": "stream",
     "text": [
      "Package                              Version\n",
      "------------------------------------ --------------------\n",
      "aiohttp                              3.9.0\n",
      "aiosignal                            1.3.1\n",
      "alabaster                            0.7.12\n",
      "anaconda-client                      1.11.0\n",
      "anaconda-project                     0.11.1\n",
      "anyio                                3.5.0\n",
      "appdirs                              1.4.4\n",
      "argon2-cffi                          21.3.0\n",
      "argon2-cffi-bindings                 21.2.0\n",
      "arrow                                1.2.2\n",
      "astroid                              3.0.0\n",
      "astropy                              5.3.4\n",
      "asttokens                            2.4.0\n",
      "async-timeout                        4.0.3\n",
      "atomicwrites                         1.4.0\n",
      "attrs                                23.1.0\n",
      "Automat                              20.2.0\n",
      "autopep8                             1.6.0\n",
      "autovizwidget                        0.21.0\n",
      "awscli                               1.29.63\n",
      "Babel                                2.9.1\n",
      "backcall                             0.2.0\n",
      "backports.functools-lru-cache        1.6.4\n",
      "backports.tempfile                   1.0\n",
      "backports.weakref                    1.0.post1\n",
      "bcrypt                               3.2.0\n",
      "beautifulsoup4                       4.11.1\n",
      "binaryornot                          0.4.4\n",
      "bitarray                             2.5.1\n",
      "bkcharts                             0.2\n",
      "black                                22.6.0\n",
      "bleach                               4.1.0\n",
      "blinker                              1.6.3\n",
      "bokeh                                3.3.0\n",
      "boltons                              23.0.0\n",
      "boto3                                1.29.6\n",
      "botocore                             1.32.6\n",
      "Bottleneck                           1.3.5\n",
      "brotlipy                             0.7.0\n",
      "certifi                              2023.11.17\n",
      "cffi                                 1.15.1\n",
      "chardet                              4.0.0\n",
      "charset-normalizer                   3.3.2\n",
      "click                                8.1.7\n",
      "cloudpickle                          2.2.1\n",
      "clyent                               1.2.2\n",
      "colorama                             0.4.4\n",
      "colorcet                             3.0.0\n",
      "conda                                23.3.1\n",
      "conda-content-trust                  0.1.3\n",
      "conda-pack                           0.6.0\n",
      "conda-package-handling               2.2.0\n",
      "conda_package_streaming              0.9.0\n",
      "conda-token                          0.4.0\n",
      "constantly                           15.1.0\n",
      "contextlib2                          21.6.0\n",
      "contourpy                            1.1.1\n",
      "cookiecutter                         2.4.0\n",
      "cryptography                         41.0.4\n",
      "cssselect                            1.1.0\n",
      "cycler                               0.11.0\n",
      "Cython                               0.29.32\n",
      "cytoolz                              0.11.0\n",
      "daal4py                              2021.6.0\n",
      "dask                                 2022.7.0\n",
      "datasets                             2.14.6\n",
      "datashader                           0.14.1\n",
      "datashape                            0.5.4\n",
      "debugpy                              1.5.1\n",
      "decorator                            5.1.1\n",
      "defusedxml                           0.7.1\n",
      "diff-match-patch                     20200713\n",
      "dill                                 0.3.7\n",
      "distributed                          2022.7.0\n",
      "docker                               6.1.3\n",
      "docutils                             0.16\n",
      "dparse                               0.6.3\n",
      "entrypoints                          0.4\n",
      "et-xmlfile                           1.1.0\n",
      "exceptiongroup                       1.1.3\n",
      "executing                            2.0.0\n",
      "fastjsonschema                       2.16.2\n",
      "filelock                             3.13.1\n",
      "flake8                               4.0.1\n",
      "Flask                                3.0.0\n",
      "fonttools                            4.25.0\n",
      "fqdn                                 1.5.1\n",
      "frozenlist                           1.4.0\n",
      "fsspec                               2023.10.0\n",
      "future                               0.18.3\n",
      "gensim                               4.1.2\n",
      "glob2                                0.7\n",
      "gmpy2                                2.1.2\n",
      "google-pasta                         0.2.0\n",
      "greenlet                             1.1.1\n",
      "gssapi                               1.8.3\n",
      "h5py                                 3.7.0\n",
      "hdijupyterutils                      0.21.0\n",
      "HeapDict                             1.0.1\n",
      "holoviews                            1.15.0\n",
      "huggingface-hub                      0.19.4\n",
      "hvplot                               0.8.0\n",
      "hyperlink                            21.0.0\n",
      "idna                                 3.5\n",
      "imagecodecs                          2021.8.26\n",
      "imageio                              2.19.3\n",
      "imagesize                            1.4.1\n",
      "importlib-metadata                   4.11.3\n",
      "incremental                          22.10.0\n",
      "inflection                           0.5.1\n",
      "iniconfig                            1.1.1\n",
      "intake                               0.6.5\n",
      "intervaltree                         3.1.0\n",
      "ipykernel                            6.15.0\n",
      "ipython                              8.16.1\n",
      "ipython-genutils                     0.2.0\n",
      "ipywidgets                           7.6.5\n",
      "isoduration                          20.11.0\n",
      "isort                                5.9.3\n",
      "itemadapter                          0.3.0\n",
      "itemloaders                          1.0.4\n",
      "itsdangerous                         2.1.2\n",
      "jdcal                                1.4.1\n",
      "jedi                                 0.18.1\n",
      "jeepney                              0.7.1\n",
      "jellyfish                            0.9.0\n",
      "Jinja2                               3.1.2\n",
      "jinja2-time                          0.2.0\n",
      "jmespath                             1.0.1\n",
      "joblib                               1.3.2\n",
      "json5                                0.9.6\n",
      "jsonpatch                            1.32\n",
      "jsonpointer                          2.1\n",
      "jsonschema                           4.19.1\n",
      "jsonschema-specifications            2023.7.1\n",
      "jupyter                              1.0.0\n",
      "jupyter_client                       8.4.0\n",
      "jupyter-console                      6.4.3\n",
      "jupyter_core                         5.4.0\n",
      "jupyter-events                       0.7.0\n",
      "jupyter_server                       2.7.3\n",
      "jupyter_server_terminals             0.4.4\n",
      "jupyterlab                           3.4.4\n",
      "jupyterlab-pygments                  0.1.2\n",
      "jupyterlab-server                    2.10.3\n",
      "jupyterlab-widgets                   1.0.0\n",
      "keyring                              23.4.0\n",
      "kiwisolver                           1.4.2\n",
      "krb5                                 0.5.1\n",
      "lazy-object-proxy                    1.6.0\n",
      "libarchive-c                         2.9\n",
      "lief                                 0.13.2\n",
      "llvmlite                             0.38.0\n",
      "locket                               1.0.0\n",
      "lxml                                 4.9.3\n",
      "lz4                                  3.1.3\n",
      "Markdown                             3.3.4\n",
      "markdown-it-py                       3.0.0\n",
      "MarkupSafe                           2.1.3\n",
      "matplotlib                           3.5.2\n",
      "matplotlib-inline                    0.1.6\n",
      "mccabe                               0.7.0\n",
      "mdurl                                0.1.2\n",
      "mistune                              3.0.2\n",
      "mkl-fft                              1.3.1\n",
      "mkl-random                           1.2.2\n",
      "mkl-service                          2.4.0\n",
      "mock                                 4.0.3\n",
      "mpmath                               1.3.0\n",
      "msgpack                              1.0.3\n",
      "multidict                            6.0.4\n",
      "multipledispatch                     0.6.0\n",
      "multiprocess                         0.70.15\n",
      "munkres                              1.1.4\n",
      "mypy-extensions                      0.4.3\n",
      "nbclassic                            1.0.0\n",
      "nbclient                             0.5.13\n",
      "nbconvert                            7.9.2\n",
      "nbformat                             5.9.2\n",
      "nest-asyncio                         1.5.5\n",
      "networkx                             2.8.4\n",
      "nltk                                 3.7\n",
      "nose                                 1.3.7\n",
      "notebook                             6.5.6\n",
      "notebook_shim                        0.2.3\n",
      "numba                                0.55.1\n",
      "numexpr                              2.8.3\n",
      "numpy                                1.26.2\n",
      "numpydoc                             1.4.0\n",
      "olefile                              0.46\n",
      "openpyxl                             3.0.10\n",
      "overrides                            7.4.0\n",
      "packaging                            23.2\n",
      "pandas                               2.1.2\n",
      "pandocfilters                        1.5.0\n",
      "panel                                0.13.1\n",
      "param                                1.12.0\n",
      "parsel                               1.6.0\n",
      "parso                                0.8.3\n",
      "partd                                1.2.0\n",
      "pathos                               0.3.1\n",
      "pathspec                             0.9.0\n",
      "patsy                                0.5.2\n",
      "pep8                                 1.7.1\n",
      "pexpect                              4.8.0\n",
      "pickleshare                          0.7.5\n",
      "Pillow                               10.0.1\n",
      "pip                                  23.2.1\n",
      "pkginfo                              1.8.2\n",
      "platformdirs                         2.5.2\n",
      "plotly                               5.9.0\n",
      "pluggy                               1.0.0\n",
      "ply                                  3.11\n",
      "pox                                  0.3.3\n",
      "poyo                                 0.5.0\n",
      "ppft                                 1.7.6.7\n",
      "prometheus-client                    0.14.1\n",
      "prompt-toolkit                       3.0.39\n",
      "Protego                              0.1.16\n",
      "protobuf                             4.24.4\n",
      "psutil                               5.9.0\n",
      "ptyprocess                           0.7.0\n",
      "pure-eval                            0.2.2\n",
      "pure-sasl                            0.6.2\n",
      "py                                   1.11.0\n",
      "pyarrow                              14.0.1\n",
      "pyarrow-hotfix                       0.6\n",
      "pyasn1                               0.4.8\n",
      "pyasn1-modules                       0.2.8\n",
      "pycodestyle                          2.8.0\n",
      "pycosat                              0.6.3\n",
      "pycparser                            2.21\n",
      "pyct                                 0.4.8\n",
      "pycurl                               7.45.1\n",
      "PyDispatcher                         2.0.5\n",
      "pydocstyle                           6.1.1\n",
      "pyerfa                               2.0.0\n",
      "pyflakes                             2.4.0\n",
      "pyfunctional                         1.4.3\n",
      "Pygments                             2.16.1\n",
      "PyHamcrest                           2.0.2\n",
      "PyHive                               0.7.0\n",
      "pylint                               3.0.1\n",
      "pyls-spyder                          0.4.0\n",
      "pyodbc                               4.0.34\n",
      "pyOpenSSL                            23.2.0\n",
      "pyparsing                            3.0.9\n",
      "PyQt5-sip                            12.11.0\n",
      "pyrsistent                           0.18.0\n",
      "PySocks                              1.7.1\n",
      "pyspnego                             0.9.2\n",
      "pytest                               7.4.2\n",
      "python-dateutil                      2.8.2\n",
      "python-json-logger                   2.0.7\n",
      "python-lsp-black                     1.2.1\n",
      "python-lsp-jsonrpc                   1.0.0\n",
      "python-lsp-server                    1.5.0\n",
      "python-slugify                       5.0.2\n",
      "python-snappy                        0.6.0\n",
      "pytz                                 2023.3.post1\n",
      "pyviz-comms                          2.0.2\n",
      "PyWavelets                           1.3.0\n",
      "pyxdg                                0.27\n",
      "PyYAML                               6.0.1\n",
      "pyzmq                                25.1.1\n",
      "QDarkStyle                           3.0.2\n",
      "qstylizer                            0.1.10\n",
      "QtAwesome                            1.0.3\n",
      "qtconsole                            5.3.2\n",
      "QtPy                                 2.2.0\n",
      "queuelib                             1.5.0\n",
      "referencing                          0.30.2\n",
      "regex                                2022.7.9\n",
      "requests                             2.31.0\n",
      "requests-file                        1.5.1\n",
      "requests-kerberos                    0.14.0\n",
      "rfc3339-validator                    0.1.4\n",
      "rfc3986-validator                    0.1.1\n",
      "rich                                 13.6.0\n",
      "rope                                 0.22.0\n",
      "rpds-py                              0.10.6\n",
      "rsa                                  4.7.2\n",
      "Rtree                                0.9.7\n",
      "ruamel.yaml                          0.17.21\n",
      "ruamel.yaml.clib                     0.2.6\n",
      "ruamel-yaml-conda                    0.15.100\n",
      "s3fs                                 0.4.2\n",
      "s3transfer                           0.7.0\n",
      "sagemaker                            2.192.0\n",
      "sagemaker-data-insights              0.3.3\n",
      "sagemaker-datawrangler               0.4.3\n",
      "sagemaker-scikit-learn-extension     2.5.0\n",
      "sagemaker-studio-analytics-extension 0.0.20\n",
      "sagemaker-studio-sparkmagic-lib      0.1.4\n",
      "sasl                                 0.3.1\n",
      "schema                               0.7.5\n",
      "scikit-image                         0.19.2\n",
      "scikit-learn                         1.0.1\n",
      "scikit-learn-intelex                 2021.20221004.171507\n",
      "scipy                                1.11.3\n",
      "Scrapy                               2.6.2\n",
      "seaborn                              0.11.2\n",
      "SecretStorage                        3.3.1\n",
      "Send2Trash                           1.8.2\n",
      "service-identity                     18.1.0\n",
      "setuptools                           68.2.2\n",
      "sip                                  6.6.2\n",
      "six                                  1.16.0\n",
      "smart-open                           5.2.1\n",
      "smclarify                            0.5\n",
      "smdebug-rulesconfig                  1.0.1\n",
      "sniffio                              1.2.0\n",
      "snowballstemmer                      2.2.0\n",
      "sortedcollections                    2.1.0\n",
      "sortedcontainers                     2.4.0\n",
      "soupsieve                            2.3.1\n",
      "sparkmagic                           0.20.4\n",
      "Sphinx                               5.0.2\n",
      "sphinxcontrib-applehelp              1.0.2\n",
      "sphinxcontrib-devhelp                1.0.2\n",
      "sphinxcontrib-htmlhelp               2.0.0\n",
      "sphinxcontrib-jsmath                 1.0.1\n",
      "sphinxcontrib-qthelp                 1.0.3\n",
      "sphinxcontrib-serializinghtml        1.1.5\n",
      "spyder                               5.3.3\n",
      "spyder-kernels                       2.3.3\n",
      "SQLAlchemy                           1.4.39\n",
      "stack-data                           0.6.3\n",
      "statsmodels                          0.13.2\n",
      "sympy                                1.10.1\n",
      "tables                               3.6.1\n",
      "tabulate                             0.8.10\n",
      "TBB                                  0.2\n",
      "tblib                                1.7.0\n",
      "tenacity                             8.0.1\n",
      "terminado                            0.13.1\n",
      "testpath                             0.6.0\n",
      "text-unidecode                       1.3\n",
      "textdistance                         4.2.1\n",
      "threadpoolctl                        2.2.0\n",
      "three-merge                          0.1.1\n",
      "thrift                               0.17.0\n",
      "thrift-sasl                          0.4.3\n",
      "tifffile                             2021.7.2\n",
      "tinycss                              0.4\n",
      "tinycss2                             1.2.1\n",
      "tldextract                           3.2.0\n",
      "toml                                 0.10.2\n",
      "tomli                                2.0.1\n",
      "tomlkit                              0.11.1\n",
      "toolz                                0.11.2\n",
      "tornado                              6.3.3\n",
      "tqdm                                 4.66.1\n",
      "traitlets                            5.11.2\n",
      "Twisted                              23.8.0\n",
      "typing_extensions                    4.8.0\n",
      "tzdata                               2023.3\n",
      "ujson                                5.8.0\n",
      "Unidecode                            1.2.0\n",
      "uri-template                         1.3.0\n",
      "urllib3                              2.0.7\n",
      "w3lib                                1.21.0\n",
      "watchdog                             2.1.6\n",
      "wcwidth                              0.2.5\n",
      "webcolors                            1.13\n",
      "webencodings                         0.5.1\n",
      "websocket-client                     0.58.0\n",
      "Werkzeug                             3.0.0\n",
      "whatthepatch                         1.0.2\n",
      "wheel                                0.41.2\n",
      "widgetsnbextension                   3.5.2\n",
      "wrapt                                1.14.1\n",
      "wurlitzer                            3.0.2\n",
      "xarray                               0.20.1\n",
      "xlrd                                 2.0.1\n",
      "XlsxWriter                           3.0.3\n",
      "xxhash                               3.4.1\n",
      "xyzservices                          2023.10.0\n",
      "yapf                                 0.31.0\n",
      "yarl                                 1.9.3\n",
      "zict                                 2.1.0\n",
      "zipp                                 3.8.0\n",
      "zope.interface                       5.4.0\n",
      "zstandard                            0.15.2\n",
      "\n",
      "\u001b[1m[\u001b[0m\u001b[34;49mnotice\u001b[0m\u001b[1;39;49m]\u001b[0m\u001b[39;49m A new release of pip is available: \u001b[0m\u001b[31;49m23.2.1\u001b[0m\u001b[39;49m -> \u001b[0m\u001b[32;49m23.3.1\u001b[0m\n",
      "\u001b[1m[\u001b[0m\u001b[34;49mnotice\u001b[0m\u001b[1;39;49m]\u001b[0m\u001b[39;49m To update, run: \u001b[0m\u001b[32;49mpip install --upgrade pip\u001b[0m\n",
      "Note: you may need to restart the kernel to use updated packages.\n"
     ]
    }
   ],
   "source": [
    "%pip list"
   ]
  },
  {
   "cell_type": "code",
   "execution_count": 5,
   "id": "5eaf9999-7c02-4c00-ac93-0e0f8ba6553b",
   "metadata": {
    "tags": []
   },
   "outputs": [
    {
     "name": "stdout",
     "output_type": "stream",
     "text": [
      "Looking in indexes: https://pypi.org/simple, https://pypi.ngc.nvidia.com\n",
      "Requirement already satisfied: datasets==2.14.6 in /opt/conda/lib/python3.10/site-packages (2.14.6)\n",
      "Requirement already satisfied: boto3 in /opt/conda/lib/python3.10/site-packages (1.29.6)\n",
      "Requirement already satisfied: numpy>=1.17 in /opt/conda/lib/python3.10/site-packages (from datasets==2.14.6) (1.26.2)\n",
      "Requirement already satisfied: pyarrow>=8.0.0 in /opt/conda/lib/python3.10/site-packages (from datasets==2.14.6) (14.0.1)\n",
      "Requirement already satisfied: dill<0.3.8,>=0.3.0 in /opt/conda/lib/python3.10/site-packages (from datasets==2.14.6) (0.3.7)\n",
      "Requirement already satisfied: pandas in /opt/conda/lib/python3.10/site-packages (from datasets==2.14.6) (2.1.2)\n",
      "Requirement already satisfied: requests>=2.19.0 in /opt/conda/lib/python3.10/site-packages (from datasets==2.14.6) (2.31.0)\n",
      "Requirement already satisfied: tqdm>=4.62.1 in /opt/conda/lib/python3.10/site-packages (from datasets==2.14.6) (4.66.1)\n",
      "Requirement already satisfied: xxhash in /opt/conda/lib/python3.10/site-packages (from datasets==2.14.6) (3.4.1)\n",
      "Requirement already satisfied: multiprocess in /opt/conda/lib/python3.10/site-packages (from datasets==2.14.6) (0.70.15)\n",
      "Requirement already satisfied: fsspec[http]<=2023.10.0,>=2023.1.0 in /opt/conda/lib/python3.10/site-packages (from datasets==2.14.6) (2023.10.0)\n",
      "Requirement already satisfied: aiohttp in /opt/conda/lib/python3.10/site-packages (from datasets==2.14.6) (3.9.0)\n",
      "Requirement already satisfied: huggingface-hub<1.0.0,>=0.14.0 in /opt/conda/lib/python3.10/site-packages (from datasets==2.14.6) (0.19.4)\n",
      "Requirement already satisfied: packaging in /opt/conda/lib/python3.10/site-packages (from datasets==2.14.6) (23.2)\n",
      "Requirement already satisfied: pyyaml>=5.1 in /opt/conda/lib/python3.10/site-packages (from datasets==2.14.6) (6.0.1)\n",
      "Requirement already satisfied: botocore<1.33.0,>=1.32.6 in /opt/conda/lib/python3.10/site-packages (from boto3) (1.32.6)\n",
      "Requirement already satisfied: jmespath<2.0.0,>=0.7.1 in /opt/conda/lib/python3.10/site-packages (from boto3) (1.0.1)\n",
      "Requirement already satisfied: s3transfer<0.8.0,>=0.7.0 in /opt/conda/lib/python3.10/site-packages (from boto3) (0.7.0)\n",
      "Requirement already satisfied: python-dateutil<3.0.0,>=2.1 in /opt/conda/lib/python3.10/site-packages (from botocore<1.33.0,>=1.32.6->boto3) (2.8.2)\n",
      "Requirement already satisfied: urllib3<2.1,>=1.25.4 in /opt/conda/lib/python3.10/site-packages (from botocore<1.33.0,>=1.32.6->boto3) (2.0.7)\n",
      "Requirement already satisfied: attrs>=17.3.0 in /opt/conda/lib/python3.10/site-packages (from aiohttp->datasets==2.14.6) (23.1.0)\n",
      "Requirement already satisfied: multidict<7.0,>=4.5 in /opt/conda/lib/python3.10/site-packages (from aiohttp->datasets==2.14.6) (6.0.4)\n",
      "Requirement already satisfied: yarl<2.0,>=1.0 in /opt/conda/lib/python3.10/site-packages (from aiohttp->datasets==2.14.6) (1.9.3)\n",
      "Requirement already satisfied: frozenlist>=1.1.1 in /opt/conda/lib/python3.10/site-packages (from aiohttp->datasets==2.14.6) (1.4.0)\n",
      "Requirement already satisfied: aiosignal>=1.1.2 in /opt/conda/lib/python3.10/site-packages (from aiohttp->datasets==2.14.6) (1.3.1)\n",
      "Requirement already satisfied: async-timeout<5.0,>=4.0 in /opt/conda/lib/python3.10/site-packages (from aiohttp->datasets==2.14.6) (4.0.3)\n",
      "Requirement already satisfied: filelock in /opt/conda/lib/python3.10/site-packages (from huggingface-hub<1.0.0,>=0.14.0->datasets==2.14.6) (3.13.1)\n",
      "Requirement already satisfied: typing-extensions>=3.7.4.3 in /opt/conda/lib/python3.10/site-packages (from huggingface-hub<1.0.0,>=0.14.0->datasets==2.14.6) (4.8.0)\n",
      "Requirement already satisfied: charset-normalizer<4,>=2 in /opt/conda/lib/python3.10/site-packages (from requests>=2.19.0->datasets==2.14.6) (3.3.2)\n",
      "Requirement already satisfied: idna<4,>=2.5 in /opt/conda/lib/python3.10/site-packages (from requests>=2.19.0->datasets==2.14.6) (3.5)\n",
      "Requirement already satisfied: certifi>=2017.4.17 in /opt/conda/lib/python3.10/site-packages (from requests>=2.19.0->datasets==2.14.6) (2023.11.17)\n",
      "Requirement already satisfied: pytz>=2020.1 in /opt/conda/lib/python3.10/site-packages (from pandas->datasets==2.14.6) (2023.3.post1)\n",
      "Requirement already satisfied: tzdata>=2022.1 in /opt/conda/lib/python3.10/site-packages (from pandas->datasets==2.14.6) (2023.3)\n",
      "Requirement already satisfied: six>=1.5 in /opt/conda/lib/python3.10/site-packages (from python-dateutil<3.0.0,>=2.1->botocore<1.33.0,>=1.32.6->boto3) (1.16.0)\n",
      "\u001b[33mWARNING: Running pip as the 'root' user can result in broken permissions and conflicting behaviour with the system package manager. It is recommended to use a virtual environment instead: https://pip.pypa.io/warnings/venv\u001b[0m\u001b[33m\n",
      "\u001b[0m\n",
      "\u001b[1m[\u001b[0m\u001b[34;49mnotice\u001b[0m\u001b[1;39;49m]\u001b[0m\u001b[39;49m A new release of pip is available: \u001b[0m\u001b[31;49m23.2.1\u001b[0m\u001b[39;49m -> \u001b[0m\u001b[32;49m23.3.1\u001b[0m\n",
      "\u001b[1m[\u001b[0m\u001b[34;49mnotice\u001b[0m\u001b[1;39;49m]\u001b[0m\u001b[39;49m To update, run: \u001b[0m\u001b[32;49mpip install --upgrade pip\u001b[0m\n",
      "Note: you may need to restart the kernel to use updated packages.\n"
     ]
    }
   ],
   "source": [
    "%pip install datasets==2.14.6 boto3 \\\n",
    "#                botocore-1.31.60-py3-none-any.whl \\\n",
    "#                awscli"
   ]
  },
  {
   "cell_type": "code",
   "execution_count": 6,
   "id": "e17f96e1-7c93-44be-9e4c-542fa0254673",
   "metadata": {
    "tags": []
   },
   "outputs": [],
   "source": [
    "# %pip install -U boto3-1.28.60-py3-none-any.whl \\\n",
    "#                botocore-1.31.60-py3-none-any.whl \\\n",
    "#                awscli-1.29.60-py3-none-any.whl \\\n",
    "#                --force-reinstall --quiet"
   ]
  },
  {
   "cell_type": "code",
   "execution_count": 7,
   "id": "8dfaf752-e11b-4e69-ba9f-c934537360dc",
   "metadata": {
    "tags": []
   },
   "outputs": [
    {
     "name": "stdout",
     "output_type": "stream",
     "text": [
      "boto3                                1.29.6\n",
      "\n",
      "\u001b[1m[\u001b[0m\u001b[34;49mnotice\u001b[0m\u001b[1;39;49m]\u001b[0m\u001b[39;49m A new release of pip is available: \u001b[0m\u001b[31;49m23.2.1\u001b[0m\u001b[39;49m -> \u001b[0m\u001b[32;49m23.3.1\u001b[0m\n",
      "\u001b[1m[\u001b[0m\u001b[34;49mnotice\u001b[0m\u001b[1;39;49m]\u001b[0m\u001b[39;49m To update, run: \u001b[0m\u001b[32;49mpip install --upgrade pip\u001b[0m\n",
      "Note: you may need to restart the kernel to use updated packages.\n"
     ]
    }
   ],
   "source": [
    "%pip list | grep boto3"
   ]
  },
  {
   "cell_type": "markdown",
   "id": "8d966521-f63a-4c96-8494-68d6d2367938",
   "metadata": {},
   "source": [
    "#### Now let's set up our connection to the Amazon Bedrock SDK using Boto3"
   ]
  },
  {
   "cell_type": "code",
   "execution_count": 8,
   "id": "785b3b10-2c66-4adc-a4ac-747c214fd9cb",
   "metadata": {
    "tags": []
   },
   "outputs": [],
   "source": [
    "#### Un comment the following lines to run from your local environment outside of the AWS account with Bedrock access\n",
    "\n",
    "#import os\n",
    "#os.environ['BEDROCK_ASSUME_ROLE'] = '<YOUR_VALUES>'\n",
    "#os.environ['AWS_PROFILE'] = '<YOUR_VALUES>'"
   ]
  },
  {
   "cell_type": "code",
   "execution_count": 9,
   "id": "91ad566f-2a15-46ac-aeeb-346f9db0a10e",
   "metadata": {
    "tags": []
   },
   "outputs": [],
   "source": [
    "import boto3\n",
    "import json \n",
    "\n",
    "bedrock = boto3.client(service_name=\"bedrock\")\n",
    "bedrock_runtime = boto3.client(service_name=\"bedrock-runtime\")"
   ]
  },
  {
   "cell_type": "code",
   "execution_count": 10,
   "id": "fccc388a-66f0-4fcc-877e-ddd5990e3e53",
   "metadata": {
    "tags": []
   },
   "outputs": [
    {
     "name": "stdout",
     "output_type": "stream",
     "text": [
      "-----\n",
      "modelArn: arn:aws:bedrock:us-east-1::foundation-model/meta.llama2-13b-v1:0:4k\n",
      "modelId: meta.llama2-13b-v1:0:4k\n",
      "modelName: Llama 2 13B\n",
      "customizationsSupported: FINE_TUNING\n",
      "-----\n",
      "modelArn: arn:aws:bedrock:us-east-1::foundation-model/meta.llama2-70b-v1:0:4k\n",
      "modelId: meta.llama2-70b-v1:0:4k\n",
      "modelName: Llama 2 70B\n",
      "customizationsSupported: FINE_TUNING\n"
     ]
    }
   ],
   "source": [
    "for model in bedrock.list_foundation_models(byProvider=\"amazon\", byCustomizationType=\"FINE_TUNING\")[\"modelSummaries\"]:\n",
    "    print(\"-----\\n\" + \"modelArn: \" + model[\"modelArn\"] + \"\\nmodelId: \" + model[\"modelId\"] + \"\\nmodelName: \" + model[\"modelName\"] + \"\\ncustomizationsSupported: \" + ','.join(model[\"customizationsSupported\"]))"
   ]
  },
  {
   "cell_type": "code",
   "execution_count": 11,
   "id": "48703d82-bb32-44fa-916e-6cc5040a67cb",
   "metadata": {
    "tags": []
   },
   "outputs": [
    {
     "name": "stdout",
     "output_type": "stream",
     "text": [
      "sagemaker.config INFO - Not applying SDK defaults from location: /etc/xdg/sagemaker/config.yaml\n",
      "sagemaker.config INFO - Not applying SDK defaults from location: /root/.config/sagemaker/config.yaml\n",
      "sagemaker.config INFO - Not applying SDK defaults from location: /etc/xdg/sagemaker/config.yaml\n",
      "sagemaker.config INFO - Not applying SDK defaults from location: /root/.config/sagemaker/config.yaml\n",
      "sagemaker.config INFO - Not applying SDK defaults from location: /etc/xdg/sagemaker/config.yaml\n",
      "sagemaker.config INFO - Not applying SDK defaults from location: /root/.config/sagemaker/config.yaml\n"
     ]
    }
   ],
   "source": [
    "import sagemaker\n",
    "\n",
    "sess = sagemaker.Session()\n",
    "sagemaker_session_bucket = sess.default_bucket()\n",
    "role = sagemaker.get_execution_role()"
   ]
  },
  {
   "cell_type": "markdown",
   "id": "367c1fa8-657c-4e45-94e8-e907857d145a",
   "metadata": {
    "tags": []
   },
   "source": [
    "### Invoke Model before Fine-Training"
   ]
  },
  {
   "cell_type": "code",
   "execution_count": 12,
   "id": "ad1684e7-8b0f-436d-a8a0-2a2b45ffe387",
   "metadata": {},
   "outputs": [],
   "source": [
    "base_model_id = \"meta.llama2-13b-v1:0:4k\"\n",
    "chat_base_model_id = \"meta.llama2-13b-chat-v1\""
   ]
  },
  {
   "cell_type": "markdown",
   "id": "3dfa6614-7080-4dbb-af08-cd67ce6a8706",
   "metadata": {
    "tags": []
   },
   "source": [
    "### Convert the dataset into jsonlines format"
   ]
  },
  {
   "cell_type": "code",
   "execution_count": 13,
   "id": "6f96f947-e885-48a1-8530-b70b8fefc073",
   "metadata": {
    "tags": []
   },
   "outputs": [],
   "source": [
    "from datasets import load_dataset\n",
    "\n",
    "dataset = load_dataset(\"csv\", data_files=\"gaia_questions_answers.csv\")"
   ]
  },
  {
   "cell_type": "code",
   "execution_count": 14,
   "id": "20e80dee-a17d-4e46-9b6d-f5e1b7a1a81a",
   "metadata": {
    "tags": []
   },
   "outputs": [
    {
     "name": "stdout",
     "output_type": "stream",
     "text": [
      "DatasetDict({\n",
      "    train: Dataset({\n",
      "        features: ['question', 'answer'],\n",
      "        num_rows: 110\n",
      "    })\n",
      "})\n"
     ]
    }
   ],
   "source": [
    "print(dataset)"
   ]
  },
  {
   "cell_type": "code",
   "execution_count": 15,
   "id": "8cef0311-b45f-481b-bdbe-a14d4baa1359",
   "metadata": {
    "tags": []
   },
   "outputs": [],
   "source": [
    "def wrap_instruction_fn(example):\n",
    "    prompt = 'Answer the following question:\\n\\n'\n",
    "    end_prompt = '\\n\\nAnswer: '\n",
    "    example[\"instruction\"] = prompt + example[\"question\"] + end_prompt\n",
    "    return example"
   ]
  },
  {
   "cell_type": "code",
   "execution_count": 16,
   "id": "e94a8473-2226-4f0e-9890-03635534156b",
   "metadata": {
    "tags": []
   },
   "outputs": [
    {
     "data": {
      "application/vnd.jupyter.widget-view+json": {
       "model_id": "ba5062dbd18e430da785450e9ef7b527",
       "version_major": 2,
       "version_minor": 0
      },
      "text/plain": [
       "Map:   0%|          | 0/110 [00:00<?, ? examples/s]"
      ]
     },
     "metadata": {},
     "output_type": "display_data"
    },
    {
     "data": {
      "application/vnd.jupyter.widget-view+json": {
       "model_id": "ab62c28416bd429988d8506856d9a3bc",
       "version_major": 2,
       "version_minor": 0
      },
      "text/plain": [
       "Creating json from Arrow format:   0%|          | 0/1 [00:00<?, ?ba/s]"
      ]
     },
     "metadata": {},
     "output_type": "display_data"
    },
    {
     "data": {
      "text/plain": [
       "42498"
      ]
     },
     "execution_count": 16,
     "metadata": {},
     "output_type": "execute_result"
    }
   ],
   "source": [
    "dataset['train']\\\n",
    "  .filter(lambda example: example['question'] and example['answer'])\\\n",
    "  .select_columns(['question', 'answer'])\\\n",
    "  .map(wrap_instruction_fn)\\\n",
    "  .rename_column('instruction', 'prompt')\\\n",
    "  .rename_column('answer', 'completion')\\\n",
    "  .remove_columns(['question'])\\\n",
    "  .to_json('./train-question-answer.jsonl', index=False)\n",
    "\n",
    "# dataset['validation']\\\n",
    "#   .filter(lambda example: example['question'])\\\n",
    "#   .select_columns(['question', 'answer'])\\\n",
    "#   .map(wrap_instruction_fn)\\\n",
    "#   .rename_column('instruction', 'input')\\\n",
    "#   .rename_column('answer', 'output')\\\n",
    "#   .to_json('./validation-summarization.jsonl', index=False)\n",
    "\n",
    "# dataset['test']\\\n",
    "#   .filter(lambda example: example['question'])\\\n",
    "#   .select_columns(['question', 'answer'])\\\n",
    "#   .map(wrap_instruction_fn)\\\n",
    "#   .rename_column('instruction', 'input')\\\n",
    "#   .rename_column('answer', 'output')\\\n",
    "#   .to_json('./test-summarization.jsonl', index=False)\n",
    "\n",
    "#  .remove_columns(['Unnamed: 0.1', 'Unnamed: 0', 'question_id', 'title', 'answer_id', 'expertreviewed', 'upvotedcount', 'tags'])\\"
   ]
  },
  {
   "cell_type": "code",
   "execution_count": 17,
   "id": "8c60adba-f766-47ac-8bac-95f6fed26028",
   "metadata": {
    "tags": []
   },
   "outputs": [
    {
     "data": {
      "text/html": [
       "<div>\n",
       "<style scoped>\n",
       "    .dataframe tbody tr th:only-of-type {\n",
       "        vertical-align: middle;\n",
       "    }\n",
       "\n",
       "    .dataframe tbody tr th {\n",
       "        vertical-align: top;\n",
       "    }\n",
       "\n",
       "    .dataframe thead th {\n",
       "        text-align: right;\n",
       "    }\n",
       "</style>\n",
       "<table border=\"1\" class=\"dataframe\">\n",
       "  <thead>\n",
       "    <tr style=\"text-align: right;\">\n",
       "      <th></th>\n",
       "      <th>completion</th>\n",
       "      <th>prompt</th>\n",
       "    </tr>\n",
       "  </thead>\n",
       "  <tbody>\n",
       "    <tr>\n",
       "      <th>0</th>\n",
       "      <td>Intelligent search, automated customer-support...</td>\n",
       "      <td>Answer the following question:\\n\\nWhat are som...</td>\n",
       "    </tr>\n",
       "    <tr>\n",
       "      <th>1</th>\n",
       "      <td>Foundation models are large and complex neural...</td>\n",
       "      <td>Answer the following question:\\n\\nHow are foun...</td>\n",
       "    </tr>\n",
       "    <tr>\n",
       "      <th>2</th>\n",
       "      <td>The generative AI project life cycle, though n...</td>\n",
       "      <td>Answer the following question:\\n\\nCan you desc...</td>\n",
       "    </tr>\n",
       "    <tr>\n",
       "      <th>3</th>\n",
       "      <td>AWS offers a range of frameworks and infrastru...</td>\n",
       "      <td>Answer the following question:\\n\\nWhat makes A...</td>\n",
       "    </tr>\n",
       "    <tr>\n",
       "      <th>4</th>\n",
       "      <td>AWS offers increased flexibility, choice, ente...</td>\n",
       "      <td>Answer the following question:\\n\\nHow does Gen...</td>\n",
       "    </tr>\n",
       "    <tr>\n",
       "      <th>...</th>\n",
       "      <td>...</td>\n",
       "      <td>...</td>\n",
       "    </tr>\n",
       "    <tr>\n",
       "      <th>105</th>\n",
       "      <td>Textual inversion is a lightweight fine-tuning...</td>\n",
       "      <td>Answer the following question:\\n\\nWhat is text...</td>\n",
       "    </tr>\n",
       "    <tr>\n",
       "      <th>106</th>\n",
       "      <td>Human Alignment with Reinforcement Learning fr...</td>\n",
       "      <td>Answer the following question:\\n\\nHow does hum...</td>\n",
       "    </tr>\n",
       "    <tr>\n",
       "      <th>107</th>\n",
       "      <td>PEFT-LoRA (Parameter-Efficient Fine-Tuning wit...</td>\n",
       "      <td>Answer the following question:\\n\\nHow do PEFT-...</td>\n",
       "    </tr>\n",
       "    <tr>\n",
       "      <th>108</th>\n",
       "      <td>Fine-tuning Stable Diffusion models allows cus...</td>\n",
       "      <td>Answer the following question:\\n\\nWhat are the...</td>\n",
       "    </tr>\n",
       "    <tr>\n",
       "      <th>109</th>\n",
       "      <td>Fine-tuning techniques for diffusion models li...</td>\n",
       "      <td>Answer the following question:\\n\\nHow does fin...</td>\n",
       "    </tr>\n",
       "  </tbody>\n",
       "</table>\n",
       "<p>110 rows × 2 columns</p>\n",
       "</div>"
      ],
      "text/plain": [
       "                                            completion  \\\n",
       "0    Intelligent search, automated customer-support...   \n",
       "1    Foundation models are large and complex neural...   \n",
       "2    The generative AI project life cycle, though n...   \n",
       "3    AWS offers a range of frameworks and infrastru...   \n",
       "4    AWS offers increased flexibility, choice, ente...   \n",
       "..                                                 ...   \n",
       "105  Textual inversion is a lightweight fine-tuning...   \n",
       "106  Human Alignment with Reinforcement Learning fr...   \n",
       "107  PEFT-LoRA (Parameter-Efficient Fine-Tuning wit...   \n",
       "108  Fine-tuning Stable Diffusion models allows cus...   \n",
       "109  Fine-tuning techniques for diffusion models li...   \n",
       "\n",
       "                                                prompt  \n",
       "0    Answer the following question:\\n\\nWhat are som...  \n",
       "1    Answer the following question:\\n\\nHow are foun...  \n",
       "2    Answer the following question:\\n\\nCan you desc...  \n",
       "3    Answer the following question:\\n\\nWhat makes A...  \n",
       "4    Answer the following question:\\n\\nHow does Gen...  \n",
       "..                                                 ...  \n",
       "105  Answer the following question:\\n\\nWhat is text...  \n",
       "106  Answer the following question:\\n\\nHow does hum...  \n",
       "107  Answer the following question:\\n\\nHow do PEFT-...  \n",
       "108  Answer the following question:\\n\\nWhat are the...  \n",
       "109  Answer the following question:\\n\\nHow does fin...  \n",
       "\n",
       "[110 rows x 2 columns]"
      ]
     },
     "execution_count": 17,
     "metadata": {},
     "output_type": "execute_result"
    }
   ],
   "source": [
    "import pandas as pd\n",
    "df = pd.read_json(\"./train-question-answer.jsonl\", lines=True)\n",
    "df"
   ]
  },
  {
   "cell_type": "code",
   "execution_count": 18,
   "id": "215843b6-9c4e-4c82-b3c1-c8cc99d01488",
   "metadata": {
    "tags": []
   },
   "outputs": [],
   "source": [
    "data = \"./train-question-answer.jsonl\""
   ]
  },
  {
   "cell_type": "markdown",
   "id": "8de721f4-3f65-4aa4-84ce-19f7a7c47778",
   "metadata": {},
   "source": [
    "Read the JSON line file into an object like any normal file"
   ]
  },
  {
   "cell_type": "code",
   "execution_count": 19,
   "id": "bfa423f6-7827-45fc-bd49-39c1b6f9759a",
   "metadata": {
    "tags": []
   },
   "outputs": [],
   "source": [
    "with open(data) as f:\n",
    "    lines = f.read().splitlines()"
   ]
  },
  {
   "cell_type": "markdown",
   "id": "46c2ea85-a95b-4cfb-9463-692b9a642897",
   "metadata": {},
   "source": [
    "#### Load the ‘lines’ object into a pandas Data Frame."
   ]
  },
  {
   "cell_type": "code",
   "execution_count": 20,
   "id": "7da61e9b-ac1f-4f69-8cb6-b525a737cba2",
   "metadata": {
    "tags": []
   },
   "outputs": [],
   "source": [
    "import pandas as pd\n",
    "df_inter = pd.DataFrame(lines)\n",
    "df_inter.columns = ['json_element']"
   ]
  },
  {
   "cell_type": "markdown",
   "id": "efbf4879-a796-4359-ba80-f7a54dc05cd6",
   "metadata": {},
   "source": [
    "This intermediate data frame will have only one column with each json object in a row. A sample output is given below."
   ]
  },
  {
   "cell_type": "code",
   "execution_count": 21,
   "id": "75a8528c-d478-48a9-acef-ac135b3090d1",
   "metadata": {
    "tags": []
   },
   "outputs": [
    {
     "data": {
      "text/plain": [
       "0      {'completion': 'Intelligent search, automated ...\n",
       "1      {'completion': 'Foundation models are large an...\n",
       "2      {'completion': 'The generative AI project life...\n",
       "3      {'completion': 'AWS offers a range of framewor...\n",
       "4      {'completion': 'AWS offers increased flexibili...\n",
       "                             ...                        \n",
       "105    {'completion': 'Textual inversion is a lightwe...\n",
       "106    {'completion': 'Human Alignment with Reinforce...\n",
       "107    {'completion': 'PEFT-LoRA (Parameter-Efficient...\n",
       "108    {'completion': 'Fine-tuning Stable Diffusion m...\n",
       "109    {'completion': 'Fine-tuning techniques for dif...\n",
       "Name: json_element, Length: 110, dtype: object"
      ]
     },
     "execution_count": 21,
     "metadata": {},
     "output_type": "execute_result"
    }
   ],
   "source": [
    "df_inter['json_element'].apply(json.loads)"
   ]
  },
  {
   "cell_type": "markdown",
   "id": "4fc711d5-6522-47be-b4b6-fe292d70e6e8",
   "metadata": {},
   "source": [
    "Now we will apply json loads function on each row of the ‘json_element’ column. ‘json.loads’ is a decoder function in python which is used to decode a json object into a dictionary. ‘apply’ is a popular function in pandas that takes any function and applies to each row of the pandas dataframe or series."
   ]
  },
  {
   "cell_type": "code",
   "execution_count": 22,
   "id": "600eac79-5830-4422-a39a-19b6770827a1",
   "metadata": {
    "tags": []
   },
   "outputs": [],
   "source": [
    "df_final = pd.json_normalize(df_inter['json_element'].apply(json.loads))"
   ]
  },
  {
   "cell_type": "markdown",
   "id": "10f2430c-c36f-43a7-8ce6-e17b0efdbd20",
   "metadata": {},
   "source": [
    "Once decoding is done we will apply the json normalize function to the above result. json normalize will convert any semi-structured json data into a flat table. Here it converts the JSON ‘keys’ to columns and its corresponding values to row elements."
   ]
  },
  {
   "cell_type": "code",
   "execution_count": 23,
   "id": "e2061f7a-eb1a-4089-96c1-7bfc8dd3d741",
   "metadata": {
    "tags": []
   },
   "outputs": [
    {
     "data": {
      "text/html": [
       "<div>\n",
       "<style scoped>\n",
       "    .dataframe tbody tr th:only-of-type {\n",
       "        vertical-align: middle;\n",
       "    }\n",
       "\n",
       "    .dataframe tbody tr th {\n",
       "        vertical-align: top;\n",
       "    }\n",
       "\n",
       "    .dataframe thead th {\n",
       "        text-align: right;\n",
       "    }\n",
       "</style>\n",
       "<table border=\"1\" class=\"dataframe\">\n",
       "  <thead>\n",
       "    <tr style=\"text-align: right;\">\n",
       "      <th></th>\n",
       "      <th>completion</th>\n",
       "      <th>prompt</th>\n",
       "    </tr>\n",
       "  </thead>\n",
       "  <tbody>\n",
       "    <tr>\n",
       "      <th>0</th>\n",
       "      <td>Intelligent search, automated customer-support...</td>\n",
       "      <td>Answer the following question:\\n\\nWhat are som...</td>\n",
       "    </tr>\n",
       "    <tr>\n",
       "      <th>1</th>\n",
       "      <td>Foundation models are large and complex neural...</td>\n",
       "      <td>Answer the following question:\\n\\nHow are foun...</td>\n",
       "    </tr>\n",
       "    <tr>\n",
       "      <th>2</th>\n",
       "      <td>The generative AI project life cycle, though n...</td>\n",
       "      <td>Answer the following question:\\n\\nCan you desc...</td>\n",
       "    </tr>\n",
       "    <tr>\n",
       "      <th>3</th>\n",
       "      <td>AWS offers a range of frameworks and infrastru...</td>\n",
       "      <td>Answer the following question:\\n\\nWhat makes A...</td>\n",
       "    </tr>\n",
       "    <tr>\n",
       "      <th>4</th>\n",
       "      <td>AWS offers increased flexibility, choice, ente...</td>\n",
       "      <td>Answer the following question:\\n\\nHow does Gen...</td>\n",
       "    </tr>\n",
       "    <tr>\n",
       "      <th>...</th>\n",
       "      <td>...</td>\n",
       "      <td>...</td>\n",
       "    </tr>\n",
       "    <tr>\n",
       "      <th>105</th>\n",
       "      <td>Textual inversion is a lightweight fine-tuning...</td>\n",
       "      <td>Answer the following question:\\n\\nWhat is text...</td>\n",
       "    </tr>\n",
       "    <tr>\n",
       "      <th>106</th>\n",
       "      <td>Human Alignment with Reinforcement Learning fr...</td>\n",
       "      <td>Answer the following question:\\n\\nHow does hum...</td>\n",
       "    </tr>\n",
       "    <tr>\n",
       "      <th>107</th>\n",
       "      <td>PEFT-LoRA (Parameter-Efficient Fine-Tuning wit...</td>\n",
       "      <td>Answer the following question:\\n\\nHow do PEFT-...</td>\n",
       "    </tr>\n",
       "    <tr>\n",
       "      <th>108</th>\n",
       "      <td>Fine-tuning Stable Diffusion models allows cus...</td>\n",
       "      <td>Answer the following question:\\n\\nWhat are the...</td>\n",
       "    </tr>\n",
       "    <tr>\n",
       "      <th>109</th>\n",
       "      <td>Fine-tuning techniques for diffusion models li...</td>\n",
       "      <td>Answer the following question:\\n\\nHow does fin...</td>\n",
       "    </tr>\n",
       "  </tbody>\n",
       "</table>\n",
       "<p>110 rows × 2 columns</p>\n",
       "</div>"
      ],
      "text/plain": [
       "                                            completion  \\\n",
       "0    Intelligent search, automated customer-support...   \n",
       "1    Foundation models are large and complex neural...   \n",
       "2    The generative AI project life cycle, though n...   \n",
       "3    AWS offers a range of frameworks and infrastru...   \n",
       "4    AWS offers increased flexibility, choice, ente...   \n",
       "..                                                 ...   \n",
       "105  Textual inversion is a lightweight fine-tuning...   \n",
       "106  Human Alignment with Reinforcement Learning fr...   \n",
       "107  PEFT-LoRA (Parameter-Efficient Fine-Tuning wit...   \n",
       "108  Fine-tuning Stable Diffusion models allows cus...   \n",
       "109  Fine-tuning techniques for diffusion models li...   \n",
       "\n",
       "                                                prompt  \n",
       "0    Answer the following question:\\n\\nWhat are som...  \n",
       "1    Answer the following question:\\n\\nHow are foun...  \n",
       "2    Answer the following question:\\n\\nCan you desc...  \n",
       "3    Answer the following question:\\n\\nWhat makes A...  \n",
       "4    Answer the following question:\\n\\nHow does Gen...  \n",
       "..                                                 ...  \n",
       "105  Answer the following question:\\n\\nWhat is text...  \n",
       "106  Answer the following question:\\n\\nHow does hum...  \n",
       "107  Answer the following question:\\n\\nHow do PEFT-...  \n",
       "108  Answer the following question:\\n\\nWhat are the...  \n",
       "109  Answer the following question:\\n\\nHow does fin...  \n",
       "\n",
       "[110 rows x 2 columns]"
      ]
     },
     "execution_count": 23,
     "metadata": {},
     "output_type": "execute_result"
    }
   ],
   "source": [
    "df_final"
   ]
  },
  {
   "cell_type": "markdown",
   "id": "6546f2e9-000b-4c87-807e-2a63554bcc8c",
   "metadata": {},
   "source": [
    "### Uploading data to S3"
   ]
  },
  {
   "cell_type": "markdown",
   "id": "fe91c8bc-cb24-4b04-8de8-25c03c3490df",
   "metadata": {},
   "source": [
    "Next, we need to upload our training dataset to S3:"
   ]
  },
  {
   "cell_type": "code",
   "execution_count": 24,
   "id": "49e9547f-127d-444e-89ed-6403781c83a9",
   "metadata": {
    "tags": []
   },
   "outputs": [],
   "source": [
    "s3_location = f\"s3://{sagemaker_session_bucket}/bedrock/finetuning/train-question-answer.jsonl\"\n",
    "s3_output = f\"s3://{sagemaker_session_bucket}/bedrock/finetuning/output\""
   ]
  },
  {
   "cell_type": "code",
   "execution_count": 25,
   "id": "1fb873b6-c50b-46fb-bd1f-a050bf523221",
   "metadata": {
    "tags": []
   },
   "outputs": [
    {
     "name": "stdout",
     "output_type": "stream",
     "text": [
      "upload: ./train-question-answer.jsonl to s3://sagemaker-us-east-1-079002598131/bedrock/finetuning/train-question-answer.jsonl\n"
     ]
    }
   ],
   "source": [
    "!aws s3 cp ./train-question-answer.jsonl $s3_location"
   ]
  },
  {
   "cell_type": "markdown",
   "id": "dbb85e28-aec1-46bc-aa6c-ba9b04cbc106",
   "metadata": {
    "tags": []
   },
   "source": [
    "Now we can create the fine-tuning job. \n",
    "\n",
    "### ^^ **Note:** Make sure the IAM role you're using has these [IAM policies](https://docs.aws.amazon.com/bedrock/latest/userguide/model-customization-iam-role.html) attached that allow Amazon Bedrock access to the specified S3 buckets ^^"
   ]
  },
  {
   "cell_type": "markdown",
   "id": "9c04f82b-a918-4226-bf88-3ce567e50bcc",
   "metadata": {},
   "source": [
    "## 2. Fine-tuning"
   ]
  },
  {
   "cell_type": "code",
   "execution_count": 26,
   "id": "093e54cf-f0f3-403f-8ef5-84e0cbb40d1b",
   "metadata": {
    "tags": []
   },
   "outputs": [],
   "source": [
    "import time\n",
    "timestamp = int(time.time())"
   ]
  },
  {
   "cell_type": "code",
   "execution_count": 27,
   "id": "cdc3af82-7cd6-44bd-bf14-e3e455c15e3a",
   "metadata": {
    "tags": []
   },
   "outputs": [
    {
     "data": {
      "text/plain": [
       "'llama2-1701035879'"
      ]
     },
     "execution_count": 27,
     "metadata": {},
     "output_type": "execute_result"
    }
   ],
   "source": [
    "job_name = \"llama2-{}\".format(timestamp)\n",
    "job_name"
   ]
  },
  {
   "cell_type": "code",
   "execution_count": 28,
   "id": "adfbd806-cb7e-4414-97a6-9239e98e5604",
   "metadata": {
    "tags": []
   },
   "outputs": [
    {
     "data": {
      "text/plain": [
       "'custom-llama2-1701035879'"
      ]
     },
     "execution_count": 28,
     "metadata": {},
     "output_type": "execute_result"
    }
   ],
   "source": [
    "custom_model_name = \"custom-{}\".format(job_name)\n",
    "custom_model_name"
   ]
  },
  {
   "cell_type": "code",
   "execution_count": 29,
   "id": "e4f0ead8-31d2-4146-82c8-2d4d5fa07397",
   "metadata": {
    "tags": []
   },
   "outputs": [
    {
     "data": {
      "text/plain": [
       "{'ResponseMetadata': {'RequestId': '3f52b536-ae02-44f9-aab8-7cf97b8de36d',\n",
       "  'HTTPStatusCode': 201,\n",
       "  'HTTPHeaders': {'date': 'Sun, 26 Nov 2023 21:57:59 GMT',\n",
       "   'content-type': 'application/json',\n",
       "   'content-length': '112',\n",
       "   'connection': 'keep-alive',\n",
       "   'x-amzn-requestid': '3f52b536-ae02-44f9-aab8-7cf97b8de36d'},\n",
       "  'RetryAttempts': 0},\n",
       " 'jobArn': 'arn:aws:bedrock:us-east-1:079002598131:model-customization-job/meta.llama2-13b-v1:0:4k/nn382igms8q1'}"
      ]
     },
     "execution_count": 29,
     "metadata": {},
     "output_type": "execute_result"
    }
   ],
   "source": [
    "bedrock.create_model_customization_job(\n",
    "    jobName=job_name,\n",
    "    customModelName=custom_model_name,\n",
    "    roleArn=role,\n",
    "    baseModelIdentifier=base_model_id,\n",
    "    hyperParameters = {\n",
    "        \"epochCount\": \"10\",\n",
    "        \"batchSize\": \"1\",\n",
    "        \"learningRate\": \"0.000005\",\n",
    "    },\n",
    "    trainingDataConfig={\"s3Uri\": s3_location},\n",
    "    outputDataConfig={\"s3Uri\": s3_output},\n",
    ")"
   ]
  },
  {
   "cell_type": "code",
   "execution_count": 30,
   "id": "2b1a6b37-6a22-4f63-8729-185642acc1f1",
   "metadata": {
    "tags": []
   },
   "outputs": [
    {
     "data": {
      "text/plain": [
       "'InProgress'"
      ]
     },
     "execution_count": 30,
     "metadata": {},
     "output_type": "execute_result"
    }
   ],
   "source": [
    "status = bedrock.get_model_customization_job(jobIdentifier=job_name)[\"status\"]\n",
    "status"
   ]
  },
  {
   "cell_type": "markdown",
   "id": "988e0489-c5e3-4cc7-981b-6706497c6527",
   "metadata": {},
   "source": [
    "# Let's periodically check in on the progress.\n",
    "### The next cell might run for ~40min"
   ]
  },
  {
   "cell_type": "code",
   "execution_count": null,
   "id": "6f87f790-8ee0-4485-b090-1be7af0f0554",
   "metadata": {
    "tags": []
   },
   "outputs": [],
   "source": [
    "import time\n",
    "\n",
    "status = bedrock.get_model_customization_job(jobIdentifier=job_name)[\"status\"]\n",
    "\n",
    "while status == \"InProgress\":\n",
    "    print(status)\n",
    "    time.sleep(30)\n",
    "    status = bedrock.get_model_customization_job(jobIdentifier=job_name)[\"status\"]\n",
    "    \n",
    "print(status)"
   ]
  },
  {
   "cell_type": "code",
   "execution_count": null,
   "id": "9813589e-901f-49d5-9a1b-82609a405da9",
   "metadata": {
    "tags": []
   },
   "outputs": [],
   "source": [
    "completed_job = bedrock.get_model_customization_job(jobIdentifier=job_name)\n",
    "completed_job"
   ]
  },
  {
   "cell_type": "markdown",
   "id": "15b47ec7-9933-45d1-9ad6-67be8fb318f9",
   "metadata": {},
   "source": [
    "## 3. Testing"
   ]
  },
  {
   "cell_type": "markdown",
   "id": "b13364c0-17a8-4a30-b354-100c7b43a81b",
   "metadata": {},
   "source": [
    "Now we can test the fine-tuned model"
   ]
  },
  {
   "cell_type": "code",
   "execution_count": 44,
   "id": "42f5bdf2-29a9-4041-8a62-b1f69ddbf129",
   "metadata": {
    "tags": []
   },
   "outputs": [
    {
     "data": {
      "text/plain": [
       "{'ResponseMetadata': {'RequestId': 'cdf58f7e-ca6e-4f71-a33d-c1856c79a9a8',\n",
       "  'HTTPStatusCode': 200,\n",
       "  'HTTPHeaders': {'date': 'Sun, 26 Nov 2023 23:00:27 GMT',\n",
       "   'content-type': 'application/json',\n",
       "   'content-length': '1352',\n",
       "   'connection': 'keep-alive',\n",
       "   'x-amzn-requestid': 'cdf58f7e-ca6e-4f71-a33d-c1856c79a9a8'},\n",
       "  'RetryAttempts': 0},\n",
       " 'modelSummaries': [{'modelArn': 'arn:aws:bedrock:us-east-1:079002598131:custom-model/meta.llama2-13b-v1:0:4k/090h29lu0qu6',\n",
       "   'modelName': 'custom-llama2-1701035879',\n",
       "   'creationTime': datetime.datetime(2023, 11, 26, 21, 57, 59, 827000, tzinfo=tzlocal()),\n",
       "   'baseModelArn': 'arn:aws:bedrock:us-east-1::foundation-model/meta.llama2-13b-v1:0:4k',\n",
       "   'baseModelName': ''},\n",
       "  {'modelArn': 'arn:aws:bedrock:us-east-1:079002598131:custom-model/meta.llama2-13b-v1:0:4k/ylbb90zehwl3',\n",
       "   'modelName': 'custom-llama2-1701028200',\n",
       "   'creationTime': datetime.datetime(2023, 11, 26, 19, 50, 1, 477000, tzinfo=tzlocal()),\n",
       "   'baseModelArn': 'arn:aws:bedrock:us-east-1::foundation-model/meta.llama2-13b-v1:0:4k',\n",
       "   'baseModelName': ''},\n",
       "  {'modelArn': 'arn:aws:bedrock:us-east-1:079002598131:custom-model/cohere.command-light-text-v14:7:4k/4lhrdnpzkqzc',\n",
       "   'modelName': 'custom-command-1700891352',\n",
       "   'creationTime': datetime.datetime(2023, 11, 25, 5, 49, 12, 797000, tzinfo=tzlocal()),\n",
       "   'baseModelArn': 'arn:aws:bedrock:us-east-1::foundation-model/cohere.command-light-text-v14:7:4k',\n",
       "   'baseModelName': ''},\n",
       "  {'modelArn': 'arn:aws:bedrock:us-east-1:079002598131:custom-model/meta.llama2-13b-v1:0:4k/9ntzuvjm70pa',\n",
       "   'modelName': 'custom-llama2-1700891164',\n",
       "   'creationTime': datetime.datetime(2023, 11, 25, 5, 46, 55, 700000, tzinfo=tzlocal()),\n",
       "   'baseModelArn': 'arn:aws:bedrock:us-east-1::foundation-model/meta.llama2-13b-v1:0:4k',\n",
       "   'baseModelName': ''}]}"
      ]
     },
     "execution_count": 44,
     "metadata": {},
     "output_type": "execute_result"
    }
   ],
   "source": [
    "bedrock.list_custom_models()"
   ]
  },
  {
   "cell_type": "code",
   "execution_count": 45,
   "id": "c7be0a01-1a4a-41e9-8c39-89f4d36942f1",
   "metadata": {
    "tags": []
   },
   "outputs": [
    {
     "name": "stdout",
     "output_type": "stream",
     "text": [
      "-----\n",
      "jobArn: arn:aws:bedrock:us-east-1:079002598131:model-customization-job/meta.llama2-13b-v1:0:4k/nn382igms8q1\n",
      "jobName: llama2-1701035879\n",
      "status: Completed\n",
      "customModelName: custom-llama2-1701035879\n",
      "-----\n",
      "jobArn: arn:aws:bedrock:us-east-1:079002598131:model-customization-job/cohere.command-light-text-v14:7:4k/v8qgvki9ae1y\n",
      "jobName: cohere-1701034305\n",
      "status: Failed\n",
      "customModelName: custom-cohere-1701034305\n",
      "-----\n",
      "jobArn: arn:aws:bedrock:us-east-1:079002598131:model-customization-job/meta.llama2-13b-v1:0:4k/4nad2l4z3gq0\n",
      "jobName: llama2-1701028200\n",
      "status: Completed\n",
      "customModelName: custom-llama2-1701028200\n",
      "-----\n",
      "jobArn: arn:aws:bedrock:us-east-1:079002598131:model-customization-job/cohere.command-light-text-v14:7:4k/8ad33o2e2ozn\n",
      "jobName: cohere-1701028147\n",
      "status: Failed\n",
      "customModelName: custom-cohere-1701028147\n",
      "-----\n",
      "jobArn: arn:aws:bedrock:us-east-1:079002598131:model-customization-job/meta.llama2-13b-v1:0:4k/en8raawbsg7e\n",
      "jobName: llama2-1701026490\n",
      "status: Stopped\n",
      "customModelName: custom-llama2-1701026490\n",
      "-----\n",
      "jobArn: arn:aws:bedrock:us-east-1:079002598131:model-customization-job/cohere.command-light-text-v14:7:4k/03sp0lrp0gc0\n",
      "jobName: cohere-1701026165\n",
      "status: Failed\n",
      "customModelName: custom-cohere-1701026165\n",
      "-----\n",
      "jobArn: arn:aws:bedrock:us-east-1:079002598131:model-customization-job/meta.llama2-13b-v1:0:4k/nmwalms06lms\n",
      "jobName: llama2-1701026199\n",
      "status: Stopped\n",
      "customModelName: custom-llama2-1701026199\n",
      "-----\n",
      "jobArn: arn:aws:bedrock:us-east-1:079002598131:model-customization-job/cohere.command-light-text-v14:7:4k/zx11jc2mn2hu\n",
      "jobName: command-1700891352\n",
      "status: Completed\n",
      "customModelName: custom-command-1700891352\n",
      "-----\n",
      "jobArn: arn:aws:bedrock:us-east-1:079002598131:model-customization-job/meta.llama2-13b-v1:0:4k/xds19wndokym\n",
      "jobName: llama2-1700891164\n",
      "status: Completed\n",
      "customModelName: custom-llama2-1700891164\n",
      "-----\n",
      "jobArn: arn:aws:bedrock:us-east-1:079002598131:model-customization-job/cohere.command-light-text-v14:7:4k/tzgn6nrk6vug\n",
      "jobName: command-1700867835\n",
      "status: Completed\n",
      "customModelName: custom-command-1700867835\n",
      "-----\n",
      "jobArn: arn:aws:bedrock:us-east-1:079002598131:model-customization-job/meta.llama2-13b-v1:0:4k/nhdtyu1j1p2l\n",
      "jobName: titan-1700863680\n",
      "status: Completed\n",
      "customModelName: custom-titan-1700863680\n",
      "-----\n",
      "jobArn: arn:aws:bedrock:us-east-1:079002598131:model-customization-job/meta.llama2-13b-v1:0:4k/dk583xowsxt2\n",
      "jobName: llama2-1700862197\n",
      "status: Completed\n",
      "customModelName: custom-llama2-1700862197\n"
     ]
    }
   ],
   "source": [
    "for job in bedrock.list_model_customization_jobs()[\"modelCustomizationJobSummaries\"]:\n",
    "    print(\"-----\\n\" + \"jobArn: \" + job[\"jobArn\"] + \"\\njobName: \" + job[\"jobName\"] + \"\\nstatus: \" + job[\"status\"] + \"\\ncustomModelName: \" + job[\"customModelName\"])"
   ]
  },
  {
   "cell_type": "markdown",
   "id": "adcf92c4-e2d3-48d4-83ab-592770e6aa61",
   "metadata": {},
   "source": [
    "## GetCustomModel"
   ]
  },
  {
   "cell_type": "code",
   "execution_count": 46,
   "id": "b0456a56-8bc3-47d2-8d69-4205ad0b1cb3",
   "metadata": {
    "tags": []
   },
   "outputs": [
    {
     "data": {
      "text/plain": [
       "{'ResponseMetadata': {'RequestId': 'fa3efca0-3f15-4d23-b9a2-1a7b848a56e2',\n",
       "  'HTTPStatusCode': 200,\n",
       "  'HTTPHeaders': {'date': 'Sun, 26 Nov 2023 23:00:30 GMT',\n",
       "   'content-type': 'application/json',\n",
       "   'content-length': '849',\n",
       "   'connection': 'keep-alive',\n",
       "   'x-amzn-requestid': 'fa3efca0-3f15-4d23-b9a2-1a7b848a56e2'},\n",
       "  'RetryAttempts': 0},\n",
       " 'modelArn': 'arn:aws:bedrock:us-east-1:079002598131:custom-model/meta.llama2-13b-v1:0:4k/090h29lu0qu6',\n",
       " 'modelName': 'custom-llama2-1701035879',\n",
       " 'jobArn': 'arn:aws:bedrock:us-east-1:079002598131:model-customization-job/meta.llama2-13b-v1:0:4k/nn382igms8q1',\n",
       " 'baseModelArn': 'arn:aws:bedrock:us-east-1::foundation-model/meta.llama2-13b-v1:0:4k',\n",
       " 'hyperParameters': {'batchSize': '1',\n",
       "  'epochCount': '10',\n",
       "  'learningRate': '0.000005'},\n",
       " 'trainingDataConfig': {'s3Uri': 's3://sagemaker-us-east-1-079002598131/bedrock/finetuning/train-question-answer.jsonl'},\n",
       " 'outputDataConfig': {'s3Uri': 's3://sagemaker-us-east-1-079002598131/bedrock/finetuning/output'},\n",
       " 'trainingMetrics': {'trainingLoss': 0.5636094212532043},\n",
       " 'validationMetrics': [],\n",
       " 'creationTime': datetime.datetime(2023, 11, 26, 21, 57, 59, 827000, tzinfo=tzlocal())}"
      ]
     },
     "execution_count": 46,
     "metadata": {},
     "output_type": "execute_result"
    }
   ],
   "source": [
    "bedrock.get_custom_model(modelIdentifier=custom_model_name)"
   ]
  },
  {
   "cell_type": "code",
   "execution_count": 47,
   "id": "03bb02cd-0624-43f1-b3bc-2369333640d3",
   "metadata": {
    "tags": []
   },
   "outputs": [
    {
     "data": {
      "text/plain": [
       "'arn:aws:bedrock:us-east-1:079002598131:custom-model/meta.llama2-13b-v1:0:4k/090h29lu0qu6'"
      ]
     },
     "execution_count": 47,
     "metadata": {},
     "output_type": "execute_result"
    }
   ],
   "source": [
    "custom_model_arn = bedrock.get_custom_model(modelIdentifier=custom_model_name)['modelArn']\n",
    "custom_model_arn"
   ]
  },
  {
   "cell_type": "code",
   "execution_count": 48,
   "id": "6a6a7e0b-2ee9-4c58-9db7-9d504b35d67e",
   "metadata": {
    "tags": []
   },
   "outputs": [
    {
     "data": {
      "text/plain": [
       "'arn:aws:bedrock:us-east-1::foundation-model/meta.llama2-13b-v1:0:4k'"
      ]
     },
     "execution_count": 48,
     "metadata": {},
     "output_type": "execute_result"
    }
   ],
   "source": [
    "base_model_arn = bedrock.get_custom_model(modelIdentifier=custom_model_name)['baseModelArn']\n",
    "base_model_arn"
   ]
  },
  {
   "cell_type": "markdown",
   "id": "f80e23e8-c4ee-4598-95ec-65620abb3631",
   "metadata": {},
   "source": [
    "## **Note:** To invoke custom models, you need to first create a provisioned throughput resource and make requests using that resource."
   ]
  },
  {
   "cell_type": "code",
   "execution_count": 49,
   "id": "bd028a6c-f13b-4d58-9b4f-ce8a18aecd66",
   "metadata": {
    "tags": []
   },
   "outputs": [
    {
     "data": {
      "text/plain": [
       "'custom-llama2-1701035879-provisioned'"
      ]
     },
     "execution_count": 49,
     "metadata": {},
     "output_type": "execute_result"
    }
   ],
   "source": [
    "provisioned_model_name = \"{}-provisioned\".format(custom_model_name)\n",
    "provisioned_model_name"
   ]
  },
  {
   "cell_type": "markdown",
   "id": "301d7cbf-f391-4436-953e-70eaa987e3aa",
   "metadata": {},
   "source": [
    "## !! **Note:** SDK currently only supports 1 month and 6 months commitment terms. Go to Bedrock console to manually purchase no commitment term option for testing !!"
   ]
  },
  {
   "cell_type": "code",
   "execution_count": null,
   "id": "531afd39-5bde-4ead-a342-bea7c972c39c",
   "metadata": {
    "tags": []
   },
   "outputs": [],
   "source": [
    "# bedrock.create_provisioned_model_throughput(\n",
    "#     modelUnits = 1,\n",
    "#     commitmentDuration = \"OneMonth\", ## Note: SDK is currently missing No Commitment option\n",
    "#     provisionedModelName = provisioned_model_name,\n",
    "#     modelId = base_model_arn\n",
    "# ) "
   ]
  },
  {
   "cell_type": "markdown",
   "id": "3828ec02-d7ae-43d3-afcb-060c95d4f4fd",
   "metadata": {},
   "source": [
    "## ListProvisionedModelThroughputs"
   ]
  },
  {
   "cell_type": "code",
   "execution_count": 50,
   "id": "269b30af-8167-4c70-be70-ec0050fca906",
   "metadata": {
    "tags": []
   },
   "outputs": [
    {
     "data": {
      "text/plain": [
       "[{'provisionedModelName': 'custom-llama2-1701035879-provisioned',\n",
       "  'provisionedModelArn': 'arn:aws:bedrock:us-east-1:079002598131:provisioned-model/qicn3gbfoq04',\n",
       "  'modelArn': 'arn:aws:bedrock:us-east-1:079002598131:custom-model/meta.llama2-13b-v1:0:4k/090h29lu0qu6',\n",
       "  'desiredModelArn': 'arn:aws:bedrock:us-east-1:079002598131:custom-model/meta.llama2-13b-v1:0:4k/090h29lu0qu6',\n",
       "  'foundationModelArn': 'arn:aws:bedrock:us-east-1::foundation-model/meta.llama2-13b-v1:0:4k',\n",
       "  'modelUnits': 0,\n",
       "  'desiredModelUnits': 1,\n",
       "  'status': 'Creating',\n",
       "  'creationTime': datetime.datetime(2023, 11, 26, 23, 0, 1, 180000, tzinfo=tzlocal()),\n",
       "  'lastModifiedTime': datetime.datetime(2023, 11, 26, 23, 0, 16, 34000, tzinfo=tzlocal())},\n",
       " {'provisionedModelName': 'custom-llama2-1700891164-provisioned',\n",
       "  'provisionedModelArn': 'arn:aws:bedrock:us-east-1:079002598131:provisioned-model/uqh842ttyg89',\n",
       "  'modelArn': 'arn:aws:bedrock:us-east-1:079002598131:custom-model/meta.llama2-13b-v1:0:4k/9ntzuvjm70pa',\n",
       "  'desiredModelArn': 'arn:aws:bedrock:us-east-1:079002598131:custom-model/meta.llama2-13b-v1:0:4k/9ntzuvjm70pa',\n",
       "  'foundationModelArn': 'arn:aws:bedrock:us-east-1::foundation-model/meta.llama2-13b-v1:0:4k',\n",
       "  'modelUnits': 1,\n",
       "  'desiredModelUnits': 1,\n",
       "  'status': 'InService',\n",
       "  'creationTime': datetime.datetime(2023, 11, 25, 7, 14, 44, 922000, tzinfo=tzlocal()),\n",
       "  'lastModifiedTime': datetime.datetime(2023, 11, 25, 7, 25, 3, 327000, tzinfo=tzlocal())},\n",
       " {'provisionedModelName': 'custom-command-1700891352-provisioned',\n",
       "  'provisionedModelArn': 'arn:aws:bedrock:us-east-1:079002598131:provisioned-model/iv3md8agh95i',\n",
       "  'modelArn': 'arn:aws:bedrock:us-east-1:079002598131:custom-model/cohere.command-light-text-v14:7:4k/4lhrdnpzkqzc',\n",
       "  'desiredModelArn': 'arn:aws:bedrock:us-east-1:079002598131:custom-model/cohere.command-light-text-v14:7:4k/4lhrdnpzkqzc',\n",
       "  'foundationModelArn': 'arn:aws:bedrock:us-east-1::foundation-model/cohere.command-light-text-v14:7:4k',\n",
       "  'modelUnits': 1,\n",
       "  'desiredModelUnits': 1,\n",
       "  'status': 'InService',\n",
       "  'creationTime': datetime.datetime(2023, 11, 25, 7, 12, 30, 477000, tzinfo=tzlocal()),\n",
       "  'lastModifiedTime': datetime.datetime(2023, 11, 25, 7, 19, 49, 712000, tzinfo=tzlocal())}]"
      ]
     },
     "execution_count": 50,
     "metadata": {},
     "output_type": "execute_result"
    }
   ],
   "source": [
    "bedrock.list_provisioned_model_throughputs()[\"provisionedModelSummaries\"]"
   ]
  },
  {
   "cell_type": "markdown",
   "id": "d22d9e7b-68f8-4162-97d6-fe8f43e3b421",
   "metadata": {
    "tags": []
   },
   "source": [
    "## GetProvisionedModelThroughput"
   ]
  },
  {
   "cell_type": "code",
   "execution_count": null,
   "id": "7ff67663-3956-44c5-9cbd-8bba90f77e7f",
   "metadata": {
    "tags": []
   },
   "outputs": [],
   "source": [
    "# import boto3\n",
    "# import json\n",
    "# import os\n",
    "# import sys\n",
    "\n",
    "# from utils import bedrock, print_ww\n",
    "\n",
    "# bedrock_admin = bedrock.get_bedrock_client(\n",
    "#     assumed_role=os.environ.get(\"BEDROCK_ASSUME_ROLE\", None),\n",
    "#     region=os.environ.get(\"AWS_DEFAULT_REGION\", None),\n",
    "#     runtime=False  # Needed for control plane\n",
    "# )\n",
    "\n",
    "# bedrock_runtime = bedrock.get_bedrock_client(\n",
    "#     assumed_role=os.environ.get(\"BEDROCK_ASSUME_ROLE\", None),\n",
    "#     region=os.environ.get(\"AWS_DEFAULT_REGION\", None),\n",
    "#     runtime=True  # Needed for control plane\n",
    "# )"
   ]
  },
  {
   "cell_type": "code",
   "execution_count": 51,
   "id": "c1308145-1e5a-474e-ad82-138de065f16e",
   "metadata": {
    "tags": []
   },
   "outputs": [],
   "source": [
    "#provisioned_model_name = \"<YOUR_PROVISIONED_MODEL_NAME>\" # e.g. custom-titan-1698257909-provisioned\n",
    "#provisioned_model_name = \"custom-titan-1700411048-provisioned\" \n",
    "#provisioned_model_name = \"custom-llama2-1701028200-provisioned\""
   ]
  },
  {
   "cell_type": "code",
   "execution_count": 52,
   "id": "61669df7-a58d-4f86-bb8c-a9319ca52c46",
   "metadata": {
    "tags": []
   },
   "outputs": [
    {
     "data": {
      "text/plain": [
       "'arn:aws:bedrock:us-east-1:079002598131:provisioned-model/qicn3gbfoq04'"
      ]
     },
     "execution_count": 52,
     "metadata": {},
     "output_type": "execute_result"
    }
   ],
   "source": [
    "provisioned_model_arn = bedrock.get_provisioned_model_throughput(\n",
    "     provisionedModelId=provisioned_model_name)[\"provisionedModelArn\"]\n",
    "provisioned_model_arn"
   ]
  },
  {
   "cell_type": "code",
   "execution_count": 53,
   "id": "8b15e071-9f84-4a0b-af8c-2f94875fbefe",
   "metadata": {
    "tags": []
   },
   "outputs": [
    {
     "data": {
      "text/plain": [
       "'Creating'"
      ]
     },
     "execution_count": 53,
     "metadata": {},
     "output_type": "execute_result"
    }
   ],
   "source": [
    "deployment_status = bedrock.get_provisioned_model_throughput(\n",
    "    provisionedModelId=provisioned_model_name)[\"status\"]\n",
    "deployment_status"
   ]
  },
  {
   "cell_type": "markdown",
   "id": "93817fcb-22d3-4c85-9ab5-c78fd67b5a16",
   "metadata": {},
   "source": [
    "## The next cell might run for ~10min"
   ]
  },
  {
   "cell_type": "code",
   "execution_count": 54,
   "id": "b22987e2-82fe-4550-9ecd-d13004f0919f",
   "metadata": {
    "tags": []
   },
   "outputs": [
    {
     "name": "stdout",
     "output_type": "stream",
     "text": [
      "Creating\n",
      "Creating\n",
      "Creating\n",
      "Creating\n",
      "Creating\n",
      "Creating\n",
      "Creating\n",
      "Creating\n",
      "Creating\n",
      "Creating\n",
      "Creating\n",
      "Creating\n",
      "Creating\n",
      "Creating\n",
      "Creating\n",
      "Creating\n",
      "Creating\n",
      "Creating\n",
      "Creating\n",
      "Creating\n",
      "InService\n"
     ]
    }
   ],
   "source": [
    "import time\n",
    "\n",
    "deployment_status = bedrock.get_provisioned_model_throughput(\n",
    "    provisionedModelId=provisioned_model_name)[\"status\"]\n",
    "\n",
    "while deployment_status == \"Creating\":\n",
    "    \n",
    "    print(deployment_status)\n",
    "    time.sleep(30)\n",
    "    deployment_status = bedrock.get_provisioned_model_throughput(\n",
    "        provisionedModelId=provisioned_model_name)[\"status\"]  \n",
    "    \n",
    "print(deployment_status)"
   ]
  },
  {
   "cell_type": "markdown",
   "id": "5364ddd6-8ad2-47c8-90b3-e518be36a329",
   "metadata": {},
   "source": [
    "# Qualitative Results with Zero Shot Inference BEFORE and AFTER Fine-Tuning\n",
    "\n",
    "As with many GenAI applications, a qualitative approach where you ask yourself the question \"is my model behaving the way it is supposed to?\" is usually a good starting point. In the example below (the same one we started this notebook with), you can see how the fine-tuned model is able to create a reasonable summary of the dialogue compared to the original inability to understand what is being asked of the model."
   ]
  },
  {
   "cell_type": "markdown",
   "id": "b8edaaf4-b280-40bf-af81-deb994390212",
   "metadata": {},
   "source": [
    "## Before Fine-Tuning"
   ]
  },
  {
   "cell_type": "code",
   "execution_count": 55,
   "id": "8cdb33a5-40b3-4d05-a493-c3ebbf764aec",
   "metadata": {
    "tags": []
   },
   "outputs": [],
   "source": [
    "prompt = \"Answer the following question:\\n\\nHow can prompt engineering go wrong?\\n\\nAnswer: \""
   ]
  },
  {
   "cell_type": "code",
   "execution_count": 56,
   "id": "589bd0fc-6c3c-4ea3-bc5f-0a0807266b26",
   "metadata": {
    "tags": []
   },
   "outputs": [],
   "source": [
    "chat_base_model_id = \"meta.llama2-13b-chat-v1\""
   ]
  },
  {
   "cell_type": "code",
   "execution_count": 57,
   "id": "48580efd-50ba-487c-b4d1-dce4a83a55cb",
   "metadata": {
    "tags": []
   },
   "outputs": [
    {
     "name": "stdout",
     "output_type": "stream",
     "text": [
      "Prompt engineering, like any other AI technique, can go wrong if not done carefully and responsibly. Here are some ways in which prompt engineering can go wrong:\n",
      "\n",
      "1. Biased prompts: If the prompts are biased or discriminatory, the AI model may learn to replicate and even amplify these biases. This can lead to unfair or discriminatory outcomes, which can have serious consequences in areas like hiring, lending, or criminal justice.\n",
      "2. Misleading prompts: If the prompts are misleading or inaccurate, the AI model may learn to generate incorrect or misleading responses. This can be particularly problematic in areas like healthcare, finance, or legal advice, where accurate information is critical.\n",
      "3. Overly broad prompts: If the prompts are too broad or open-ended, the AI model may struggle to generate relevant or useful responses. This can lead to wasted time and resources, and may not provide the desired results.\n",
      "4. Overly narrow prompts: If the prompts are too narrow or specific, the AI model may not be able to generalize or adapt to new situations. This can limit the usefulness of the AI model, and may not provide the desired results.\n",
      "5. Lack of domain knowledge: If the prompts do not take into account the domain knowledge or expertise of the AI model, the model may not be able to generate accurate or relevant responses. This can lead to frustration and disappointment, and may not provide the desired results.\n",
      "6. Unclear or ambiguous prompts: If the prompts are unclear or ambiguous, the AI model may struggle to understand what is being asked. This can lead to confusion, frustration, and may not provide the desired results.\n",
      "7. Inadequate testing: If the prompts are not adequately tested, the AI model may not be able to handle a wide range of inputs or scenarios. This can lead to unexpected or undesirable outcomes, and may not provide the desired results.\n",
      "8. Over-reliance on prompt engineering: If prompt engineering is over-relied upon, it may not be used in conjunction with other AI techniques, such as data preprocessing, feature engineering, or model selection. This can limit the effectiveness of the AI system, and may not provide the desired results.\n",
      "9.\n"
     ]
    }
   ],
   "source": [
    "body = {\n",
    "    \"prompt\": prompt,\n",
    "    \"temperature\": 0.5,\n",
    "    \"top_p\": 0.9,\n",
    "    \"max_gen_len\": 512,\n",
    "}\n",
    "\n",
    "response = bedrock_runtime.invoke_model(\n",
    "    modelId=chat_base_model_id, \n",
    "    body=json.dumps(body)\n",
    ")\n",
    "\n",
    "response_body = response[\"body\"].read().decode('utf8')\n",
    "print(json.loads(response_body)[\"generation\"])"
   ]
  },
  {
   "cell_type": "markdown",
   "id": "4f0ff33a-6047-47f7-9550-06148c66cabb",
   "metadata": {},
   "source": [
    "## After Fine-Tuning"
   ]
  },
  {
   "cell_type": "code",
   "execution_count": 58,
   "id": "a8ef4202-e6e8-4f65-bb06-4c2309e1823f",
   "metadata": {},
   "outputs": [
    {
     "name": "stdout",
     "output_type": "stream",
     "text": [
      "Prompt engineering can go wrong if the model is misaligned, leading to undesired responses.\n"
     ]
    }
   ],
   "source": [
    "body = {\n",
    "    \"prompt\": prompt,\n",
    "    \"temperature\": 0.5,\n",
    "    \"top_p\": 0.9,\n",
    "    \"max_gen_len\": 512,\n",
    "}\n",
    "\n",
    "response = bedrock_runtime.invoke_model(\n",
    "    modelId=provisioned_model_arn, \n",
    "    body=json.dumps(body)\n",
    ")\n",
    "\n",
    "response_body = response[\"body\"].read().decode('utf8')\n",
    "print(json.loads(response_body)[\"generation\"])"
   ]
  },
  {
   "cell_type": "markdown",
   "id": "36f62c91-c793-439d-b3b4-66f6eb0b0c1b",
   "metadata": {},
   "source": [
    "## Delete Provisioned Throughput"
   ]
  },
  {
   "cell_type": "markdown",
   "id": "72cdbf87-b454-410a-9f11-fb42c17ed159",
   "metadata": {},
   "source": [
    "When you're done testing, you can delete Provisioned Throughput to stop charges"
   ]
  },
  {
   "cell_type": "code",
   "execution_count": null,
   "id": "3ad633b8-db9c-43a9-b2ab-b39bc7b3ee97",
   "metadata": {
    "tags": []
   },
   "outputs": [],
   "source": [
    "# bedrock.delete_provisioned_model_throughput(\n",
    "#     provisionedModelId = provisioned_model_name\n",
    "# )"
   ]
  }
 ],
 "metadata": {
  "availableInstances": [
   {
    "_defaultOrder": 0,
    "_isFastLaunch": true,
    "category": "General purpose",
    "gpuNum": 0,
    "hideHardwareSpecs": false,
    "memoryGiB": 4,
    "name": "ml.t3.medium",
    "vcpuNum": 2
   },
   {
    "_defaultOrder": 1,
    "_isFastLaunch": false,
    "category": "General purpose",
    "gpuNum": 0,
    "hideHardwareSpecs": false,
    "memoryGiB": 8,
    "name": "ml.t3.large",
    "vcpuNum": 2
   },
   {
    "_defaultOrder": 2,
    "_isFastLaunch": false,
    "category": "General purpose",
    "gpuNum": 0,
    "hideHardwareSpecs": false,
    "memoryGiB": 16,
    "name": "ml.t3.xlarge",
    "vcpuNum": 4
   },
   {
    "_defaultOrder": 3,
    "_isFastLaunch": false,
    "category": "General purpose",
    "gpuNum": 0,
    "hideHardwareSpecs": false,
    "memoryGiB": 32,
    "name": "ml.t3.2xlarge",
    "vcpuNum": 8
   },
   {
    "_defaultOrder": 4,
    "_isFastLaunch": true,
    "category": "General purpose",
    "gpuNum": 0,
    "hideHardwareSpecs": false,
    "memoryGiB": 8,
    "name": "ml.m5.large",
    "vcpuNum": 2
   },
   {
    "_defaultOrder": 5,
    "_isFastLaunch": false,
    "category": "General purpose",
    "gpuNum": 0,
    "hideHardwareSpecs": false,
    "memoryGiB": 16,
    "name": "ml.m5.xlarge",
    "vcpuNum": 4
   },
   {
    "_defaultOrder": 6,
    "_isFastLaunch": false,
    "category": "General purpose",
    "gpuNum": 0,
    "hideHardwareSpecs": false,
    "memoryGiB": 32,
    "name": "ml.m5.2xlarge",
    "vcpuNum": 8
   },
   {
    "_defaultOrder": 7,
    "_isFastLaunch": false,
    "category": "General purpose",
    "gpuNum": 0,
    "hideHardwareSpecs": false,
    "memoryGiB": 64,
    "name": "ml.m5.4xlarge",
    "vcpuNum": 16
   },
   {
    "_defaultOrder": 8,
    "_isFastLaunch": false,
    "category": "General purpose",
    "gpuNum": 0,
    "hideHardwareSpecs": false,
    "memoryGiB": 128,
    "name": "ml.m5.8xlarge",
    "vcpuNum": 32
   },
   {
    "_defaultOrder": 9,
    "_isFastLaunch": false,
    "category": "General purpose",
    "gpuNum": 0,
    "hideHardwareSpecs": false,
    "memoryGiB": 192,
    "name": "ml.m5.12xlarge",
    "vcpuNum": 48
   },
   {
    "_defaultOrder": 10,
    "_isFastLaunch": false,
    "category": "General purpose",
    "gpuNum": 0,
    "hideHardwareSpecs": false,
    "memoryGiB": 256,
    "name": "ml.m5.16xlarge",
    "vcpuNum": 64
   },
   {
    "_defaultOrder": 11,
    "_isFastLaunch": false,
    "category": "General purpose",
    "gpuNum": 0,
    "hideHardwareSpecs": false,
    "memoryGiB": 384,
    "name": "ml.m5.24xlarge",
    "vcpuNum": 96
   },
   {
    "_defaultOrder": 12,
    "_isFastLaunch": false,
    "category": "General purpose",
    "gpuNum": 0,
    "hideHardwareSpecs": false,
    "memoryGiB": 8,
    "name": "ml.m5d.large",
    "vcpuNum": 2
   },
   {
    "_defaultOrder": 13,
    "_isFastLaunch": false,
    "category": "General purpose",
    "gpuNum": 0,
    "hideHardwareSpecs": false,
    "memoryGiB": 16,
    "name": "ml.m5d.xlarge",
    "vcpuNum": 4
   },
   {
    "_defaultOrder": 14,
    "_isFastLaunch": false,
    "category": "General purpose",
    "gpuNum": 0,
    "hideHardwareSpecs": false,
    "memoryGiB": 32,
    "name": "ml.m5d.2xlarge",
    "vcpuNum": 8
   },
   {
    "_defaultOrder": 15,
    "_isFastLaunch": false,
    "category": "General purpose",
    "gpuNum": 0,
    "hideHardwareSpecs": false,
    "memoryGiB": 64,
    "name": "ml.m5d.4xlarge",
    "vcpuNum": 16
   },
   {
    "_defaultOrder": 16,
    "_isFastLaunch": false,
    "category": "General purpose",
    "gpuNum": 0,
    "hideHardwareSpecs": false,
    "memoryGiB": 128,
    "name": "ml.m5d.8xlarge",
    "vcpuNum": 32
   },
   {
    "_defaultOrder": 17,
    "_isFastLaunch": false,
    "category": "General purpose",
    "gpuNum": 0,
    "hideHardwareSpecs": false,
    "memoryGiB": 192,
    "name": "ml.m5d.12xlarge",
    "vcpuNum": 48
   },
   {
    "_defaultOrder": 18,
    "_isFastLaunch": false,
    "category": "General purpose",
    "gpuNum": 0,
    "hideHardwareSpecs": false,
    "memoryGiB": 256,
    "name": "ml.m5d.16xlarge",
    "vcpuNum": 64
   },
   {
    "_defaultOrder": 19,
    "_isFastLaunch": false,
    "category": "General purpose",
    "gpuNum": 0,
    "hideHardwareSpecs": false,
    "memoryGiB": 384,
    "name": "ml.m5d.24xlarge",
    "vcpuNum": 96
   },
   {
    "_defaultOrder": 20,
    "_isFastLaunch": false,
    "category": "General purpose",
    "gpuNum": 0,
    "hideHardwareSpecs": true,
    "memoryGiB": 0,
    "name": "ml.geospatial.interactive",
    "supportedImageNames": [
     "sagemaker-geospatial-v1-0"
    ],
    "vcpuNum": 0
   },
   {
    "_defaultOrder": 21,
    "_isFastLaunch": true,
    "category": "Compute optimized",
    "gpuNum": 0,
    "hideHardwareSpecs": false,
    "memoryGiB": 4,
    "name": "ml.c5.large",
    "vcpuNum": 2
   },
   {
    "_defaultOrder": 22,
    "_isFastLaunch": false,
    "category": "Compute optimized",
    "gpuNum": 0,
    "hideHardwareSpecs": false,
    "memoryGiB": 8,
    "name": "ml.c5.xlarge",
    "vcpuNum": 4
   },
   {
    "_defaultOrder": 23,
    "_isFastLaunch": false,
    "category": "Compute optimized",
    "gpuNum": 0,
    "hideHardwareSpecs": false,
    "memoryGiB": 16,
    "name": "ml.c5.2xlarge",
    "vcpuNum": 8
   },
   {
    "_defaultOrder": 24,
    "_isFastLaunch": false,
    "category": "Compute optimized",
    "gpuNum": 0,
    "hideHardwareSpecs": false,
    "memoryGiB": 32,
    "name": "ml.c5.4xlarge",
    "vcpuNum": 16
   },
   {
    "_defaultOrder": 25,
    "_isFastLaunch": false,
    "category": "Compute optimized",
    "gpuNum": 0,
    "hideHardwareSpecs": false,
    "memoryGiB": 72,
    "name": "ml.c5.9xlarge",
    "vcpuNum": 36
   },
   {
    "_defaultOrder": 26,
    "_isFastLaunch": false,
    "category": "Compute optimized",
    "gpuNum": 0,
    "hideHardwareSpecs": false,
    "memoryGiB": 96,
    "name": "ml.c5.12xlarge",
    "vcpuNum": 48
   },
   {
    "_defaultOrder": 27,
    "_isFastLaunch": false,
    "category": "Compute optimized",
    "gpuNum": 0,
    "hideHardwareSpecs": false,
    "memoryGiB": 144,
    "name": "ml.c5.18xlarge",
    "vcpuNum": 72
   },
   {
    "_defaultOrder": 28,
    "_isFastLaunch": false,
    "category": "Compute optimized",
    "gpuNum": 0,
    "hideHardwareSpecs": false,
    "memoryGiB": 192,
    "name": "ml.c5.24xlarge",
    "vcpuNum": 96
   },
   {
    "_defaultOrder": 29,
    "_isFastLaunch": true,
    "category": "Accelerated computing",
    "gpuNum": 1,
    "hideHardwareSpecs": false,
    "memoryGiB": 16,
    "name": "ml.g4dn.xlarge",
    "vcpuNum": 4
   },
   {
    "_defaultOrder": 30,
    "_isFastLaunch": false,
    "category": "Accelerated computing",
    "gpuNum": 1,
    "hideHardwareSpecs": false,
    "memoryGiB": 32,
    "name": "ml.g4dn.2xlarge",
    "vcpuNum": 8
   },
   {
    "_defaultOrder": 31,
    "_isFastLaunch": false,
    "category": "Accelerated computing",
    "gpuNum": 1,
    "hideHardwareSpecs": false,
    "memoryGiB": 64,
    "name": "ml.g4dn.4xlarge",
    "vcpuNum": 16
   },
   {
    "_defaultOrder": 32,
    "_isFastLaunch": false,
    "category": "Accelerated computing",
    "gpuNum": 1,
    "hideHardwareSpecs": false,
    "memoryGiB": 128,
    "name": "ml.g4dn.8xlarge",
    "vcpuNum": 32
   },
   {
    "_defaultOrder": 33,
    "_isFastLaunch": false,
    "category": "Accelerated computing",
    "gpuNum": 4,
    "hideHardwareSpecs": false,
    "memoryGiB": 192,
    "name": "ml.g4dn.12xlarge",
    "vcpuNum": 48
   },
   {
    "_defaultOrder": 34,
    "_isFastLaunch": false,
    "category": "Accelerated computing",
    "gpuNum": 1,
    "hideHardwareSpecs": false,
    "memoryGiB": 256,
    "name": "ml.g4dn.16xlarge",
    "vcpuNum": 64
   },
   {
    "_defaultOrder": 35,
    "_isFastLaunch": false,
    "category": "Accelerated computing",
    "gpuNum": 1,
    "hideHardwareSpecs": false,
    "memoryGiB": 61,
    "name": "ml.p3.2xlarge",
    "vcpuNum": 8
   },
   {
    "_defaultOrder": 36,
    "_isFastLaunch": false,
    "category": "Accelerated computing",
    "gpuNum": 4,
    "hideHardwareSpecs": false,
    "memoryGiB": 244,
    "name": "ml.p3.8xlarge",
    "vcpuNum": 32
   },
   {
    "_defaultOrder": 37,
    "_isFastLaunch": false,
    "category": "Accelerated computing",
    "gpuNum": 8,
    "hideHardwareSpecs": false,
    "memoryGiB": 488,
    "name": "ml.p3.16xlarge",
    "vcpuNum": 64
   },
   {
    "_defaultOrder": 38,
    "_isFastLaunch": false,
    "category": "Accelerated computing",
    "gpuNum": 8,
    "hideHardwareSpecs": false,
    "memoryGiB": 768,
    "name": "ml.p3dn.24xlarge",
    "vcpuNum": 96
   },
   {
    "_defaultOrder": 39,
    "_isFastLaunch": false,
    "category": "Memory Optimized",
    "gpuNum": 0,
    "hideHardwareSpecs": false,
    "memoryGiB": 16,
    "name": "ml.r5.large",
    "vcpuNum": 2
   },
   {
    "_defaultOrder": 40,
    "_isFastLaunch": false,
    "category": "Memory Optimized",
    "gpuNum": 0,
    "hideHardwareSpecs": false,
    "memoryGiB": 32,
    "name": "ml.r5.xlarge",
    "vcpuNum": 4
   },
   {
    "_defaultOrder": 41,
    "_isFastLaunch": false,
    "category": "Memory Optimized",
    "gpuNum": 0,
    "hideHardwareSpecs": false,
    "memoryGiB": 64,
    "name": "ml.r5.2xlarge",
    "vcpuNum": 8
   },
   {
    "_defaultOrder": 42,
    "_isFastLaunch": false,
    "category": "Memory Optimized",
    "gpuNum": 0,
    "hideHardwareSpecs": false,
    "memoryGiB": 128,
    "name": "ml.r5.4xlarge",
    "vcpuNum": 16
   },
   {
    "_defaultOrder": 43,
    "_isFastLaunch": false,
    "category": "Memory Optimized",
    "gpuNum": 0,
    "hideHardwareSpecs": false,
    "memoryGiB": 256,
    "name": "ml.r5.8xlarge",
    "vcpuNum": 32
   },
   {
    "_defaultOrder": 44,
    "_isFastLaunch": false,
    "category": "Memory Optimized",
    "gpuNum": 0,
    "hideHardwareSpecs": false,
    "memoryGiB": 384,
    "name": "ml.r5.12xlarge",
    "vcpuNum": 48
   },
   {
    "_defaultOrder": 45,
    "_isFastLaunch": false,
    "category": "Memory Optimized",
    "gpuNum": 0,
    "hideHardwareSpecs": false,
    "memoryGiB": 512,
    "name": "ml.r5.16xlarge",
    "vcpuNum": 64
   },
   {
    "_defaultOrder": 46,
    "_isFastLaunch": false,
    "category": "Memory Optimized",
    "gpuNum": 0,
    "hideHardwareSpecs": false,
    "memoryGiB": 768,
    "name": "ml.r5.24xlarge",
    "vcpuNum": 96
   },
   {
    "_defaultOrder": 47,
    "_isFastLaunch": false,
    "category": "Accelerated computing",
    "gpuNum": 1,
    "hideHardwareSpecs": false,
    "memoryGiB": 16,
    "name": "ml.g5.xlarge",
    "vcpuNum": 4
   },
   {
    "_defaultOrder": 48,
    "_isFastLaunch": false,
    "category": "Accelerated computing",
    "gpuNum": 1,
    "hideHardwareSpecs": false,
    "memoryGiB": 32,
    "name": "ml.g5.2xlarge",
    "vcpuNum": 8
   },
   {
    "_defaultOrder": 49,
    "_isFastLaunch": false,
    "category": "Accelerated computing",
    "gpuNum": 1,
    "hideHardwareSpecs": false,
    "memoryGiB": 64,
    "name": "ml.g5.4xlarge",
    "vcpuNum": 16
   },
   {
    "_defaultOrder": 50,
    "_isFastLaunch": false,
    "category": "Accelerated computing",
    "gpuNum": 1,
    "hideHardwareSpecs": false,
    "memoryGiB": 128,
    "name": "ml.g5.8xlarge",
    "vcpuNum": 32
   },
   {
    "_defaultOrder": 51,
    "_isFastLaunch": false,
    "category": "Accelerated computing",
    "gpuNum": 1,
    "hideHardwareSpecs": false,
    "memoryGiB": 256,
    "name": "ml.g5.16xlarge",
    "vcpuNum": 64
   },
   {
    "_defaultOrder": 52,
    "_isFastLaunch": false,
    "category": "Accelerated computing",
    "gpuNum": 4,
    "hideHardwareSpecs": false,
    "memoryGiB": 192,
    "name": "ml.g5.12xlarge",
    "vcpuNum": 48
   },
   {
    "_defaultOrder": 53,
    "_isFastLaunch": false,
    "category": "Accelerated computing",
    "gpuNum": 4,
    "hideHardwareSpecs": false,
    "memoryGiB": 384,
    "name": "ml.g5.24xlarge",
    "vcpuNum": 96
   },
   {
    "_defaultOrder": 54,
    "_isFastLaunch": false,
    "category": "Accelerated computing",
    "gpuNum": 8,
    "hideHardwareSpecs": false,
    "memoryGiB": 768,
    "name": "ml.g5.48xlarge",
    "vcpuNum": 192
   },
   {
    "_defaultOrder": 55,
    "_isFastLaunch": false,
    "category": "Accelerated computing",
    "gpuNum": 8,
    "hideHardwareSpecs": false,
    "memoryGiB": 1152,
    "name": "ml.p4d.24xlarge",
    "vcpuNum": 96
   },
   {
    "_defaultOrder": 56,
    "_isFastLaunch": false,
    "category": "Accelerated computing",
    "gpuNum": 8,
    "hideHardwareSpecs": false,
    "memoryGiB": 1152,
    "name": "ml.p4de.24xlarge",
    "vcpuNum": 96
   },
   {
    "_defaultOrder": 57,
    "_isFastLaunch": false,
    "category": "Accelerated computing",
    "gpuNum": 0,
    "hideHardwareSpecs": false,
    "memoryGiB": 32,
    "name": "ml.trn1.2xlarge",
    "vcpuNum": 8
   },
   {
    "_defaultOrder": 58,
    "_isFastLaunch": false,
    "category": "Accelerated computing",
    "gpuNum": 0,
    "hideHardwareSpecs": false,
    "memoryGiB": 512,
    "name": "ml.trn1.32xlarge",
    "vcpuNum": 128
   },
   {
    "_defaultOrder": 59,
    "_isFastLaunch": false,
    "category": "Accelerated computing",
    "gpuNum": 0,
    "hideHardwareSpecs": false,
    "memoryGiB": 512,
    "name": "ml.trn1n.32xlarge",
    "vcpuNum": 128
   }
  ],
  "forced_instance_type": "ml.t3.medium",
  "forced_lcc_arn": "",
  "instance_type": "ml.m5.2xlarge",
  "kernelspec": {
   "display_name": "Python 3 (Data Science 3.0)",
   "language": "python",
   "name": "python3__SAGEMAKER_INTERNAL__arn:aws:sagemaker:us-east-1:081325390199:image/sagemaker-data-science-310-v1"
  },
  "language_info": {
   "codemirror_mode": {
    "name": "ipython",
    "version": 3
   },
   "file_extension": ".py",
   "mimetype": "text/x-python",
   "name": "python",
   "nbconvert_exporter": "python",
   "pygments_lexer": "ipython3",
   "version": "3.10.6"
  }
 },
 "nbformat": 4,
 "nbformat_minor": 5
}
